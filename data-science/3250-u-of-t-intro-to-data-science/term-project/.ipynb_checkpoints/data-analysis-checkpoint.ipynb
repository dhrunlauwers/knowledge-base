{
 "cells": [
  {
   "cell_type": "markdown",
   "metadata": {},
   "source": [
    "# Museum of Modern Art - Collection Analysis\n",
    "The following notebook will take a look at the artists and artworks part of the MoMA collection in NYC."
   ]
  },
  {
   "cell_type": "code",
   "execution_count": 212,
   "metadata": {},
   "outputs": [],
   "source": [
    "import pandas as pd\n",
    "import numpy as np\n",
    "import matplotlib.pyplot as plt"
   ]
  },
  {
   "cell_type": "markdown",
   "metadata": {},
   "source": [
    "## Reading in data for arists, artworks, exhibitions and department heads"
   ]
  },
  {
   "cell_type": "code",
   "execution_count": 213,
   "metadata": {},
   "outputs": [],
   "source": [
    "artists = pd.read_csv('data-sets/Artists.txt')"
   ]
  },
  {
   "cell_type": "code",
   "execution_count": 214,
   "metadata": {},
   "outputs": [],
   "source": [
    "artworks = pd.read_csv('data-sets/Artworks.txt')"
   ]
  },
  {
   "cell_type": "code",
   "execution_count": 251,
   "metadata": {},
   "outputs": [],
   "source": [
    "exhibitions = pd.read_csv('data-sets/MoMAExhibitions1929to1989.txt', encoding='latin-1')"
   ]
  },
  {
   "cell_type": "code",
   "execution_count": 252,
   "metadata": {},
   "outputs": [],
   "source": [
    "heads = pd.read_csv('data-sets/MoMADirectorsDepartmentHeads.txt', encoding='latin-1')"
   ]
  },
  {
   "cell_type": "markdown",
   "metadata": {},
   "source": [
    "## Examining data before cleanup"
   ]
  },
  {
   "cell_type": "code",
   "execution_count": 215,
   "metadata": {},
   "outputs": [
    {
     "data": {
      "text/html": [
       "<div>\n",
       "<style scoped>\n",
       "    .dataframe tbody tr th:only-of-type {\n",
       "        vertical-align: middle;\n",
       "    }\n",
       "\n",
       "    .dataframe tbody tr th {\n",
       "        vertical-align: top;\n",
       "    }\n",
       "\n",
       "    .dataframe thead th {\n",
       "        text-align: right;\n",
       "    }\n",
       "</style>\n",
       "<table border=\"1\" class=\"dataframe\">\n",
       "  <thead>\n",
       "    <tr style=\"text-align: right;\">\n",
       "      <th></th>\n",
       "      <th>ConstituentID</th>\n",
       "      <th>DisplayName</th>\n",
       "      <th>ArtistBio</th>\n",
       "      <th>Nationality</th>\n",
       "      <th>Gender</th>\n",
       "      <th>BeginDate</th>\n",
       "      <th>EndDate</th>\n",
       "      <th>Wiki QID</th>\n",
       "      <th>ULAN</th>\n",
       "    </tr>\n",
       "  </thead>\n",
       "  <tbody>\n",
       "    <tr>\n",
       "      <th>0</th>\n",
       "      <td>1</td>\n",
       "      <td>Robert Arneson</td>\n",
       "      <td>American, 1930–1992</td>\n",
       "      <td>American</td>\n",
       "      <td>Male</td>\n",
       "      <td>1930</td>\n",
       "      <td>1992</td>\n",
       "      <td>NaN</td>\n",
       "      <td>NaN</td>\n",
       "    </tr>\n",
       "    <tr>\n",
       "      <th>1</th>\n",
       "      <td>2</td>\n",
       "      <td>Doroteo Arnaiz</td>\n",
       "      <td>Spanish, born 1936</td>\n",
       "      <td>Spanish</td>\n",
       "      <td>Male</td>\n",
       "      <td>1936</td>\n",
       "      <td>0</td>\n",
       "      <td>NaN</td>\n",
       "      <td>NaN</td>\n",
       "    </tr>\n",
       "    <tr>\n",
       "      <th>2</th>\n",
       "      <td>3</td>\n",
       "      <td>Bill Arnold</td>\n",
       "      <td>American, born 1941</td>\n",
       "      <td>American</td>\n",
       "      <td>Male</td>\n",
       "      <td>1941</td>\n",
       "      <td>0</td>\n",
       "      <td>NaN</td>\n",
       "      <td>NaN</td>\n",
       "    </tr>\n",
       "    <tr>\n",
       "      <th>3</th>\n",
       "      <td>4</td>\n",
       "      <td>Charles Arnoldi</td>\n",
       "      <td>American, born 1946</td>\n",
       "      <td>American</td>\n",
       "      <td>Male</td>\n",
       "      <td>1946</td>\n",
       "      <td>0</td>\n",
       "      <td>Q1063584</td>\n",
       "      <td>500027998.0</td>\n",
       "    </tr>\n",
       "    <tr>\n",
       "      <th>4</th>\n",
       "      <td>5</td>\n",
       "      <td>Per Arnoldi</td>\n",
       "      <td>Danish, born 1941</td>\n",
       "      <td>Danish</td>\n",
       "      <td>Male</td>\n",
       "      <td>1941</td>\n",
       "      <td>0</td>\n",
       "      <td>NaN</td>\n",
       "      <td>NaN</td>\n",
       "    </tr>\n",
       "  </tbody>\n",
       "</table>\n",
       "</div>"
      ],
      "text/plain": [
       "   ConstituentID      DisplayName            ArtistBio Nationality Gender  \\\n",
       "0              1   Robert Arneson  American, 1930–1992    American   Male   \n",
       "1              2   Doroteo Arnaiz   Spanish, born 1936     Spanish   Male   \n",
       "2              3      Bill Arnold  American, born 1941    American   Male   \n",
       "3              4  Charles Arnoldi  American, born 1946    American   Male   \n",
       "4              5      Per Arnoldi    Danish, born 1941      Danish   Male   \n",
       "\n",
       "   BeginDate  EndDate  Wiki QID         ULAN  \n",
       "0       1930     1992       NaN          NaN  \n",
       "1       1936        0       NaN          NaN  \n",
       "2       1941        0       NaN          NaN  \n",
       "3       1946        0  Q1063584  500027998.0  \n",
       "4       1941        0       NaN          NaN  "
      ]
     },
     "execution_count": 215,
     "metadata": {},
     "output_type": "execute_result"
    }
   ],
   "source": [
    "artists.head()"
   ]
  },
  {
   "cell_type": "code",
   "execution_count": 216,
   "metadata": {},
   "outputs": [
    {
     "data": {
      "text/html": [
       "<div>\n",
       "<style scoped>\n",
       "    .dataframe tbody tr th:only-of-type {\n",
       "        vertical-align: middle;\n",
       "    }\n",
       "\n",
       "    .dataframe tbody tr th {\n",
       "        vertical-align: top;\n",
       "    }\n",
       "\n",
       "    .dataframe thead th {\n",
       "        text-align: right;\n",
       "    }\n",
       "</style>\n",
       "<table border=\"1\" class=\"dataframe\">\n",
       "  <thead>\n",
       "    <tr style=\"text-align: right;\">\n",
       "      <th></th>\n",
       "      <th>Title</th>\n",
       "      <th>Artist</th>\n",
       "      <th>ConstituentID</th>\n",
       "      <th>ArtistBio</th>\n",
       "      <th>Nationality</th>\n",
       "      <th>BeginDate</th>\n",
       "      <th>EndDate</th>\n",
       "      <th>Gender</th>\n",
       "      <th>Date</th>\n",
       "      <th>Medium</th>\n",
       "      <th>...</th>\n",
       "      <th>ThumbnailURL</th>\n",
       "      <th>Circumference (cm)</th>\n",
       "      <th>Depth (cm)</th>\n",
       "      <th>Diameter (cm)</th>\n",
       "      <th>Height (cm)</th>\n",
       "      <th>Length (cm)</th>\n",
       "      <th>Weight (kg)</th>\n",
       "      <th>Width (cm)</th>\n",
       "      <th>Seat Height (cm)</th>\n",
       "      <th>Duration (sec.)</th>\n",
       "    </tr>\n",
       "  </thead>\n",
       "  <tbody>\n",
       "    <tr>\n",
       "      <th>0</th>\n",
       "      <td>Ferdinandsbrücke Project, Vienna, Austria (Ele...</td>\n",
       "      <td>Otto Wagner</td>\n",
       "      <td>6210</td>\n",
       "      <td>(Austrian, 1841–1918)</td>\n",
       "      <td>(Austrian)</td>\n",
       "      <td>(1841)</td>\n",
       "      <td>(1918)</td>\n",
       "      <td>(Male)</td>\n",
       "      <td>1896</td>\n",
       "      <td>Ink and cut-and-pasted painted pages on paper</td>\n",
       "      <td>...</td>\n",
       "      <td>http://www.moma.org/media/W1siZiIsIjU5NDA1Il0s...</td>\n",
       "      <td>NaN</td>\n",
       "      <td>NaN</td>\n",
       "      <td>NaN</td>\n",
       "      <td>48.6000</td>\n",
       "      <td>NaN</td>\n",
       "      <td>NaN</td>\n",
       "      <td>168.9000</td>\n",
       "      <td>NaN</td>\n",
       "      <td>NaN</td>\n",
       "    </tr>\n",
       "    <tr>\n",
       "      <th>1</th>\n",
       "      <td>City of Music, National Superior Conservatory ...</td>\n",
       "      <td>Christian de Portzamparc</td>\n",
       "      <td>7470</td>\n",
       "      <td>(French, born 1944)</td>\n",
       "      <td>(French)</td>\n",
       "      <td>(1944)</td>\n",
       "      <td>(0)</td>\n",
       "      <td>(Male)</td>\n",
       "      <td>1987</td>\n",
       "      <td>Paint and colored pencil on print</td>\n",
       "      <td>...</td>\n",
       "      <td>http://www.moma.org/media/W1siZiIsIjk3Il0sWyJw...</td>\n",
       "      <td>NaN</td>\n",
       "      <td>NaN</td>\n",
       "      <td>NaN</td>\n",
       "      <td>40.6401</td>\n",
       "      <td>NaN</td>\n",
       "      <td>NaN</td>\n",
       "      <td>29.8451</td>\n",
       "      <td>NaN</td>\n",
       "      <td>NaN</td>\n",
       "    </tr>\n",
       "    <tr>\n",
       "      <th>2</th>\n",
       "      <td>Villa near Vienna Project, Outside Vienna, Aus...</td>\n",
       "      <td>Emil Hoppe</td>\n",
       "      <td>7605</td>\n",
       "      <td>(Austrian, 1876–1957)</td>\n",
       "      <td>(Austrian)</td>\n",
       "      <td>(1876)</td>\n",
       "      <td>(1957)</td>\n",
       "      <td>(Male)</td>\n",
       "      <td>1903</td>\n",
       "      <td>Graphite, pen, color pencil, ink, and gouache ...</td>\n",
       "      <td>...</td>\n",
       "      <td>http://www.moma.org/media/W1siZiIsIjk4Il0sWyJw...</td>\n",
       "      <td>NaN</td>\n",
       "      <td>NaN</td>\n",
       "      <td>NaN</td>\n",
       "      <td>34.3000</td>\n",
       "      <td>NaN</td>\n",
       "      <td>NaN</td>\n",
       "      <td>31.8000</td>\n",
       "      <td>NaN</td>\n",
       "      <td>NaN</td>\n",
       "    </tr>\n",
       "    <tr>\n",
       "      <th>3</th>\n",
       "      <td>The Manhattan Transcripts Project, New York, N...</td>\n",
       "      <td>Bernard Tschumi</td>\n",
       "      <td>7056</td>\n",
       "      <td>(French and Swiss, born Switzerland 1944)</td>\n",
       "      <td>()</td>\n",
       "      <td>(1944)</td>\n",
       "      <td>(0)</td>\n",
       "      <td>(Male)</td>\n",
       "      <td>1980</td>\n",
       "      <td>Photographic reproduction with colored synthet...</td>\n",
       "      <td>...</td>\n",
       "      <td>http://www.moma.org/media/W1siZiIsIjEyNCJdLFsi...</td>\n",
       "      <td>NaN</td>\n",
       "      <td>NaN</td>\n",
       "      <td>NaN</td>\n",
       "      <td>50.8000</td>\n",
       "      <td>NaN</td>\n",
       "      <td>NaN</td>\n",
       "      <td>50.8000</td>\n",
       "      <td>NaN</td>\n",
       "      <td>NaN</td>\n",
       "    </tr>\n",
       "    <tr>\n",
       "      <th>4</th>\n",
       "      <td>Villa, project, outside Vienna, Austria, Exter...</td>\n",
       "      <td>Emil Hoppe</td>\n",
       "      <td>7605</td>\n",
       "      <td>(Austrian, 1876–1957)</td>\n",
       "      <td>(Austrian)</td>\n",
       "      <td>(1876)</td>\n",
       "      <td>(1957)</td>\n",
       "      <td>(Male)</td>\n",
       "      <td>1903</td>\n",
       "      <td>Graphite, color pencil, ink, and gouache on tr...</td>\n",
       "      <td>...</td>\n",
       "      <td>http://www.moma.org/media/W1siZiIsIjEyNiJdLFsi...</td>\n",
       "      <td>NaN</td>\n",
       "      <td>NaN</td>\n",
       "      <td>NaN</td>\n",
       "      <td>38.4000</td>\n",
       "      <td>NaN</td>\n",
       "      <td>NaN</td>\n",
       "      <td>19.1000</td>\n",
       "      <td>NaN</td>\n",
       "      <td>NaN</td>\n",
       "    </tr>\n",
       "  </tbody>\n",
       "</table>\n",
       "<p>5 rows × 29 columns</p>\n",
       "</div>"
      ],
      "text/plain": [
       "                                               Title  \\\n",
       "0  Ferdinandsbrücke Project, Vienna, Austria (Ele...   \n",
       "1  City of Music, National Superior Conservatory ...   \n",
       "2  Villa near Vienna Project, Outside Vienna, Aus...   \n",
       "3  The Manhattan Transcripts Project, New York, N...   \n",
       "4  Villa, project, outside Vienna, Austria, Exter...   \n",
       "\n",
       "                     Artist ConstituentID  \\\n",
       "0               Otto Wagner          6210   \n",
       "1  Christian de Portzamparc          7470   \n",
       "2                Emil Hoppe          7605   \n",
       "3           Bernard Tschumi          7056   \n",
       "4                Emil Hoppe          7605   \n",
       "\n",
       "                                   ArtistBio Nationality BeginDate EndDate  \\\n",
       "0                      (Austrian, 1841–1918)  (Austrian)    (1841)  (1918)   \n",
       "1                        (French, born 1944)    (French)    (1944)     (0)   \n",
       "2                      (Austrian, 1876–1957)  (Austrian)    (1876)  (1957)   \n",
       "3  (French and Swiss, born Switzerland 1944)          ()    (1944)     (0)   \n",
       "4                      (Austrian, 1876–1957)  (Austrian)    (1876)  (1957)   \n",
       "\n",
       "   Gender  Date                                             Medium  ...  \\\n",
       "0  (Male)  1896      Ink and cut-and-pasted painted pages on paper  ...   \n",
       "1  (Male)  1987                  Paint and colored pencil on print  ...   \n",
       "2  (Male)  1903  Graphite, pen, color pencil, ink, and gouache ...  ...   \n",
       "3  (Male)  1980  Photographic reproduction with colored synthet...  ...   \n",
       "4  (Male)  1903  Graphite, color pencil, ink, and gouache on tr...  ...   \n",
       "\n",
       "                                        ThumbnailURL Circumference (cm)  \\\n",
       "0  http://www.moma.org/media/W1siZiIsIjU5NDA1Il0s...                NaN   \n",
       "1  http://www.moma.org/media/W1siZiIsIjk3Il0sWyJw...                NaN   \n",
       "2  http://www.moma.org/media/W1siZiIsIjk4Il0sWyJw...                NaN   \n",
       "3  http://www.moma.org/media/W1siZiIsIjEyNCJdLFsi...                NaN   \n",
       "4  http://www.moma.org/media/W1siZiIsIjEyNiJdLFsi...                NaN   \n",
       "\n",
       "  Depth (cm) Diameter (cm) Height (cm) Length (cm) Weight (kg)  Width (cm)  \\\n",
       "0        NaN           NaN     48.6000         NaN         NaN    168.9000   \n",
       "1        NaN           NaN     40.6401         NaN         NaN     29.8451   \n",
       "2        NaN           NaN     34.3000         NaN         NaN     31.8000   \n",
       "3        NaN           NaN     50.8000         NaN         NaN     50.8000   \n",
       "4        NaN           NaN     38.4000         NaN         NaN     19.1000   \n",
       "\n",
       "  Seat Height (cm) Duration (sec.)  \n",
       "0              NaN             NaN  \n",
       "1              NaN             NaN  \n",
       "2              NaN             NaN  \n",
       "3              NaN             NaN  \n",
       "4              NaN             NaN  \n",
       "\n",
       "[5 rows x 29 columns]"
      ]
     },
     "execution_count": 216,
     "metadata": {},
     "output_type": "execute_result"
    }
   ],
   "source": [
    "artworks.head()"
   ]
  },
  {
   "cell_type": "code",
   "execution_count": 253,
   "metadata": {},
   "outputs": [
    {
     "data": {
      "text/html": [
       "<div>\n",
       "<style scoped>\n",
       "    .dataframe tbody tr th:only-of-type {\n",
       "        vertical-align: middle;\n",
       "    }\n",
       "\n",
       "    .dataframe tbody tr th {\n",
       "        vertical-align: top;\n",
       "    }\n",
       "\n",
       "    .dataframe thead th {\n",
       "        text-align: right;\n",
       "    }\n",
       "</style>\n",
       "<table border=\"1\" class=\"dataframe\">\n",
       "  <thead>\n",
       "    <tr style=\"text-align: right;\">\n",
       "      <th></th>\n",
       "      <th>ExhibitionID</th>\n",
       "      <th>ExhibitionNumber</th>\n",
       "      <th>ExhibitionTitle</th>\n",
       "      <th>ExhibitionCitationDate</th>\n",
       "      <th>ExhibitionBeginDate</th>\n",
       "      <th>ExhibitionEndDate</th>\n",
       "      <th>ExhibitionSortOrder</th>\n",
       "      <th>ExhibitionURL</th>\n",
       "      <th>ExhibitionRole</th>\n",
       "      <th>ExhibitionRoleinPressRelease</th>\n",
       "      <th>...</th>\n",
       "      <th>Institution</th>\n",
       "      <th>Nationality</th>\n",
       "      <th>ConstituentBeginDate</th>\n",
       "      <th>ConstituentEndDate</th>\n",
       "      <th>ArtistBio</th>\n",
       "      <th>Gender</th>\n",
       "      <th>VIAFID</th>\n",
       "      <th>WikidataID</th>\n",
       "      <th>ULANID</th>\n",
       "      <th>ConstituentURL</th>\n",
       "    </tr>\n",
       "  </thead>\n",
       "  <tbody>\n",
       "    <tr>\n",
       "      <th>0</th>\n",
       "      <td>2557.0</td>\n",
       "      <td>1</td>\n",
       "      <td>Cézanne, Gauguin, Seurat, Van Gogh</td>\n",
       "      <td>[MoMA Exh. #1, November 7-December 7, 1929]</td>\n",
       "      <td>11/7/1929</td>\n",
       "      <td>12/7/1929</td>\n",
       "      <td>1.0</td>\n",
       "      <td>moma.org/calendar/exhibitions/1767</td>\n",
       "      <td>Curator</td>\n",
       "      <td>Director</td>\n",
       "      <td>...</td>\n",
       "      <td>NaN</td>\n",
       "      <td>American</td>\n",
       "      <td>1902.0</td>\n",
       "      <td>1981.0</td>\n",
       "      <td>American, 19021981</td>\n",
       "      <td>Male</td>\n",
       "      <td>109252853.0</td>\n",
       "      <td>Q711362</td>\n",
       "      <td>500241556.0</td>\n",
       "      <td>moma.org/artists/9168</td>\n",
       "    </tr>\n",
       "    <tr>\n",
       "      <th>1</th>\n",
       "      <td>2557.0</td>\n",
       "      <td>1</td>\n",
       "      <td>Cézanne, Gauguin, Seurat, Van Gogh</td>\n",
       "      <td>[MoMA Exh. #1, November 7-December 7, 1929]</td>\n",
       "      <td>11/7/1929</td>\n",
       "      <td>12/7/1929</td>\n",
       "      <td>1.0</td>\n",
       "      <td>moma.org/calendar/exhibitions/1767</td>\n",
       "      <td>Artist</td>\n",
       "      <td>Artist</td>\n",
       "      <td>...</td>\n",
       "      <td>NaN</td>\n",
       "      <td>French</td>\n",
       "      <td>1839.0</td>\n",
       "      <td>1906.0</td>\n",
       "      <td>French, 18391906</td>\n",
       "      <td>Male</td>\n",
       "      <td>39374836.0</td>\n",
       "      <td>Q35548</td>\n",
       "      <td>500004793.0</td>\n",
       "      <td>moma.org/artists/1053</td>\n",
       "    </tr>\n",
       "    <tr>\n",
       "      <th>2</th>\n",
       "      <td>2557.0</td>\n",
       "      <td>1</td>\n",
       "      <td>Cézanne, Gauguin, Seurat, Van Gogh</td>\n",
       "      <td>[MoMA Exh. #1, November 7-December 7, 1929]</td>\n",
       "      <td>11/7/1929</td>\n",
       "      <td>12/7/1929</td>\n",
       "      <td>1.0</td>\n",
       "      <td>moma.org/calendar/exhibitions/1767</td>\n",
       "      <td>Artist</td>\n",
       "      <td>Artist</td>\n",
       "      <td>...</td>\n",
       "      <td>NaN</td>\n",
       "      <td>French</td>\n",
       "      <td>1848.0</td>\n",
       "      <td>1903.0</td>\n",
       "      <td>French, 18481903</td>\n",
       "      <td>Male</td>\n",
       "      <td>27064953.0</td>\n",
       "      <td>Q37693</td>\n",
       "      <td>500011421.0</td>\n",
       "      <td>moma.org/artists/2098</td>\n",
       "    </tr>\n",
       "    <tr>\n",
       "      <th>3</th>\n",
       "      <td>2557.0</td>\n",
       "      <td>1</td>\n",
       "      <td>Cézanne, Gauguin, Seurat, Van Gogh</td>\n",
       "      <td>[MoMA Exh. #1, November 7-December 7, 1929]</td>\n",
       "      <td>11/7/1929</td>\n",
       "      <td>12/7/1929</td>\n",
       "      <td>1.0</td>\n",
       "      <td>moma.org/calendar/exhibitions/1767</td>\n",
       "      <td>Artist</td>\n",
       "      <td>Artist</td>\n",
       "      <td>...</td>\n",
       "      <td>NaN</td>\n",
       "      <td>Dutch</td>\n",
       "      <td>1853.0</td>\n",
       "      <td>1890.0</td>\n",
       "      <td>Dutch, 18531890</td>\n",
       "      <td>Male</td>\n",
       "      <td>9854560.0</td>\n",
       "      <td>Q5582</td>\n",
       "      <td>500115588.0</td>\n",
       "      <td>moma.org/artists/2206</td>\n",
       "    </tr>\n",
       "    <tr>\n",
       "      <th>4</th>\n",
       "      <td>2557.0</td>\n",
       "      <td>1</td>\n",
       "      <td>Cézanne, Gauguin, Seurat, Van Gogh</td>\n",
       "      <td>[MoMA Exh. #1, November 7-December 7, 1929]</td>\n",
       "      <td>11/7/1929</td>\n",
       "      <td>12/7/1929</td>\n",
       "      <td>1.0</td>\n",
       "      <td>moma.org/calendar/exhibitions/1767</td>\n",
       "      <td>Artist</td>\n",
       "      <td>Artist</td>\n",
       "      <td>...</td>\n",
       "      <td>NaN</td>\n",
       "      <td>French</td>\n",
       "      <td>1859.0</td>\n",
       "      <td>1891.0</td>\n",
       "      <td>French, 18591891</td>\n",
       "      <td>Male</td>\n",
       "      <td>24608076.0</td>\n",
       "      <td>Q34013</td>\n",
       "      <td>500008873.0</td>\n",
       "      <td>moma.org/artists/5358</td>\n",
       "    </tr>\n",
       "  </tbody>\n",
       "</table>\n",
       "<p>5 rows × 28 columns</p>\n",
       "</div>"
      ],
      "text/plain": [
       "   ExhibitionID ExhibitionNumber                     ExhibitionTitle  \\\n",
       "0        2557.0                1  Cézanne, Gauguin, Seurat, Van Gogh   \n",
       "1        2557.0                1  Cézanne, Gauguin, Seurat, Van Gogh   \n",
       "2        2557.0                1  Cézanne, Gauguin, Seurat, Van Gogh   \n",
       "3        2557.0                1  Cézanne, Gauguin, Seurat, Van Gogh   \n",
       "4        2557.0                1  Cézanne, Gauguin, Seurat, Van Gogh   \n",
       "\n",
       "                        ExhibitionCitationDate ExhibitionBeginDate  \\\n",
       "0  [MoMA Exh. #1, November 7-December 7, 1929]           11/7/1929   \n",
       "1  [MoMA Exh. #1, November 7-December 7, 1929]           11/7/1929   \n",
       "2  [MoMA Exh. #1, November 7-December 7, 1929]           11/7/1929   \n",
       "3  [MoMA Exh. #1, November 7-December 7, 1929]           11/7/1929   \n",
       "4  [MoMA Exh. #1, November 7-December 7, 1929]           11/7/1929   \n",
       "\n",
       "  ExhibitionEndDate  ExhibitionSortOrder                       ExhibitionURL  \\\n",
       "0         12/7/1929                  1.0  moma.org/calendar/exhibitions/1767   \n",
       "1         12/7/1929                  1.0  moma.org/calendar/exhibitions/1767   \n",
       "2         12/7/1929                  1.0  moma.org/calendar/exhibitions/1767   \n",
       "3         12/7/1929                  1.0  moma.org/calendar/exhibitions/1767   \n",
       "4         12/7/1929                  1.0  moma.org/calendar/exhibitions/1767   \n",
       "\n",
       "  ExhibitionRole ExhibitionRoleinPressRelease  ...  Institution Nationality  \\\n",
       "0        Curator                     Director  ...          NaN    American   \n",
       "1         Artist                       Artist  ...          NaN      French   \n",
       "2         Artist                       Artist  ...          NaN      French   \n",
       "3         Artist                       Artist  ...          NaN       Dutch   \n",
       "4         Artist                       Artist  ...          NaN      French   \n",
       "\n",
       "  ConstituentBeginDate ConstituentEndDate            ArtistBio Gender  \\\n",
       "0               1902.0             1981.0  American, 19021981   Male   \n",
       "1               1839.0             1906.0    French, 18391906   Male   \n",
       "2               1848.0             1903.0    French, 18481903   Male   \n",
       "3               1853.0             1890.0     Dutch, 18531890   Male   \n",
       "4               1859.0             1891.0    French, 18591891   Male   \n",
       "\n",
       "        VIAFID WikidataID       ULANID         ConstituentURL  \n",
       "0  109252853.0    Q711362  500241556.0  moma.org/artists/9168  \n",
       "1   39374836.0     Q35548  500004793.0  moma.org/artists/1053  \n",
       "2   27064953.0     Q37693  500011421.0  moma.org/artists/2098  \n",
       "3    9854560.0      Q5582  500115588.0  moma.org/artists/2206  \n",
       "4   24608076.0     Q34013  500008873.0  moma.org/artists/5358  \n",
       "\n",
       "[5 rows x 28 columns]"
      ]
     },
     "execution_count": 253,
     "metadata": {},
     "output_type": "execute_result"
    }
   ],
   "source": [
    "exhibitions.head()"
   ]
  },
  {
   "cell_type": "code",
   "execution_count": 254,
   "metadata": {},
   "outputs": [
    {
     "data": {
      "text/html": [
       "<div>\n",
       "<style scoped>\n",
       "    .dataframe tbody tr th:only-of-type {\n",
       "        vertical-align: middle;\n",
       "    }\n",
       "\n",
       "    .dataframe tbody tr th {\n",
       "        vertical-align: top;\n",
       "    }\n",
       "\n",
       "    .dataframe thead th {\n",
       "        text-align: right;\n",
       "    }\n",
       "</style>\n",
       "<table border=\"1\" class=\"dataframe\">\n",
       "  <thead>\n",
       "    <tr style=\"text-align: right;\">\n",
       "      <th></th>\n",
       "      <th>DepartmentFullName</th>\n",
       "      <th>DepartmentBeginYear</th>\n",
       "      <th>DepartmentEndYear</th>\n",
       "      <th>ConstituentID</th>\n",
       "      <th>DisplayName</th>\n",
       "      <th>PositionNote</th>\n",
       "      <th>PositionBeginYear</th>\n",
       "      <th>PositionEndYear</th>\n",
       "      <th>ConstituentType</th>\n",
       "      <th>AlphaSort</th>\n",
       "      <th>...</th>\n",
       "      <th>LastName</th>\n",
       "      <th>Suffix</th>\n",
       "      <th>Nationality</th>\n",
       "      <th>ConstituentBeginDate</th>\n",
       "      <th>ConstituentEndDate</th>\n",
       "      <th>ArtistBio</th>\n",
       "      <th>Gender</th>\n",
       "      <th>VIAFID</th>\n",
       "      <th>WikidataID</th>\n",
       "      <th>ULANID</th>\n",
       "    </tr>\n",
       "  </thead>\n",
       "  <tbody>\n",
       "    <tr>\n",
       "      <th>0</th>\n",
       "      <td>The Museum of Modern Art</td>\n",
       "      <td>1929</td>\n",
       "      <td>NaN</td>\n",
       "      <td>9168.0</td>\n",
       "      <td>Alfred H. Barr, Jr.</td>\n",
       "      <td>Director</td>\n",
       "      <td>1929</td>\n",
       "      <td>1943.0</td>\n",
       "      <td>Individual</td>\n",
       "      <td>Barr Alfred H. Jr.</td>\n",
       "      <td>...</td>\n",
       "      <td>Barr</td>\n",
       "      <td>Jr.</td>\n",
       "      <td>American</td>\n",
       "      <td>1902.0</td>\n",
       "      <td>1981.0</td>\n",
       "      <td>American, 1902â1981</td>\n",
       "      <td>Male</td>\n",
       "      <td>109252853.0</td>\n",
       "      <td>Q711362</td>\n",
       "      <td>500241556.0</td>\n",
       "    </tr>\n",
       "    <tr>\n",
       "      <th>1</th>\n",
       "      <td>The Museum of Modern Art</td>\n",
       "      <td>1929</td>\n",
       "      <td>NaN</td>\n",
       "      <td>10779.0</td>\n",
       "      <td>RenÃ© d'Harnoncourt</td>\n",
       "      <td>Director</td>\n",
       "      <td>1949</td>\n",
       "      <td>1968.0</td>\n",
       "      <td>Individual</td>\n",
       "      <td>d'Harnoncourt RenÃ©</td>\n",
       "      <td>...</td>\n",
       "      <td>d'Harnoncourt</td>\n",
       "      <td>NaN</td>\n",
       "      <td>American</td>\n",
       "      <td>1901.0</td>\n",
       "      <td>1968.0</td>\n",
       "      <td>American, 1901â1968</td>\n",
       "      <td>Male</td>\n",
       "      <td>176768.0</td>\n",
       "      <td>Q7312958</td>\n",
       "      <td>500071210.0</td>\n",
       "    </tr>\n",
       "    <tr>\n",
       "      <th>2</th>\n",
       "      <td>The Museum of Modern Art</td>\n",
       "      <td>1929</td>\n",
       "      <td>NaN</td>\n",
       "      <td>11389.0</td>\n",
       "      <td>Bates Lowry</td>\n",
       "      <td>Director</td>\n",
       "      <td>1968</td>\n",
       "      <td>1969.0</td>\n",
       "      <td>Individual</td>\n",
       "      <td>Lowry Bates</td>\n",
       "      <td>...</td>\n",
       "      <td>Lowry</td>\n",
       "      <td>NaN</td>\n",
       "      <td>American</td>\n",
       "      <td>1924.0</td>\n",
       "      <td>2004.0</td>\n",
       "      <td>American, 1924â2004</td>\n",
       "      <td>Male</td>\n",
       "      <td>71883331.0</td>\n",
       "      <td>Q4868805</td>\n",
       "      <td>500279878.0</td>\n",
       "    </tr>\n",
       "    <tr>\n",
       "      <th>3</th>\n",
       "      <td>The Museum of Modern Art</td>\n",
       "      <td>1929</td>\n",
       "      <td>NaN</td>\n",
       "      <td>NaN</td>\n",
       "      <td>John B. Hightower</td>\n",
       "      <td>Director</td>\n",
       "      <td>1970</td>\n",
       "      <td>1972.0</td>\n",
       "      <td>Individual</td>\n",
       "      <td>Hightower John B.</td>\n",
       "      <td>...</td>\n",
       "      <td>Hightower</td>\n",
       "      <td>NaN</td>\n",
       "      <td>American</td>\n",
       "      <td>1933.0</td>\n",
       "      <td>2013.0</td>\n",
       "      <td>American, 1933â2013</td>\n",
       "      <td>Male</td>\n",
       "      <td>65771126.0</td>\n",
       "      <td>Q15431531</td>\n",
       "      <td>NaN</td>\n",
       "    </tr>\n",
       "    <tr>\n",
       "      <th>4</th>\n",
       "      <td>The Museum of Modern Art</td>\n",
       "      <td>1929</td>\n",
       "      <td>NaN</td>\n",
       "      <td>13047.0</td>\n",
       "      <td>Richard E. Oldenburg</td>\n",
       "      <td>Director</td>\n",
       "      <td>1972</td>\n",
       "      <td>1994.0</td>\n",
       "      <td>Individual</td>\n",
       "      <td>Oldenburg Richard E.</td>\n",
       "      <td>...</td>\n",
       "      <td>Oldenburg</td>\n",
       "      <td>NaN</td>\n",
       "      <td>American</td>\n",
       "      <td>1933.0</td>\n",
       "      <td>NaN</td>\n",
       "      <td>American, born 1933</td>\n",
       "      <td>Male</td>\n",
       "      <td>22054670.0</td>\n",
       "      <td>Q7328159</td>\n",
       "      <td>NaN</td>\n",
       "    </tr>\n",
       "  </tbody>\n",
       "</table>\n",
       "<p>5 rows × 22 columns</p>\n",
       "</div>"
      ],
      "text/plain": [
       "         DepartmentFullName  DepartmentBeginYear  DepartmentEndYear  \\\n",
       "0  The Museum of Modern Art                 1929                NaN   \n",
       "1  The Museum of Modern Art                 1929                NaN   \n",
       "2  The Museum of Modern Art                 1929                NaN   \n",
       "3  The Museum of Modern Art                 1929                NaN   \n",
       "4  The Museum of Modern Art                 1929                NaN   \n",
       "\n",
       "   ConstituentID           DisplayName PositionNote  PositionBeginYear  \\\n",
       "0         9168.0   Alfred H. Barr, Jr.     Director               1929   \n",
       "1        10779.0   RenÃ© d'Harnoncourt     Director               1949   \n",
       "2        11389.0           Bates Lowry     Director               1968   \n",
       "3            NaN     John B. Hightower     Director               1970   \n",
       "4        13047.0  Richard E. Oldenburg     Director               1972   \n",
       "\n",
       "   PositionEndYear ConstituentType             AlphaSort  ...       LastName  \\\n",
       "0           1943.0      Individual    Barr Alfred H. Jr.  ...           Barr   \n",
       "1           1968.0      Individual   d'Harnoncourt RenÃ©  ...  d'Harnoncourt   \n",
       "2           1969.0      Individual           Lowry Bates  ...          Lowry   \n",
       "3           1972.0      Individual     Hightower John B.  ...      Hightower   \n",
       "4           1994.0      Individual  Oldenburg Richard E.  ...      Oldenburg   \n",
       "\n",
       "  Suffix Nationality ConstituentBeginDate ConstituentEndDate  \\\n",
       "0    Jr.    American               1902.0             1981.0   \n",
       "1    NaN    American               1901.0             1968.0   \n",
       "2    NaN    American               1924.0             2004.0   \n",
       "3    NaN    American               1933.0             2013.0   \n",
       "4    NaN    American               1933.0                NaN   \n",
       "\n",
       "               ArtistBio  Gender       VIAFID WikidataID       ULANID  \n",
       "0  American, 1902â1981    Male  109252853.0    Q711362  500241556.0  \n",
       "1  American, 1901â1968    Male     176768.0   Q7312958  500071210.0  \n",
       "2  American, 1924â2004    Male   71883331.0   Q4868805  500279878.0  \n",
       "3  American, 1933â2013    Male   65771126.0  Q15431531          NaN  \n",
       "4    American, born 1933    Male   22054670.0   Q7328159          NaN  \n",
       "\n",
       "[5 rows x 22 columns]"
      ]
     },
     "execution_count": 254,
     "metadata": {},
     "output_type": "execute_result"
    }
   ],
   "source": [
    "heads.head()"
   ]
  },
  {
   "cell_type": "code",
   "execution_count": 217,
   "metadata": {},
   "outputs": [
    {
     "name": "stdout",
     "output_type": "stream",
     "text": [
      "<class 'pandas.core.frame.DataFrame'>\n",
      "RangeIndex: 15845 entries, 0 to 15844\n",
      "Data columns (total 9 columns):\n",
      "ConstituentID    15845 non-null int64\n",
      "DisplayName      15845 non-null object\n",
      "ArtistBio        13549 non-null object\n",
      "Nationality      13294 non-null object\n",
      "Gender           12671 non-null object\n",
      "BeginDate        15845 non-null int64\n",
      "EndDate          15845 non-null int64\n",
      "Wiki QID         3275 non-null object\n",
      "ULAN             2941 non-null float64\n",
      "dtypes: float64(1), int64(3), object(5)\n",
      "memory usage: 1.1+ MB\n"
     ]
    }
   ],
   "source": [
    "artists.info()"
   ]
  },
  {
   "cell_type": "code",
   "execution_count": 218,
   "metadata": {},
   "outputs": [
    {
     "name": "stdout",
     "output_type": "stream",
     "text": [
      "<class 'pandas.core.frame.DataFrame'>\n",
      "RangeIndex: 138118 entries, 0 to 138117\n",
      "Data columns (total 29 columns):\n",
      "Title                 138079 non-null object\n",
      "Artist                136662 non-null object\n",
      "ConstituentID         136662 non-null object\n",
      "ArtistBio             132559 non-null object\n",
      "Nationality           136662 non-null object\n",
      "BeginDate             136662 non-null object\n",
      "EndDate               136662 non-null object\n",
      "Gender                136662 non-null object\n",
      "Date                  135743 non-null object\n",
      "Medium                127156 non-null object\n",
      "Dimensions            127253 non-null object\n",
      "CreditLine            135354 non-null object\n",
      "AccessionNumber       138118 non-null object\n",
      "Classification        138118 non-null object\n",
      "Department            138118 non-null object\n",
      "DateAcquired          131389 non-null object\n",
      "Cataloged             138118 non-null object\n",
      "ObjectID              138118 non-null int64\n",
      "URL                   79611 non-null object\n",
      "ThumbnailURL          69206 non-null object\n",
      "Circumference (cm)    10 non-null float64\n",
      "Depth (cm)            13987 non-null float64\n",
      "Diameter (cm)         1450 non-null float64\n",
      "Height (cm)           118803 non-null float64\n",
      "Length (cm)           741 non-null float64\n",
      "Weight (kg)           289 non-null float64\n",
      "Width (cm)            117881 non-null float64\n",
      "Seat Height (cm)      0 non-null float64\n",
      "Duration (sec.)       2905 non-null float64\n",
      "dtypes: float64(9), int64(1), object(19)\n",
      "memory usage: 30.6+ MB\n"
     ]
    }
   ],
   "source": [
    "artworks.info()"
   ]
  },
  {
   "cell_type": "code",
   "execution_count": 255,
   "metadata": {},
   "outputs": [
    {
     "name": "stdout",
     "output_type": "stream",
     "text": [
      "<class 'pandas.core.frame.DataFrame'>\n",
      "RangeIndex: 34558 entries, 0 to 34557\n",
      "Data columns (total 28 columns):\n",
      "ExhibitionID                    34129 non-null float64\n",
      "ExhibitionNumber                34558 non-null object\n",
      "ExhibitionTitle                 34558 non-null object\n",
      "ExhibitionCitationDate          34557 non-null object\n",
      "ExhibitionBeginDate             34558 non-null object\n",
      "ExhibitionEndDate               33354 non-null object\n",
      "ExhibitionSortOrder             34558 non-null float64\n",
      "ExhibitionURL                   34125 non-null object\n",
      "ExhibitionRole                  34424 non-null object\n",
      "ExhibitionRoleinPressRelease    34424 non-null object\n",
      "ConstituentID                   34044 non-null float64\n",
      "ConstituentType                 34424 non-null object\n",
      "DisplayName                     34424 non-null object\n",
      "AlphaSort                       34424 non-null object\n",
      "FirstName                       31499 non-null object\n",
      "MiddleName                      3804 non-null object\n",
      "LastName                        31998 non-null object\n",
      "Suffix                          157 non-null object\n",
      "Institution                     2458 non-null object\n",
      "Nationality                     26072 non-null object\n",
      "ConstituentBeginDate            25290 non-null float64\n",
      "ConstituentEndDate              19819 non-null float64\n",
      "ArtistBio                       26089 non-null object\n",
      "Gender                          25796 non-null object\n",
      "VIAFID                          26996 non-null float64\n",
      "WikidataID                      22241 non-null object\n",
      "ULANID                          21688 non-null float64\n",
      "ConstituentURL                  34044 non-null object\n",
      "dtypes: float64(7), object(21)\n",
      "memory usage: 7.4+ MB\n"
     ]
    }
   ],
   "source": [
    "exhibitions.info()"
   ]
  },
  {
   "cell_type": "code",
   "execution_count": 256,
   "metadata": {},
   "outputs": [
    {
     "name": "stdout",
     "output_type": "stream",
     "text": [
      "<class 'pandas.core.frame.DataFrame'>\n",
      "RangeIndex: 65 entries, 0 to 64\n",
      "Data columns (total 22 columns):\n",
      "DepartmentFullName      65 non-null object\n",
      "DepartmentBeginYear     65 non-null int64\n",
      "DepartmentEndYear       16 non-null float64\n",
      "ConstituentID           58 non-null float64\n",
      "DisplayName             65 non-null object\n",
      "PositionNote            16 non-null object\n",
      "PositionBeginYear       65 non-null int64\n",
      "PositionEndYear         57 non-null float64\n",
      "ConstituentType         65 non-null object\n",
      "AlphaSort               65 non-null object\n",
      "FirstName               65 non-null object\n",
      "MiddleName              17 non-null object\n",
      "LastName                65 non-null object\n",
      "Suffix                  4 non-null object\n",
      "Nationality             60 non-null object\n",
      "ConstituentBeginDate    58 non-null float64\n",
      "ConstituentEndDate      34 non-null float64\n",
      "ArtistBio               62 non-null object\n",
      "Gender                  65 non-null object\n",
      "VIAFID                  61 non-null float64\n",
      "WikidataID              41 non-null object\n",
      "ULANID                  22 non-null float64\n",
      "dtypes: float64(7), int64(2), object(13)\n",
      "memory usage: 11.2+ KB\n"
     ]
    }
   ],
   "source": [
    "heads.info()"
   ]
  },
  {
   "cell_type": "markdown",
   "metadata": {},
   "source": [
    "## Data exploration\n",
    "ConstituentID column appears in artists, artworks, and exhibitions datasets. It shows which artists were part of each exhibition, and which artist created each work of art."
   ]
  },
  {
   "cell_type": "code",
   "execution_count": 261,
   "metadata": {},
   "outputs": [
    {
     "data": {
      "text/plain": [
       "True"
      ]
     },
     "execution_count": 261,
     "metadata": {},
     "output_type": "execute_result"
    }
   ],
   "source": [
    "artists['ConstituentID'].value_counts().sum() == len(artists)"
   ]
  },
  {
   "cell_type": "markdown",
   "metadata": {},
   "source": [
    "The exhibitions dataset appears to have some repetition for each constituent who plays a role in the exhibition. There are several roles:"
   ]
  },
  {
   "cell_type": "code",
   "execution_count": 302,
   "metadata": {},
   "outputs": [
    {
     "data": {
      "text/plain": [
       "Artist               32537\n",
       "Curator               1495\n",
       "Installer              150\n",
       "Competition Judge      132\n",
       "Designer                66\n",
       "Arranger                31\n",
       "Preparer                13\n",
       "Name: ExhibitionRole, dtype: int64"
      ]
     },
     "execution_count": 302,
     "metadata": {},
     "output_type": "execute_result"
    }
   ],
   "source": [
    "exhibitions['ExhibitionRole'].value_counts()"
   ]
  },
  {
   "cell_type": "markdown",
   "metadata": {},
   "source": [
    "## Data cleanup"
   ]
  },
  {
   "cell_type": "code",
   "execution_count": 219,
   "metadata": {},
   "outputs": [],
   "source": [
    "def calculate_artist_age(dates):\n",
    "    begin_date, end_date = dates\n",
    "    if begin_date < 1:\n",
    "        return None\n",
    "    elif end_date < 1:\n",
    "        return 2019 - begin_date\n",
    "    else:\n",
    "        return end_date - begin_date"
   ]
  },
  {
   "cell_type": "code",
   "execution_count": 220,
   "metadata": {},
   "outputs": [],
   "source": [
    "artists['Age'] = artists[['BeginDate','EndDate']].apply(calculate_artist_age, axis=1)"
   ]
  },
  {
   "cell_type": "code",
   "execution_count": 221,
   "metadata": {},
   "outputs": [],
   "source": [
    "artists['Gender'] = artists['Gender'].str.lower()"
   ]
  },
  {
   "cell_type": "code",
   "execution_count": 222,
   "metadata": {},
   "outputs": [],
   "source": [
    "artworks['YearAcquired'] = artworks['DateAcquired'].str.split('-').str[0]"
   ]
  },
  {
   "cell_type": "code",
   "execution_count": 274,
   "metadata": {},
   "outputs": [],
   "source": [
    "exhibitions['ExhibitionBeginDate'] = pd.to_datetime(exhibitions['ExhibitionBeginDate'])"
   ]
  },
  {
   "cell_type": "code",
   "execution_count": 275,
   "metadata": {},
   "outputs": [],
   "source": [
    "exhibitions['ExhibitionEndDate'] = pd.to_datetime(exhibitions['ExhibitionEndDate'])"
   ]
  },
  {
   "cell_type": "code",
   "execution_count": 279,
   "metadata": {},
   "outputs": [],
   "source": [
    "exhibitions['Year'] = exhibitions['ExhibitionBeginDate'].dt.year"
   ]
  },
  {
   "cell_type": "markdown",
   "metadata": {},
   "source": [
    "## Examining data after cleanup"
   ]
  },
  {
   "cell_type": "code",
   "execution_count": 310,
   "metadata": {},
   "outputs": [
    {
     "name": "stdout",
     "output_type": "stream",
     "text": [
      "<class 'pandas.core.frame.DataFrame'>\n",
      "RangeIndex: 15845 entries, 0 to 15844\n",
      "Data columns (total 10 columns):\n",
      "ConstituentID    15845 non-null int64\n",
      "DisplayName      15845 non-null object\n",
      "ArtistBio        13549 non-null object\n",
      "Nationality      13294 non-null object\n",
      "Gender           12671 non-null object\n",
      "BeginDate        15845 non-null int64\n",
      "EndDate          15845 non-null int64\n",
      "Wiki QID         3275 non-null object\n",
      "ULAN             2941 non-null float64\n",
      "Age              12056 non-null float64\n",
      "dtypes: float64(2), int64(3), object(5)\n",
      "memory usage: 1.2+ MB\n"
     ]
    }
   ],
   "source": [
    "artists.info()"
   ]
  },
  {
   "cell_type": "code",
   "execution_count": 311,
   "metadata": {},
   "outputs": [
    {
     "name": "stdout",
     "output_type": "stream",
     "text": [
      "<class 'pandas.core.frame.DataFrame'>\n",
      "RangeIndex: 138118 entries, 0 to 138117\n",
      "Data columns (total 30 columns):\n",
      "Title                 138079 non-null object\n",
      "Artist                136662 non-null object\n",
      "ConstituentID         136662 non-null object\n",
      "ArtistBio             132559 non-null object\n",
      "Nationality           136662 non-null object\n",
      "BeginDate             136662 non-null object\n",
      "EndDate               136662 non-null object\n",
      "Gender                136662 non-null object\n",
      "Date                  135743 non-null object\n",
      "Medium                127156 non-null object\n",
      "Dimensions            127253 non-null object\n",
      "CreditLine            135354 non-null object\n",
      "AccessionNumber       138118 non-null object\n",
      "Classification        138118 non-null object\n",
      "Department            138118 non-null object\n",
      "DateAcquired          131389 non-null object\n",
      "Cataloged             138118 non-null object\n",
      "ObjectID              138118 non-null int64\n",
      "URL                   79611 non-null object\n",
      "ThumbnailURL          69206 non-null object\n",
      "Circumference (cm)    10 non-null float64\n",
      "Depth (cm)            13987 non-null float64\n",
      "Diameter (cm)         1450 non-null float64\n",
      "Height (cm)           118803 non-null float64\n",
      "Length (cm)           741 non-null float64\n",
      "Weight (kg)           289 non-null float64\n",
      "Width (cm)            117881 non-null float64\n",
      "Seat Height (cm)      0 non-null float64\n",
      "Duration (sec.)       2905 non-null float64\n",
      "YearAcquired          131389 non-null object\n",
      "dtypes: float64(9), int64(1), object(20)\n",
      "memory usage: 31.6+ MB\n"
     ]
    }
   ],
   "source": [
    "artworks.info()"
   ]
  },
  {
   "cell_type": "code",
   "execution_count": 312,
   "metadata": {},
   "outputs": [
    {
     "name": "stdout",
     "output_type": "stream",
     "text": [
      "<class 'pandas.core.frame.DataFrame'>\n",
      "RangeIndex: 34558 entries, 0 to 34557\n",
      "Data columns (total 29 columns):\n",
      "ExhibitionID                    34129 non-null float64\n",
      "ExhibitionNumber                34558 non-null object\n",
      "ExhibitionTitle                 34558 non-null object\n",
      "ExhibitionCitationDate          34557 non-null object\n",
      "ExhibitionBeginDate             34558 non-null datetime64[ns]\n",
      "ExhibitionEndDate               33354 non-null datetime64[ns]\n",
      "ExhibitionSortOrder             34558 non-null float64\n",
      "ExhibitionURL                   34125 non-null object\n",
      "ExhibitionRole                  34424 non-null object\n",
      "ExhibitionRoleinPressRelease    34424 non-null object\n",
      "ConstituentID                   34044 non-null float64\n",
      "ConstituentType                 34424 non-null object\n",
      "DisplayName                     34424 non-null object\n",
      "AlphaSort                       34424 non-null object\n",
      "FirstName                       31499 non-null object\n",
      "MiddleName                      3804 non-null object\n",
      "LastName                        31998 non-null object\n",
      "Suffix                          157 non-null object\n",
      "Institution                     2458 non-null object\n",
      "Nationality                     26072 non-null object\n",
      "ConstituentBeginDate            25290 non-null float64\n",
      "ConstituentEndDate              19819 non-null float64\n",
      "ArtistBio                       26089 non-null object\n",
      "Gender                          25796 non-null object\n",
      "VIAFID                          26996 non-null float64\n",
      "WikidataID                      22241 non-null object\n",
      "ULANID                          21688 non-null float64\n",
      "ConstituentURL                  34044 non-null object\n",
      "Year                            34558 non-null int64\n",
      "dtypes: datetime64[ns](2), float64(7), int64(1), object(19)\n",
      "memory usage: 7.6+ MB\n"
     ]
    }
   ],
   "source": [
    "exhibitions.info()"
   ]
  },
  {
   "cell_type": "markdown",
   "metadata": {},
   "source": [
    "## Data analysis\n",
    "#### Questions:\n",
    "* What nationality do most artists have?\n",
    "* Which artists have the most works in the collection?\n",
    "* How old are the artists?\n",
    "* What gender are the artists?\n",
    "* Which mediums are most popular?\n",
    "* How many artworks are added each year?\n",
    "* How many exhibitions have there been? How many each year?\n",
    "* Which exhibition featured the most amount of artworks?\n",
    "* Which artist is featured in the most exibitions?\n",
    "* Were any last minute additions made in advance of an exhibition?\n",
    "\n",
    "### What nationality do most artists have?"
   ]
  },
  {
   "cell_type": "code",
   "execution_count": 223,
   "metadata": {},
   "outputs": [],
   "source": [
    "top_artist_nations = artists['Nationality'].value_counts()[:10]"
   ]
  },
  {
   "cell_type": "code",
   "execution_count": 224,
   "metadata": {},
   "outputs": [
    {
     "data": {
      "text/plain": [
       "<BarContainer object of 10 artists>"
      ]
     },
     "execution_count": 224,
     "metadata": {},
     "output_type": "execute_result"
    },
    {
     "data": {
      "image/png": "[encoded data removed]",
      "text/plain": [
       "<Figure size 432x288 with 1 Axes>"
      ]
     },
     "metadata": {
      "needs_background": "light"
     },
     "output_type": "display_data"
    }
   ],
   "source": [
    "plt.barh(top_artist_nations.index, top_artist_nations.values)"
   ]
  },
  {
   "cell_type": "markdown",
   "metadata": {},
   "source": [
    "### Which artists have the most works in the collection?"
   ]
  },
  {
   "cell_type": "code",
   "execution_count": 225,
   "metadata": {},
   "outputs": [],
   "source": [
    "top_artists = artworks['Artist'].value_counts()[:20]"
   ]
  },
  {
   "cell_type": "code",
   "execution_count": 226,
   "metadata": {},
   "outputs": [
    {
     "data": {
      "text/plain": [
       "<BarContainer object of 20 artists>"
      ]
     },
     "execution_count": 226,
     "metadata": {},
     "output_type": "execute_result"
    },
    {
     "data": {
      "image/png": "[encoded data removed]",
      "text/plain": [
       "<Figure size 432x288 with 1 Axes>"
      ]
     },
     "metadata": {
      "needs_background": "light"
     },
     "output_type": "display_data"
    }
   ],
   "source": [
    "plt.barh(top_artists.index, top_artists.values)"
   ]
  },
  {
   "cell_type": "markdown",
   "metadata": {},
   "source": [
    "### How old are the artists?"
   ]
  },
  {
   "cell_type": "code",
   "execution_count": 232,
   "metadata": {},
   "outputs": [
    {
     "data": {
      "text/plain": [
       "(array([  5.,   8.,  12.,  19.,  22.,  38.,  30.,  38.,  22.,  38.,  54.,\n",
       "         82., 133., 189., 291., 368., 288., 441., 514., 517., 536., 561.,\n",
       "        629., 691., 517., 807., 872., 839., 819., 677., 578., 447., 368.,\n",
       "        147., 140.,  71.,  48.,  30.,  23.,  15.,  12.,   6.,   8.,   8.,\n",
       "          9.,   9.,   9.,   6.,   6.,   4.,   7.,   0.,   5.,   1.,   4.,\n",
       "          1.,   0.,   3.,   4.,   1.,   2.,   1.,   2.,   4.,   1.,   1.,\n",
       "          1.,   1.,   2.,   2.,   1.,   3.,   2.,   1.,   0.,   2.,   0.,\n",
       "          0.,   1.,   0.,   0.,   0.,   0.,   0.,   0.,   0.,   0.,   0.,\n",
       "          1.,   0.,   0.,   0.,   0.,   0.,   0.,   0.,   0.,   0.,   0.,\n",
       "          1.]),\n",
       " array([  0.  ,   2.88,   5.76,   8.64,  11.52,  14.4 ,  17.28,  20.16,\n",
       "         23.04,  25.92,  28.8 ,  31.68,  34.56,  37.44,  40.32,  43.2 ,\n",
       "         46.08,  48.96,  51.84,  54.72,  57.6 ,  60.48,  63.36,  66.24,\n",
       "         69.12,  72.  ,  74.88,  77.76,  80.64,  83.52,  86.4 ,  89.28,\n",
       "         92.16,  95.04,  97.92, 100.8 , 103.68, 106.56, 109.44, 112.32,\n",
       "        115.2 , 118.08, 120.96, 123.84, 126.72, 129.6 , 132.48, 135.36,\n",
       "        138.24, 141.12, 144.  , 146.88, 149.76, 152.64, 155.52, 158.4 ,\n",
       "        161.28, 164.16, 167.04, 169.92, 172.8 , 175.68, 178.56, 181.44,\n",
       "        184.32, 187.2 , 190.08, 192.96, 195.84, 198.72, 201.6 , 204.48,\n",
       "        207.36, 210.24, 213.12, 216.  , 218.88, 221.76, 224.64, 227.52,\n",
       "        230.4 , 233.28, 236.16, 239.04, 241.92, 244.8 , 247.68, 250.56,\n",
       "        253.44, 256.32, 259.2 , 262.08, 264.96, 267.84, 270.72, 273.6 ,\n",
       "        276.48, 279.36, 282.24, 285.12, 288.  ]),\n",
       " <a list of 100 Patch objects>)"
      ]
     },
     "execution_count": 232,
     "metadata": {},
     "output_type": "execute_result"
    },
    {
     "data": {
      "image/png": "[encoded data removed]",
      "text/plain": [
       "<Figure size 432x288 with 1 Axes>"
      ]
     },
     "metadata": {
      "needs_background": "light"
     },
     "output_type": "display_data"
    }
   ],
   "source": [
    "plt.hist(artists['Age'], bins=100)"
   ]
  },
  {
   "cell_type": "markdown",
   "metadata": {},
   "source": [
    "### What gender are the artists?"
   ]
  },
  {
   "cell_type": "code",
   "execution_count": 248,
   "metadata": {},
   "outputs": [
    {
     "data": {
      "text/plain": [
       "male      10274\n",
       "female     2396\n",
       "Name: Gender, dtype: int64"
      ]
     },
     "execution_count": 248,
     "metadata": {},
     "output_type": "execute_result"
    }
   ],
   "source": [
    "artists['Gender'].value_counts()[:2]"
   ]
  },
  {
   "cell_type": "code",
   "execution_count": 249,
   "metadata": {},
   "outputs": [
    {
     "data": {
      "text/plain": [
       "([<matplotlib.patches.Wedge at 0x128de276630>,\n",
       "  <matplotlib.patches.Wedge at 0x128de282320>],\n",
       " [Text(-0.9115174385897803, 0.6157401717824867, 'male'),\n",
       "  Text(0.9115174385897802, -0.6157401717824869, 'female')],\n",
       " [Text(-0.4971913301398801, 0.33585827551772, '81.1%'),\n",
       "  Text(0.49719133013988004, -0.3358582755177201, '18.9%')])"
      ]
     },
     "execution_count": 249,
     "metadata": {},
     "output_type": "execute_result"
    },
    {
     "data": {
      "image/png": "[encoded data removed]",
      "text/plain": [
       "<Figure size 432x288 with 1 Axes>"
      ]
     },
     "metadata": {},
     "output_type": "display_data"
    }
   ],
   "source": [
    "plt.pie(artists['Gender'].value_counts()[:2], labels=['male', 'female'], autopct='%1.1f%%')"
   ]
  },
  {
   "cell_type": "markdown",
   "metadata": {},
   "source": [
    "### Which mediums are most popular?"
   ]
  },
  {
   "cell_type": "code",
   "execution_count": 51,
   "metadata": {},
   "outputs": [],
   "source": [
    "top_mediums = artworks['Medium'].value_counts()[:10]"
   ]
  },
  {
   "cell_type": "code",
   "execution_count": 56,
   "metadata": {
    "scrolled": true
   },
   "outputs": [
    {
     "data": {
      "text/plain": [
       "<BarContainer object of 10 artists>"
      ]
     },
     "execution_count": 56,
     "metadata": {},
     "output_type": "execute_result"
    },
    {
     "data": {
      "image/png": "[encoded data removed]",
      "text/plain": [
       "<Figure size 432x288 with 1 Axes>"
      ]
     },
     "metadata": {
      "needs_background": "light"
     },
     "output_type": "display_data"
    }
   ],
   "source": [
    "plt.barh(top_mediums.index, top_mediums.values)"
   ]
  },
  {
   "cell_type": "markdown",
   "metadata": {},
   "source": [
    "### How many works are added each year?"
   ]
  },
  {
   "cell_type": "code",
   "execution_count": 81,
   "metadata": {},
   "outputs": [],
   "source": [
    "artworks_by_year = artworks['YearAcquired'].value_counts()\n",
    "artworks_by_year.sort_index(inplace=True)"
   ]
  },
  {
   "cell_type": "code",
   "execution_count": 82,
   "metadata": {},
   "outputs": [
    {
     "data": {
      "text/plain": [
       "[<matplotlib.lines.Line2D at 0x128c47bb5c0>]"
      ]
     },
     "execution_count": 82,
     "metadata": {},
     "output_type": "execute_result"
    },
    {
     "data": {
      "image/png": "[encoded data removed]",
      "text/plain": [
       "<Figure size 432x288 with 1 Axes>"
      ]
     },
     "metadata": {
      "needs_background": "light"
     },
     "output_type": "display_data"
    }
   ],
   "source": [
    "plt.plot(artworks_by_year.index, artworks_by_year.values)"
   ]
  },
  {
   "cell_type": "markdown",
   "metadata": {},
   "source": [
    "### How many exhibitions have there been? How many each year?"
   ]
  },
  {
   "cell_type": "code",
   "execution_count": 270,
   "metadata": {},
   "outputs": [
    {
     "data": {
      "text/plain": [
       "1728"
      ]
     },
     "execution_count": 270,
     "metadata": {},
     "output_type": "execute_result"
    }
   ],
   "source": [
    "len(exhibitions['ExhibitionID'].unique())"
   ]
  },
  {
   "cell_type": "code",
   "execution_count": 292,
   "metadata": {},
   "outputs": [],
   "source": [
    "exhibits_by_year = exhibitions.groupby(['Year'])['ExhibitionID'].nunique()"
   ]
  },
  {
   "cell_type": "code",
   "execution_count": 293,
   "metadata": {},
   "outputs": [
    {
     "data": {
      "text/plain": [
       "[<matplotlib.lines.Line2D at 0x128de03ccf8>]"
      ]
     },
     "execution_count": 293,
     "metadata": {},
     "output_type": "execute_result"
    },
    {
     "data": {
      "image/png": "[encoded data removed]",
      "text/plain": [
       "<Figure size 432x288 with 1 Axes>"
      ]
     },
     "metadata": {
      "needs_background": "light"
     },
     "output_type": "display_data"
    }
   ],
   "source": [
    "plt.plot(exhibits_by_year.index, exhibits_by_year.values)"
   ]
  },
  {
   "cell_type": "markdown",
   "metadata": {},
   "source": [
    "### Which artist is featured in the most exibitions?"
   ]
  },
  {
   "cell_type": "code",
   "execution_count": 295,
   "metadata": {},
   "outputs": [],
   "source": [
    "top_exhibitors = exhibitions['DisplayName'].value_counts()[:20]"
   ]
  },
  {
   "cell_type": "code",
   "execution_count": 296,
   "metadata": {},
   "outputs": [
    {
     "data": {
      "text/plain": [
       "<BarContainer object of 20 artists>"
      ]
     },
     "execution_count": 296,
     "metadata": {},
     "output_type": "execute_result"
    },
    {
     "data": {
      "image/png": "[encoded data removed]",
      "text/plain": [
       "<Figure size 432x288 with 1 Axes>"
      ]
     },
     "metadata": {
      "needs_background": "light"
     },
     "output_type": "display_data"
    }
   ],
   "source": [
    "plt.barh(top_exhibitors.index, top_exhibitors.values)"
   ]
  },
  {
   "cell_type": "markdown",
   "metadata": {},
   "source": [
    "The chart above actuall includes some Curators, not just Artists.."
   ]
  },
  {
   "cell_type": "code",
   "execution_count": 306,
   "metadata": {},
   "outputs": [],
   "source": [
    "top_artists = exhibitions['DisplayName'].where(exhibitions['ExhibitionRole'] == 'Artist').value_counts()[:20]"
   ]
  },
  {
   "cell_type": "code",
   "execution_count": 307,
   "metadata": {},
   "outputs": [
    {
     "data": {
      "text/plain": [
       "<BarContainer object of 20 artists>"
      ]
     },
     "execution_count": 307,
     "metadata": {},
     "output_type": "execute_result"
    },
    {
     "data": {
      "image/png": "[encoded data removed]",
      "text/plain": [
       "<Figure size 432x288 with 1 Axes>"
      ]
     },
     "metadata": {
      "needs_background": "light"
     },
     "output_type": "display_data"
    }
   ],
   "source": [
    "plt.barh(top_artists.index, top_artists.values)"
   ]
  },
  {
   "cell_type": "code",
   "execution_count": 308,
   "metadata": {},
   "outputs": [],
   "source": [
    "top_curators = exhibitions['DisplayName'].where(exhibitions['ExhibitionRole'] == 'Curator').value_counts()[:20]"
   ]
  },
  {
   "cell_type": "code",
   "execution_count": 309,
   "metadata": {},
   "outputs": [
    {
     "data": {
      "text/plain": [
       "<BarContainer object of 20 artists>"
      ]
     },
     "execution_count": 309,
     "metadata": {},
     "output_type": "execute_result"
    },
    {
     "data": {
      "image/png": "[encoded data removed]",
      "text/plain": [
       "<Figure size 432x288 with 1 Axes>"
      ]
     },
     "metadata": {
      "needs_background": "light"
     },
     "output_type": "display_data"
    }
   ],
   "source": [
    "plt.barh(top_curators.index, top_curators.values)"
   ]
  },
  {
   "cell_type": "markdown",
   "metadata": {},
   "source": [
    "### Which exhibitions featured the most amount of artworks?"
   ]
  },
  {
   "cell_type": "code",
   "execution_count": 300,
   "metadata": {},
   "outputs": [
    {
     "data": {
      "text/plain": [
       "Good Design                                                                                       768\n",
       "Recent Acquisitions                                                                               766\n",
       "Painting and Sculpture from the Museum Collection                                                 440\n",
       "Transformations in Modern Architecture                                                            321\n",
       "The 28th Annual Exhibition of Advertising and Editorial Art of the New York Art Directors Club    302\n",
       "Painting, Sculpture, Prints                                                                       288\n",
       "New Horizons in American Art                                                                      284\n",
       "Photographs from the Museum Collection                                                            276\n",
       "XXVth Anniversary Exhibition: Paintings from the Museum Collection                                262\n",
       "20th Century Design from the Museum Collection                                                    259\n",
       "Name: ExhibitionTitle, dtype: int64"
      ]
     },
     "execution_count": 300,
     "metadata": {},
     "output_type": "execute_result"
    }
   ],
   "source": [
    "exhibitions['ExhibitionTitle'].value_counts()[:10]"
   ]
  },
  {
   "cell_type": "code",
   "execution_count": null,
   "metadata": {},
   "outputs": [],
   "source": []
  }
 ],
 "metadata": {
  "kernelspec": {
   "display_name": "Python 3",
   "language": "python",
   "name": "python3"
  },
  "language_info": {
   "codemirror_mode": {
    "name": "ipython",
    "version": 3
   },
   "file_extension": ".py",
   "mimetype": "text/x-python",
   "name": "python",
   "nbconvert_exporter": "python",
   "pygments_lexer": "ipython3",
   "version": "3.7.3"
  }
 },
 "nbformat": 4,
 "nbformat_minor": 2
}
