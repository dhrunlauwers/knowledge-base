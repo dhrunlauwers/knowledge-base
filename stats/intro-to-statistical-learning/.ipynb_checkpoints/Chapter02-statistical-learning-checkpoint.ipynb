{
 "cells": [
  {
   "cell_type": "markdown",
   "metadata": {},
   "source": [
    "# Chapter 2: Statistical Learning\n",
    "\n",
    "Statistical learning is the process of estimating an objective function (*f*), which represents the relationship between *input variables*, also known as predictors, independent variables, features, or sometimes just variables, and the *output variable* known as the response or dependent variable.\n",
    "\n",
    "Independent variables are typically denoted using an X, while the dependent variables are denoted using a Y. \n",
    "\n",
    "More generally, suppose that we observe a quantitative output, Y, and some *p* different predictors (X1, X2, ... Xp). We assume there is some relationship between Y and X = (X1, X2, ... Xp), which can be written as follows:\n",
    "![](images/2.1.png)"
   ]
  },
  {
   "cell_type": "markdown",
   "metadata": {},
   "source": [
    "Here, *f* is some fixed but unknown function of X1, ... Xp, and E is a random *error term*, which is independent of X and has a mean zero. In general, f may involve more than one input variable. "
   ]
  },
  {
   "cell_type": "markdown",
   "metadata": {},
   "source": [
    "## Why estimate *f*?\n",
    "There are two main reasons why we wish to estimate *f*:\n",
    "1. Prediction\n",
    "2. Inference"
   ]
  },
  {
   "cell_type": "markdown",
   "metadata": {},
   "source": [
    "### Prediction\n",
    "In this setting, we can predict Y using the following formula where *ˆf* represents our esimate for *f*, and Ŷ represents the resulting prediction for Y. \n",
    "![](images/2.2.png)\n"
   ]
  },
  {
   "cell_type": "markdown",
   "metadata": {},
   "source": [
    "*ˆf* if often treated as a black box, in the sense that one is not typically concerned with the exact form of *ˆf*, provided that it yields accurate predictions for Y."
   ]
  },
  {
   "cell_type": "markdown",
   "metadata": {},
   "source": [
    "In general, *ˆf* will not be a perfect estimate for *f*, and this inaccuracy will intro duce some error. The accuracy of Ŷ as a prediction of Y depends on two quantities which we will refer to as *reducible error* and the *irreducible error*. \n",
    "* Reducible error can potentially be eliminated by using the most appropriate statistical learning to estimate *f*.\n",
    "* Irreducible error is associated with the error term, which will never be eliminated."
   ]
  },
  {
   "cell_type": "markdown",
   "metadata": {},
   "source": [
    "The focus of this book is on techniques for estimating *f* with the aim of minimizing the reducible error."
   ]
  },
  {
   "cell_type": "markdown",
   "metadata": {},
   "source": [
    "### Inference\n",
    "In this setting we are just interested in understanding the relationship between Y anx X1, X2 ... Xn without explicitly making predictions. In this case ˆf cannot be treated as a black box, because we need to know its exact form. We may be interested in answering questions:\n",
    "* Which predictors (X1, X2 ... Xn) are associated with the response? Identifying the few important predictors among a large set of possible variables can be extremely useful.\n",
    "* What is the relationship between the response and each predictor? It could be a positive or negative relationship, and predictors could be correlated.\n",
    "* Can the relationship between Y and each predictor be adequately summarized using a linear equation, or is the relationship more complicated? This will help select the appropriate statistical learning methods."
   ]
  },
  {
   "cell_type": "markdown",
   "metadata": {},
   "source": [
    "### How to we estimate *f*?\n",
    "Depending on whether our ultimate goal is prediction, inference, or a combination of the two, different methods for estimating *f* may be appropriate. "
   ]
  },
  {
   "cell_type": "code",
   "execution_count": null,
   "metadata": {},
   "outputs": [],
   "source": []
  }
 ],
 "metadata": {
  "kernelspec": {
   "display_name": "Python 3",
   "language": "python",
   "name": "python3"
  },
  "language_info": {
   "codemirror_mode": {
    "name": "ipython",
    "version": 3
   },
   "file_extension": ".py",
   "mimetype": "text/x-python",
   "name": "python",
   "nbconvert_exporter": "python",
   "pygments_lexer": "ipython3",
   "version": "3.7.3"
  }
 },
 "nbformat": 4,
 "nbformat_minor": 2
}
