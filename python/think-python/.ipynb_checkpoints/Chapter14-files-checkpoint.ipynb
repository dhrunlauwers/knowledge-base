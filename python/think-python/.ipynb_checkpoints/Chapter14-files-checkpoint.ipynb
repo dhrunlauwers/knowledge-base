{
 "cells": [
  {
   "cell_type": "markdown",
   "metadata": {},
   "source": [
    "# Chapter 14: Files\n",
    "\n",
    "This chapter introduces the idea of 'persistent' programs that kep data in permanet storage, and shows the different types of permanent storage, such as files and databases.\n",
    "\n",
    "## Persistence\n",
    "Most programs we have seen so far are transient in the sense that they run for a short time and produce some output, but when they end, their data dissapears. Running the program again means starting with a clean slate.\n",
    "\n",
    "Other programs are **persistent**: they run for a long time (or all the time); they keep at least some of their data in permanent storage (a hard drive, for example); and if they shut down and restart, they pick up where they left off.\n",
    "\n",
    "One of the simplest ways for programs to maintain their data is by reading and writing text files. An alternative is to sture the state of the program in a database.\n",
    "\n",
    "## Reading and writing\n",
    "A text file is a sequence of characters stored on a permanent medium like a hard drive, flash memory, etc.\n",
    "\n",
    "To write to a file, you have to open it with write mode enabled:"
   ]
  },
  {
   "cell_type": "code",
   "execution_count": 2,
   "metadata": {},
   "outputs": [],
   "source": [
    "file = open(\"exercises/words.txt\")"
   ]
  },
  {
   "cell_type": "markdown",
   "metadata": {},
   "source": [
    "Opening a file in write mode clears out the existing data and starts fresh, so be careful!"
   ]
  },
  {
   "cell_type": "code",
   "execution_count": 3,
   "metadata": {},
   "outputs": [],
   "source": [
    "file = open(\"exercises/words2.txt\", 'w')"
   ]
  },
  {
   "cell_type": "markdown",
   "metadata": {},
   "source": [
    "Open returns a file object that provides methods for working with the file. The *write* method puts data into the file:"
   ]
  },
  {
   "cell_type": "code",
   "execution_count": 4,
   "metadata": {},
   "outputs": [
    {
     "data": {
      "text/plain": [
       "24"
      ]
     },
     "execution_count": 4,
     "metadata": {},
     "output_type": "execute_result"
    }
   ],
   "source": [
    "file.write(\"This here's the wattle,\\n\")"
   ]
  },
  {
   "cell_type": "markdown",
   "metadata": {},
   "source": [
    "The return value is the number of characters that were written to the file. The file object keeps track of where it is, so if you call *write* again, it adds the new data to the end of the file."
   ]
  },
  {
   "cell_type": "code",
   "execution_count": 5,
   "metadata": {},
   "outputs": [
    {
     "data": {
      "text/plain": [
       "24"
      ]
     },
     "execution_count": 5,
     "metadata": {},
     "output_type": "execute_result"
    }
   ],
   "source": [
    "file.write(\"the emblem of our land.\\n\")"
   ]
  },
  {
   "cell_type": "markdown",
   "metadata": {},
   "source": [
    "When you are done writing, you should close the file. If you don't close the file, it will close when the program ends."
   ]
  },
  {
   "cell_type": "code",
   "execution_count": 6,
   "metadata": {},
   "outputs": [],
   "source": [
    "file.close()"
   ]
  },
  {
   "cell_type": "code",
   "execution_count": 9,
   "metadata": {},
   "outputs": [
    {
     "name": "stdout",
     "output_type": "stream",
     "text": [
      "This here's the wattle,\r\n",
      "the emblem of our land.\r\n"
     ]
    }
   ],
   "source": [
    "%%bash\n",
    "cat exercises/words2.txt"
   ]
  },
  {
   "cell_type": "markdown",
   "metadata": {},
   "source": [
    "## Format operator\n",
    "The argument of write has to be a string, so if we want to put other values in a file, we have to convert them to strings.\n",
    "\n",
    "The easiest way to convert to a string is to use *str*:"
   ]
  },
  {
   "cell_type": "code",
   "execution_count": 10,
   "metadata": {},
   "outputs": [],
   "source": [
    "file = open(\"exercises/words2.txt\", 'w')\n",
    "x = 52\n",
    "file.write(str(x))\n",
    "file.close()"
   ]
  },
  {
   "cell_type": "code",
   "execution_count": 11,
   "metadata": {},
   "outputs": [
    {
     "name": "stdout",
     "output_type": "stream",
     "text": [
      "52"
     ]
    }
   ],
   "source": [
    "%%bash\n",
    "cat exercises/words2.txt"
   ]
  },
  {
   "cell_type": "markdown",
   "metadata": {},
   "source": [
    "An alternative is to use the **format operator, %**. When applied to integers, % is the modulus operator, but when appled to strings, it is the format operator.\n",
    "\n",
    "The first operand is the **format string**, whcih contains one or more **format sequences**, which specify how the second operand is formatted.\n",
    "\n",
    "For example, the format sequence '%d' means that the second operand should be formatted as a decimal integer."
   ]
  },
  {
   "cell_type": "code",
   "execution_count": 12,
   "metadata": {},
   "outputs": [
    {
     "data": {
      "text/plain": [
       "'42'"
      ]
     },
     "execution_count": 12,
     "metadata": {},
     "output_type": "execute_result"
    }
   ],
   "source": [
    "camels = 42\n",
    "'%d' % camels"
   ]
  },
  {
   "cell_type": "markdown",
   "metadata": {},
   "source": [
    "A format sequence can appear anywhere in the string, so you can embed a value in a sentence:"
   ]
  },
  {
   "cell_type": "code",
   "execution_count": 13,
   "metadata": {},
   "outputs": [
    {
     "data": {
      "text/plain": [
       "'I have spotted 42 camels'"
      ]
     },
     "execution_count": 13,
     "metadata": {},
     "output_type": "execute_result"
    }
   ],
   "source": [
    "'I have spotted %d camels' %camels"
   ]
  },
  {
   "cell_type": "markdown",
   "metadata": {},
   "source": [
    "Other operands include '%g' to format a floating-point number, and %s to format a string."
   ]
  },
  {
   "cell_type": "code",
   "execution_count": 16,
   "metadata": {},
   "outputs": [
    {
     "data": {
      "text/plain": [
       "'In 42 years I have spotted 0.1 camels'"
      ]
     },
     "execution_count": 16,
     "metadata": {},
     "output_type": "execute_result"
    }
   ],
   "source": [
    "'In %d years I have spotted %g %s' % (42, 0.1, 'camels')"
   ]
  },
  {
   "cell_type": "markdown",
   "metadata": {},
   "source": [
    "Multiple insertions can be made, as long as the number of format sequences matches the number of elements in the tuple"
   ]
  },
  {
   "cell_type": "markdown",
   "metadata": {},
   "source": [
    "## Filenames and paths\n",
    "Files are organized into **directories**, also called folders. Every running program has a **current directory**, which is the default directory for most operations. \n",
    "\n",
    "A string that identifies a file or a directory is called a **path**.\n",
    "\n",
    "The *os* module provides functions for working with files and directories."
   ]
  },
  {
   "cell_type": "code",
   "execution_count": 17,
   "metadata": {},
   "outputs": [
    {
     "data": {
      "text/plain": [
       "'C:\\\\Users\\\\dhrun.lauwers\\\\git\\\\knowledge-base\\\\data-science\\\\think-python'"
      ]
     },
     "execution_count": 17,
     "metadata": {},
     "output_type": "execute_result"
    }
   ],
   "source": [
    "import os\n",
    "cwd = os.getcwd()\n",
    "cwd"
   ]
  },
  {
   "cell_type": "markdown",
   "metadata": {},
   "source": [
    "A path that starts at the root directory is called an **absolute path** where as a path that starts at the current directory is a **relative path**.\n",
    "\n",
    "To find the absolute path for a file, you can use os.path.abspath"
   ]
  },
  {
   "cell_type": "code",
   "execution_count": 18,
   "metadata": {},
   "outputs": [
    {
     "data": {
      "text/plain": [
       "'C:\\\\Users\\\\dhrun.lauwers\\\\git\\\\knowledge-base\\\\data-science\\\\think-python\\\\words2.txt'"
      ]
     },
     "execution_count": 18,
     "metadata": {},
     "output_type": "execute_result"
    }
   ],
   "source": [
    "os.path.abspath('words2.txt')"
   ]
  },
  {
   "cell_type": "markdown",
   "metadata": {},
   "source": [
    "Other path functions include:\n",
    "\n",
    "| function | example | description |\n",
    "| -------- | ------- | ----------- |\n",
    "| abspath  | abspath(file) | if the file exists, returns the absolute path |\n",
    "| exists   | exists(file) | if the file exists, returns True, else, returns False |\n",
    "| isdir    | isdir(path) | if the path is a directory, return True, else, returns False |\n",
    "| listdir  |  listdir(path) | returns a list of the files and other directories in the given directory |"
   ]
  },
  {
   "cell_type": "code",
   "execution_count": 20,
   "metadata": {},
   "outputs": [],
   "source": [
    "def walk(dirname):\n",
    "    for name in os.listdir(dirname):\n",
    "        path = os.path.join(dirname, name)\n",
    "        \n",
    "        if os.path.isfile(path):\n",
    "            print(path)\n",
    "        else:\n",
    "            walk(path)"
   ]
  },
  {
   "cell_type": "code",
   "execution_count": 21,
   "metadata": {},
   "outputs": [
    {
     "name": "stdout",
     "output_type": "stream",
     "text": [
      "c:/users/dhrun.lauwers/git/knowledge-base\\.git\\COMMIT_EDITMSG\n",
      "c:/users/dhrun.lauwers/git/knowledge-base\\.git\\config\n",
      "c:/users/dhrun.lauwers/git/knowledge-base\\.git\\description\n",
      "c:/users/dhrun.lauwers/git/knowledge-base\\.git\\FETCH_HEAD\n",
      "c:/users/dhrun.lauwers/git/knowledge-base\\.git\\HEAD\n",
      "c:/users/dhrun.lauwers/git/knowledge-base\\.git\\hooks\\applypatch-msg.sample\n",
      "c:/users/dhrun.lauwers/git/knowledge-base\\.git\\hooks\\commit-msg.sample\n",
      "c:/users/dhrun.lauwers/git/knowledge-base\\.git\\hooks\\fsmonitor-watchman.sample\n",
      "c:/users/dhrun.lauwers/git/knowledge-base\\.git\\hooks\\post-update.sample\n",
      "c:/users/dhrun.lauwers/git/knowledge-base\\.git\\hooks\\pre-applypatch.sample\n",
      "c:/users/dhrun.lauwers/git/knowledge-base\\.git\\hooks\\pre-commit.sample\n",
      "c:/users/dhrun.lauwers/git/knowledge-base\\.git\\hooks\\pre-push.sample\n",
      "c:/users/dhrun.lauwers/git/knowledge-base\\.git\\hooks\\pre-rebase.sample\n",
      "c:/users/dhrun.lauwers/git/knowledge-base\\.git\\hooks\\pre-receive.sample\n",
      "c:/users/dhrun.lauwers/git/knowledge-base\\.git\\hooks\\prepare-commit-msg.sample\n",
      "c:/users/dhrun.lauwers/git/knowledge-base\\.git\\hooks\\update.sample\n",
      "c:/users/dhrun.lauwers/git/knowledge-base\\.git\\index\n",
      "c:/users/dhrun.lauwers/git/knowledge-base\\.git\\info\\exclude\n",
      "c:/users/dhrun.lauwers/git/knowledge-base\\.git\\logs\\HEAD\n",
      "c:/users/dhrun.lauwers/git/knowledge-base\\.git\\logs\\refs\\heads\\develop\n",
      "c:/users/dhrun.lauwers/git/knowledge-base\\.git\\logs\\refs\\heads\\master\n",
      "c:/users/dhrun.lauwers/git/knowledge-base\\.git\\logs\\refs\\remotes\\origin\\develop\n",
      "c:/users/dhrun.lauwers/git/knowledge-base\\.git\\logs\\refs\\remotes\\origin\\master\n",
      "c:/users/dhrun.lauwers/git/knowledge-base\\.git\\objects\\01\\78622cc15dbfa3e018e691c56df3c70d2d57f5\n",
      "c:/users/dhrun.lauwers/git/knowledge-base\\.git\\objects\\01\\7903f7529b935337742758fa81033878944a29\n",
      "c:/users/dhrun.lauwers/git/knowledge-base\\.git\\objects\\02\\c8a737239dc876b485c326b0a8fc4e6008a058\n",
      "c:/users/dhrun.lauwers/git/knowledge-base\\.git\\objects\\02\\dcd46b2f78910517ab47642e1e4a10dad74270\n",
      "c:/users/dhrun.lauwers/git/knowledge-base\\.git\\objects\\02\\fac274e5a875cdc13248195654e097818c8dc1\n",
      "c:/users/dhrun.lauwers/git/knowledge-base\\.git\\objects\\05\\23d6fc544eee78cf656f548b1d08b3254b45ee\n",
      "c:/users/dhrun.lauwers/git/knowledge-base\\.git\\objects\\05\\7a53c5714f193fc7fb32ec9f36d5fa5346affb\n",
      "c:/users/dhrun.lauwers/git/knowledge-base\\.git\\objects\\06\\52a2d912a84cf4f854a2dec1b3f8816b825aa6\n",
      "c:/users/dhrun.lauwers/git/knowledge-base\\.git\\objects\\06\\e6e0eec7fa29f669e17c3dfcc62a2fbbc11244\n",
      "c:/users/dhrun.lauwers/git/knowledge-base\\.git\\objects\\09\\072fd769e11be39ed959854fa5d5e0e7ef4302\n",
      "c:/users/dhrun.lauwers/git/knowledge-base\\.git\\objects\\09\\5e9989958387ac1ed5f1ed178b2df1f786e6a3\n",
      "c:/users/dhrun.lauwers/git/knowledge-base\\.git\\objects\\09\\eb0473d9c39b40985d65cf354d19b2bbf9ece7\n",
      "c:/users/dhrun.lauwers/git/knowledge-base\\.git\\objects\\0a\\39f92ffd741f563d085fbc401ffb58fef8b0a1\n",
      "c:/users/dhrun.lauwers/git/knowledge-base\\.git\\objects\\0b\\89c97bb992d151bff5accdbf2298ea8d209334\n",
      "c:/users/dhrun.lauwers/git/knowledge-base\\.git\\objects\\0d\\4f7fae08bb7a98d674fcf128348571d2446e08\n",
      "c:/users/dhrun.lauwers/git/knowledge-base\\.git\\objects\\0e\\4eb6af9ce7d7fde8c266b8df26d8dac3a7975d\n",
      "c:/users/dhrun.lauwers/git/knowledge-base\\.git\\objects\\0f\\195a4c1b76c2fda9561d13cb199f8a12db7250\n",
      "c:/users/dhrun.lauwers/git/knowledge-base\\.git\\objects\\0f\\86273352a5d3b84b7752f97fffa97ed77b682e\n",
      "c:/users/dhrun.lauwers/git/knowledge-base\\.git\\objects\\11\\3b0358fbbd3a026494f4f02e15eadef06c80e3\n",
      "c:/users/dhrun.lauwers/git/knowledge-base\\.git\\objects\\11\\5514daf7be8ad1cf4d2cf369b34a7bcfc604de\n",
      "c:/users/dhrun.lauwers/git/knowledge-base\\.git\\objects\\13\\02b038069442ff45bf9b30afd2757105572afc\n",
      "c:/users/dhrun.lauwers/git/knowledge-base\\.git\\objects\\13\\19fcbc4961c8bcc3a0433b1407da61c56d1033\n",
      "c:/users/dhrun.lauwers/git/knowledge-base\\.git\\objects\\13\\7823d4fb362249726acda449eed370208186b9\n",
      "c:/users/dhrun.lauwers/git/knowledge-base\\.git\\objects\\14\\089f21c97f7e9e0f4e0ffaa672de0f5d8b47b5\n",
      "c:/users/dhrun.lauwers/git/knowledge-base\\.git\\objects\\14\\c410d002f9327ae1acf0e59405d7cf4c9fd861\n",
      "c:/users/dhrun.lauwers/git/knowledge-base\\.git\\objects\\15\\40684dff8f71e1aff5c1a0b3ddb884431d0b5e\n",
      "c:/users/dhrun.lauwers/git/knowledge-base\\.git\\objects\\15\\eb51be90e191237e6759a26bd161d470433c3b\n",
      "c:/users/dhrun.lauwers/git/knowledge-base\\.git\\objects\\16\\3e188c2d028213db81c8395a8d2102cc3962da\n",
      "c:/users/dhrun.lauwers/git/knowledge-base\\.git\\objects\\17\\6945d225695b96b3486a7066f2c7ed76a30002\n",
      "c:/users/dhrun.lauwers/git/knowledge-base\\.git\\objects\\19\\f3cb49c53e7326effd3cf76b15cc5228808191\n",
      "c:/users/dhrun.lauwers/git/knowledge-base\\.git\\objects\\1c\\26528d436409fdc1a389d5f8a4bdcb9cb2cf44\n",
      "c:/users/dhrun.lauwers/git/knowledge-base\\.git\\objects\\1d\\7c3830e6d65f66459ab246ea53249dd844b162\n",
      "c:/users/dhrun.lauwers/git/knowledge-base\\.git\\objects\\1d\\c52732090ba6d0d8fa639943d735b1192d05da\n",
      "c:/users/dhrun.lauwers/git/knowledge-base\\.git\\objects\\1d\\f8df57c648de43c95699a8a2fe0b2c1e091e8f\n",
      "c:/users/dhrun.lauwers/git/knowledge-base\\.git\\objects\\1f\\1f7e27e8849f4afafd01f0a57ff6804ddc2924\n",
      "c:/users/dhrun.lauwers/git/knowledge-base\\.git\\objects\\20\\dd5ce1784dcd090d47dfd9a36cde76502261a0\n",
      "c:/users/dhrun.lauwers/git/knowledge-base\\.git\\objects\\21\\01a2524e9907c47ba55ec94881ccd369d87f8a\n",
      "c:/users/dhrun.lauwers/git/knowledge-base\\.git\\objects\\21\\a0c48d57488080796af0a36341ea69cd5a7734\n",
      "c:/users/dhrun.lauwers/git/knowledge-base\\.git\\objects\\22\\dff9f693be5b9d61b366645d2c50b074528017\n",
      "c:/users/dhrun.lauwers/git/knowledge-base\\.git\\objects\\24\\9bfadee90203b34e55d0eee2bad4e9112d18e3\n",
      "c:/users/dhrun.lauwers/git/knowledge-base\\.git\\objects\\24\\ee38538e1c0e06722412bbb57c423111bc2b11\n",
      "c:/users/dhrun.lauwers/git/knowledge-base\\.git\\objects\\28\\a9194376f7e3b750e65fdfaff3a8db40a4539a\n",
      "c:/users/dhrun.lauwers/git/knowledge-base\\.git\\objects\\29\\67341725b7712aae0b216be42c4c5bb459dac3\n",
      "c:/users/dhrun.lauwers/git/knowledge-base\\.git\\objects\\2c\\848897862c3d928ea1a18a65262b3d28944a4a\n",
      "c:/users/dhrun.lauwers/git/knowledge-base\\.git\\objects\\2c\\cbb9bf4a978a038a5cc623e0b8c51d2ba77a4a\n",
      "c:/users/dhrun.lauwers/git/knowledge-base\\.git\\objects\\2e\\526c607498df2b217de856634944e8d5d72d80\n",
      "c:/users/dhrun.lauwers/git/knowledge-base\\.git\\objects\\2e\\b5c978e9b10c81b88681502661b97718555b56\n",
      "c:/users/dhrun.lauwers/git/knowledge-base\\.git\\objects\\2f\\e56b11187a5db0a04651dd6ad027463df16357\n",
      "c:/users/dhrun.lauwers/git/knowledge-base\\.git\\objects\\33\\b980bbc26c53ac8dba5d538db881681a4bf303\n",
      "c:/users/dhrun.lauwers/git/knowledge-base\\.git\\objects\\33\\de266df6b7183916f9114731c348d443295c10\n",
      "c:/users/dhrun.lauwers/git/knowledge-base\\.git\\objects\\34\\de62cb7a358ff51d24dda5dfb14558e452b53f\n",
      "c:/users/dhrun.lauwers/git/knowledge-base\\.git\\objects\\37\\5797a311ebbdf21d7c6886818f9216c454713f\n",
      "c:/users/dhrun.lauwers/git/knowledge-base\\.git\\objects\\37\\cadf6d87665563b0fba557def7753ebac4ad5d\n",
      "c:/users/dhrun.lauwers/git/knowledge-base\\.git\\objects\\38\\0f2fd816a5d94e16c68a918f8e69329e24fb34\n",
      "c:/users/dhrun.lauwers/git/knowledge-base\\.git\\objects\\3c\\9f7750a2a446715b2da5cc5a181d9900d8867e\n",
      "c:/users/dhrun.lauwers/git/knowledge-base\\.git\\objects\\3f\\3279b126d17adfd6f264a80ffc1291ead14275\n",
      "c:/users/dhrun.lauwers/git/knowledge-base\\.git\\objects\\40\\d69fc903f02fa83c4c4715e54112bb6e2d97d7\n",
      "c:/users/dhrun.lauwers/git/knowledge-base\\.git\\objects\\41\\5b9c5765c22c348ee8f218dfcbaa5c59c06c75\n",
      "c:/users/dhrun.lauwers/git/knowledge-base\\.git\\objects\\42\\0bdec24201009575ca07044207980c935140f5\n",
      "c:/users/dhrun.lauwers/git/knowledge-base\\.git\\objects\\45\\482cd9302fa33a51024e8ab6e6cc995a7dd79c\n",
      "c:/users/dhrun.lauwers/git/knowledge-base\\.git\\objects\\46\\d0084341d54f01fff72e71c02a18797ae83e55\n",
      "c:/users/dhrun.lauwers/git/knowledge-base\\.git\\objects\\47\\e0582281c09936e4980c466a527441ab946d64\n",
      "c:/users/dhrun.lauwers/git/knowledge-base\\.git\\objects\\48\\836e66d8c766cc1a5f029a51a74012b9b69455\n",
      "c:/users/dhrun.lauwers/git/knowledge-base\\.git\\objects\\49\\0fb654778ba22c834a136cd5ae3ffa1428ee1d\n",
      "c:/users/dhrun.lauwers/git/knowledge-base\\.git\\objects\\49\\d76a598b74c3a37e9e0905425d2983ab5c049a\n",
      "c:/users/dhrun.lauwers/git/knowledge-base\\.git\\objects\\4b\\fa721ec563670d031bb979d7f85f79fff836c4\n",
      "c:/users/dhrun.lauwers/git/knowledge-base\\.git\\objects\\4e\\3b4f16c7a4c80014e8c505168e432d4d8f3f47\n",
      "c:/users/dhrun.lauwers/git/knowledge-base\\.git\\objects\\4e\\750b073e906d612680a49b9342d53b70b00942\n",
      "c:/users/dhrun.lauwers/git/knowledge-base\\.git\\objects\\4f\\ed811abac9a54e2b3af7fc1ddebf4e9a5b27ec\n",
      "c:/users/dhrun.lauwers/git/knowledge-base\\.git\\objects\\4f\\f2581ae17b2d767ea612fa926d6a7e81ccf6f6\n",
      "c:/users/dhrun.lauwers/git/knowledge-base\\.git\\objects\\4f\\f3025bc0264e17b1799b3d022ff4b38cbefe52\n",
      "c:/users/dhrun.lauwers/git/knowledge-base\\.git\\objects\\50\\315530d95cfc824be1a74e8730bfb717f874c1\n",
      "c:/users/dhrun.lauwers/git/knowledge-base\\.git\\objects\\52\\4ee762b1f2207b9c11467560382fd11afe0e97\n",
      "c:/users/dhrun.lauwers/git/knowledge-base\\.git\\objects\\54\\5210ee87dd7d812b268587dd1a5a59034589fc\n",
      "c:/users/dhrun.lauwers/git/knowledge-base\\.git\\objects\\55\\0551c562b6ff8a6428517e1c0695e9e982cda6\n",
      "c:/users/dhrun.lauwers/git/knowledge-base\\.git\\objects\\55\\0a4128be2670dded8f7914c161cf02620a7f37\n",
      "c:/users/dhrun.lauwers/git/knowledge-base\\.git\\objects\\55\\1d8fcfb58c4694e89a1624643a98b3581d1010\n",
      "c:/users/dhrun.lauwers/git/knowledge-base\\.git\\objects\\55\\aacba2899d7af8aba24d64e4b5febe6027d1bf\n",
      "c:/users/dhrun.lauwers/git/knowledge-base\\.git\\objects\\58\\40c15dc65b7cfc9903d836cb57631a8bd48cd9\n",
      "c:/users/dhrun.lauwers/git/knowledge-base\\.git\\objects\\58\\ed0dced36bf31594345afca3ed4edf12a8a7c1\n",
      "c:/users/dhrun.lauwers/git/knowledge-base\\.git\\objects\\59\\479c0e52b8c0754e2f3855d4a1c46b508216d0\n",
      "c:/users/dhrun.lauwers/git/knowledge-base\\.git\\objects\\5a\\c623aa967489530f3d9ce59b9ac263be766e3b\n",
      "c:/users/dhrun.lauwers/git/knowledge-base\\.git\\objects\\5c\\914339c3544e9de7284d1546ba8408b78ebaef\n",
      "c:/users/dhrun.lauwers/git/knowledge-base\\.git\\objects\\5d\\1ac6170b85a7b72c5622e47521af7f42e7bdfb\n",
      "c:/users/dhrun.lauwers/git/knowledge-base\\.git\\objects\\5d\\91220ac03fb98eba61d7886fbd02cabc02ae5a\n",
      "c:/users/dhrun.lauwers/git/knowledge-base\\.git\\objects\\5e\\6f34cc004ec7a855e3fc8a746f637479c15d59\n",
      "c:/users/dhrun.lauwers/git/knowledge-base\\.git\\objects\\5e\\a92d2ac0a6817ddfc648713b6450826cfaee83\n",
      "c:/users/dhrun.lauwers/git/knowledge-base\\.git\\objects\\60\\f4a0366bd9499c2a1839f6fca45534b74c8e36\n",
      "c:/users/dhrun.lauwers/git/knowledge-base\\.git\\objects\\64\\a7d889cdda8393715f3cdbfacf6fdcdeaafb98\n",
      "c:/users/dhrun.lauwers/git/knowledge-base\\.git\\objects\\64\\eb0f63952bda183b99fe560a33e4b899b6d38e\n",
      "c:/users/dhrun.lauwers/git/knowledge-base\\.git\\objects\\65\\cf9d47a770b106ebed20ff349782dac24cf2ec\n",
      "c:/users/dhrun.lauwers/git/knowledge-base\\.git\\objects\\67\\4e5976296af068c2135cf4ad064e56c0dbf889\n",
      "c:/users/dhrun.lauwers/git/knowledge-base\\.git\\objects\\69\\b390a7d1e194e293ec9d88e6dca6ca88ecb2eb\n",
      "c:/users/dhrun.lauwers/git/knowledge-base\\.git\\objects\\6a\\6289d7eae0982e2afe9ebcecd41ac23201361f\n",
      "c:/users/dhrun.lauwers/git/knowledge-base\\.git\\objects\\6a\\a375edb5c441bd5aa6e4c76dcca6970c264090\n",
      "c:/users/dhrun.lauwers/git/knowledge-base\\.git\\objects\\6d\\4b313eee2ef883249bfbc4dd0f2a7cb2a4f1ef\n",
      "c:/users/dhrun.lauwers/git/knowledge-base\\.git\\objects\\6e\\1609e9c4f9bfd7da26526aee36a32c59137057\n",
      "c:/users/dhrun.lauwers/git/knowledge-base\\.git\\objects\\71\\02f874af834688dac6a92b2f9ad9fc3873e9ca\n",
      "c:/users/dhrun.lauwers/git/knowledge-base\\.git\\objects\\71\\09525a125d2ff9cfaade50be432d5dd1e425b0\n",
      "c:/users/dhrun.lauwers/git/knowledge-base\\.git\\objects\\71\\dc3ba79865aa30f4b3dee2a16fe66cf80af391\n",
      "c:/users/dhrun.lauwers/git/knowledge-base\\.git\\objects\\74\\54ecddaf7081c5341c3fe9b854441ebf387999\n",
      "c:/users/dhrun.lauwers/git/knowledge-base\\.git\\objects\\76\\0e60b28c7e48f40102fd19fbd7da703b8684c7\n",
      "c:/users/dhrun.lauwers/git/knowledge-base\\.git\\objects\\76\\2829c9dfd354698b9051fbe6439d7d85e13560\n",
      "c:/users/dhrun.lauwers/git/knowledge-base\\.git\\objects\\76\\a3be217414586e0c1634ee62140f57258fa421\n",
      "c:/users/dhrun.lauwers/git/knowledge-base\\.git\\objects\\79\\a6aab8fcf6ebb1b6c35d7d40b1aacd9480978b\n",
      "c:/users/dhrun.lauwers/git/knowledge-base\\.git\\objects\\7a\\b0ba2711f55c15759b4dc361da6e638b2a2d35\n",
      "c:/users/dhrun.lauwers/git/knowledge-base\\.git\\objects\\7b\\08c6b1c84633c5cbb451bfc8de3bfaa89a0543\n",
      "c:/users/dhrun.lauwers/git/knowledge-base\\.git\\objects\\7c\\300f17b4dd9a100f7078e62e5bf0dafc9d3b11\n",
      "c:/users/dhrun.lauwers/git/knowledge-base\\.git\\objects\\7c\\c1ded17cf2077d5b749a441a81bb7bc3ff3658\n",
      "c:/users/dhrun.lauwers/git/knowledge-base\\.git\\objects\\7d\\091eb41176ebc66537f17ef778e60573258e54\n",
      "c:/users/dhrun.lauwers/git/knowledge-base\\.git\\objects\\7d\\7c64208e6dfc1f772fc325b6cafd342efd3ec6\n",
      "c:/users/dhrun.lauwers/git/knowledge-base\\.git\\objects\\7d\\7ec459614091d1bb103bf32f2dae1164d9e167\n",
      "c:/users/dhrun.lauwers/git/knowledge-base\\.git\\objects\\7e\\1838a24f014878a0c704a5293031c7c198e432\n",
      "c:/users/dhrun.lauwers/git/knowledge-base\\.git\\objects\\7f\\473c18f08d40f03705faf0d0dbe06c17839862\n",
      "c:/users/dhrun.lauwers/git/knowledge-base\\.git\\objects\\7f\\9a91b603b1135caf0fd6e73282b63c88018f67\n",
      "c:/users/dhrun.lauwers/git/knowledge-base\\.git\\objects\\82\\1fea9691675cd4b69d6fac3cf36c13537cac77\n",
      "c:/users/dhrun.lauwers/git/knowledge-base\\.git\\objects\\82\\da28ca6988b292d81cea54a5e430ab37f330f2\n",
      "c:/users/dhrun.lauwers/git/knowledge-base\\.git\\objects\\83\\1d2a8a4fd6642128f79ecfcbf975e18fc20553\n",
      "c:/users/dhrun.lauwers/git/knowledge-base\\.git\\objects\\86\\1fe23bac22917c745c2663fcb8e76652b59715\n",
      "c:/users/dhrun.lauwers/git/knowledge-base\\.git\\objects\\86\\8a79243f084453fcd9afa48bf0a13cfcb98772\n",
      "c:/users/dhrun.lauwers/git/knowledge-base\\.git\\objects\\89\\575079bdbf2897c62454b03a4ffdb52e563180\n",
      "c:/users/dhrun.lauwers/git/knowledge-base\\.git\\objects\\89\\669e1cd72d694fcb7bad28ae79213e53868bd3\n",
      "c:/users/dhrun.lauwers/git/knowledge-base\\.git\\objects\\89\\ea39305d304e4cc9b6f7c4159c69740081bd72\n",
      "c:/users/dhrun.lauwers/git/knowledge-base\\.git\\objects\\8a\\5c4c2029818bddf338a99422bc4077e8ec9a5d\n",
      "c:/users/dhrun.lauwers/git/knowledge-base\\.git\\objects\\8b\\c1df28c98d49fcfae6d8156d11e2b88d8dd5f3\n",
      "c:/users/dhrun.lauwers/git/knowledge-base\\.git\\objects\\8c\\839311f67e7250eb52c30fd1419c5ff106cecd\n",
      "c:/users/dhrun.lauwers/git/knowledge-base\\.git\\objects\\8d\\fdd632c744f60b859a12a5df67b89bbe7d1b9d\n",
      "c:/users/dhrun.lauwers/git/knowledge-base\\.git\\objects\\8f\\0864d8196013bb9c9c707639e889ceefa23174\n",
      "c:/users/dhrun.lauwers/git/knowledge-base\\.git\\objects\\8f\\08f9489dd52c05db57c8b9ac1c705be4b3ce5d\n",
      "c:/users/dhrun.lauwers/git/knowledge-base\\.git\\objects\\8f\\2bb7bd572534eccfcc20c64f8135874a248952\n",
      "c:/users/dhrun.lauwers/git/knowledge-base\\.git\\objects\\90\\12b598d1385b9cd4864c74c4e366e7b331db30\n",
      "c:/users/dhrun.lauwers/git/knowledge-base\\.git\\objects\\91\\00911fd1837a6bc1d5084f08016e600da9904c\n",
      "c:/users/dhrun.lauwers/git/knowledge-base\\.git\\objects\\91\\98259e7f792394379afaed5a3872bdde309fc1\n",
      "c:/users/dhrun.lauwers/git/knowledge-base\\.git\\objects\\96\\5b3765b24c72e2f174cb65ab750b79f49b0b04\n",
      "c:/users/dhrun.lauwers/git/knowledge-base\\.git\\objects\\97\\ed10ba7b63a18ffe5c075c0e6ee28cc8a26934\n",
      "c:/users/dhrun.lauwers/git/knowledge-base\\.git\\objects\\98\\d7f55beb0694a984631bb093c8b20ba42dd877\n",
      "c:/users/dhrun.lauwers/git/knowledge-base\\.git\\objects\\99\\037b55065f61b3d30dd9592ca44aeba5ce022f\n",
      "c:/users/dhrun.lauwers/git/knowledge-base\\.git\\objects\\9a\\b9f290f53427d7abfd65fb227cc338e49ca165\n",
      "c:/users/dhrun.lauwers/git/knowledge-base\\.git\\objects\\9b\\5cfd15ce0c4cb66b5c9838f29c58d73159269d\n",
      "c:/users/dhrun.lauwers/git/knowledge-base\\.git\\objects\\9c\\c714280bbaf6b2eead90dc57cf427e1b8d604a\n",
      "c:/users/dhrun.lauwers/git/knowledge-base\\.git\\objects\\9f\\6a505ff444ef90307e60d3941369990a874b6c\n",
      "c:/users/dhrun.lauwers/git/knowledge-base\\.git\\objects\\9f\\e7eaa75a1ac6d4c9cc51b509e06eebc4145296\n",
      "c:/users/dhrun.lauwers/git/knowledge-base\\.git\\objects\\a1\\39d200ac6e45976645d8652bf9d1b452950467\n",
      "c:/users/dhrun.lauwers/git/knowledge-base\\.git\\objects\\a1\\b075f5a2d6b8fde4070007419161410200c780\n",
      "c:/users/dhrun.lauwers/git/knowledge-base\\.git\\objects\\a1\\b75f5842521884a5016d9d115617802468359f\n",
      "c:/users/dhrun.lauwers/git/knowledge-base\\.git\\objects\\a2\\6c1ddc7ccf763eebb6cd186ca5d52f17e1e200\n",
      "c:/users/dhrun.lauwers/git/knowledge-base\\.git\\objects\\a2\\a7623f807c73062cdb9b938ca854b28156e2da\n",
      "c:/users/dhrun.lauwers/git/knowledge-base\\.git\\objects\\a5\\395537295a515139528535c835549624cf1ba6\n",
      "c:/users/dhrun.lauwers/git/knowledge-base\\.git\\objects\\a6\\67198a032b435e9f37dca5c066fc1ee9c6004e\n",
      "c:/users/dhrun.lauwers/git/knowledge-base\\.git\\objects\\a7\\ab6a989deea4ce70c156396ab9821976c6985c\n",
      "c:/users/dhrun.lauwers/git/knowledge-base\\.git\\objects\\a8\\10ee9dcbf84401258b726b26d8d6178e174e4a\n",
      "c:/users/dhrun.lauwers/git/knowledge-base\\.git\\objects\\aa\\e117eb961b11099579ca5283d5c0d722ba9b4c\n",
      "c:/users/dhrun.lauwers/git/knowledge-base\\.git\\objects\\ab\\3b9dee75b53660da9d5851c40df457494c44c0\n",
      "c:/users/dhrun.lauwers/git/knowledge-base\\.git\\objects\\ad\\06a46c16827414d9a19223a361936f38cb03fb\n",
      "c:/users/dhrun.lauwers/git/knowledge-base\\.git\\objects\\ad\\24fba433764a9119608e0b82c2707c2ab7c2f2\n",
      "c:/users/dhrun.lauwers/git/knowledge-base\\.git\\objects\\ad\\4f7175a1fbb08dba1ca77c293fe72a55ae9d13\n",
      "c:/users/dhrun.lauwers/git/knowledge-base\\.git\\objects\\ad\\ec43aa686b743e0e8955d846d0c0d53b5c0d47\n",
      "c:/users/dhrun.lauwers/git/knowledge-base\\.git\\objects\\ae\\1d94af74873b109f89f3c2baba17ad5068d856\n",
      "c:/users/dhrun.lauwers/git/knowledge-base\\.git\\objects\\ae\\85e380101fee7c6c08b84b822bb0e58e4b90a1\n",
      "c:/users/dhrun.lauwers/git/knowledge-base\\.git\\objects\\af\\402dec8863c46c5a8f528b964b6a8bd81acbb9\n",
      "c:/users/dhrun.lauwers/git/knowledge-base\\.git\\objects\\af\\fb41db2516f436bac1ee1cd5bd44486c3b28ee\n",
      "c:/users/dhrun.lauwers/git/knowledge-base\\.git\\objects\\b0\\e1c25ba6b29fb20a56c89571db606d56956d98\n",
      "c:/users/dhrun.lauwers/git/knowledge-base\\.git\\objects\\b1\\336fc8d2313a513cc74fffbffc753b862570ad\n",
      "c:/users/dhrun.lauwers/git/knowledge-base\\.git\\objects\\b1\\41aba1e7ccc343fddfe97779bb3b795fbbc86f\n",
      "c:/users/dhrun.lauwers/git/knowledge-base\\.git\\objects\\b1\\6bc6e3ff725553b2bc4eb53d60aa6dd82721cb\n",
      "c:/users/dhrun.lauwers/git/knowledge-base\\.git\\objects\\b4\\1b24ffcf77838b4e72c0ccf7146940c4c79f3e\n",
      "c:/users/dhrun.lauwers/git/knowledge-base\\.git\\objects\\b4\\81ae5dfb1c80f407e8b2e83bf240bd4917d4ee\n",
      "c:/users/dhrun.lauwers/git/knowledge-base\\.git\\objects\\b4\\c33ca6ad472ec40277ed268bd6e19a348c2485\n",
      "c:/users/dhrun.lauwers/git/knowledge-base\\.git\\objects\\b4\\f7c619d304b9718fa2957f1684b4c15b08c30e\n",
      "c:/users/dhrun.lauwers/git/knowledge-base\\.git\\objects\\b7\\c7a2d915bae5fed66019c4d918fef095627c47\n",
      "c:/users/dhrun.lauwers/git/knowledge-base\\.git\\objects\\b7\\edd937c1f96342d0ca77647ca49722d6d4572a\n",
      "c:/users/dhrun.lauwers/git/knowledge-base\\.git\\objects\\bb\\e5f806786740d35002b14a4802db34ae61e0bd\n",
      "c:/users/dhrun.lauwers/git/knowledge-base\\.git\\objects\\bc\\eac249c2b4d17fe72ee1471d51f42ac8da64a8\n",
      "c:/users/dhrun.lauwers/git/knowledge-base\\.git\\objects\\be\\25ce5a82a1a8381d75df06f12dccd8feb0b4e0\n",
      "c:/users/dhrun.lauwers/git/knowledge-base\\.git\\objects\\be\\7e8c3b227c05599b92cac12a47e2853dd3d0e2\n",
      "c:/users/dhrun.lauwers/git/knowledge-base\\.git\\objects\\be\\fbce0bbfe4e45e70fef4fc8b7dbe858410d840\n",
      "c:/users/dhrun.lauwers/git/knowledge-base\\.git\\objects\\c0\\4329c64b5576544954105888294a984b929965\n",
      "c:/users/dhrun.lauwers/git/knowledge-base\\.git\\objects\\c0\\d1bcc376537658be89ff1ffe396879c1b4ecea\n",
      "c:/users/dhrun.lauwers/git/knowledge-base\\.git\\objects\\c3\\8d73cee7a7184f75ee9c7f6f924fb390a92851\n",
      "c:/users/dhrun.lauwers/git/knowledge-base\\.git\\objects\\c5\\efafcdf1bda3ecb3ef4a65ebbe8007744377f7\n",
      "c:/users/dhrun.lauwers/git/knowledge-base\\.git\\objects\\c7\\f07350128b28526e68c1463213eed231520101\n",
      "c:/users/dhrun.lauwers/git/knowledge-base\\.git\\objects\\c8\\3d0ca49ddc683fe5337a3197f094e2752e4a71\n",
      "c:/users/dhrun.lauwers/git/knowledge-base\\.git\\objects\\c9\\d0faa429620d82dcff4eb46d44ceaacea82fda\n",
      "c:/users/dhrun.lauwers/git/knowledge-base\\.git\\objects\\c9\\ed04def423ca24959e3da28e1586a13126ba0c\n",
      "c:/users/dhrun.lauwers/git/knowledge-base\\.git\\objects\\ca\\7d23fa50650a8d5c2d63e2f9b0707e8199a809\n",
      "c:/users/dhrun.lauwers/git/knowledge-base\\.git\\objects\\cb\\234913682c8103d34a7d88554fbfc6a19b070c\n",
      "c:/users/dhrun.lauwers/git/knowledge-base\\.git\\objects\\cd\\6982405b6b18185f960c785031d529a89acede\n",
      "c:/users/dhrun.lauwers/git/knowledge-base\\.git\\objects\\ce\\5aa1acd60d6f3afddc6645dcff7ae41b27927f\n",
      "c:/users/dhrun.lauwers/git/knowledge-base\\.git\\objects\\ce\\86b1a7db6005d2856cd506b84ab78dd87d5541\n",
      "c:/users/dhrun.lauwers/git/knowledge-base\\.git\\objects\\d1\\a344e6dab66ef196744c260e9eb439217e6efa\n",
      "c:/users/dhrun.lauwers/git/knowledge-base\\.git\\objects\\d3\\6cb18dbce50731e2c2db922298107aa0461bb2\n",
      "c:/users/dhrun.lauwers/git/knowledge-base\\.git\\objects\\d3\\86f4980dfba5c1afb2b2d54a4b868e11853908\n",
      "c:/users/dhrun.lauwers/git/knowledge-base\\.git\\objects\\d4\\3184e2f01715ccbee98c410d13f10154f29992\n",
      "c:/users/dhrun.lauwers/git/knowledge-base\\.git\\objects\\d5\\70156c89e7d6b1e10fe71932bb4b57c5d475a9\n",
      "c:/users/dhrun.lauwers/git/knowledge-base\\.git\\objects\\d5\\908829c0825f098cfd43623c3ae156f6f4384d\n",
      "c:/users/dhrun.lauwers/git/knowledge-base\\.git\\objects\\d6\\3f861e6f72b006982c7a5af013c437d7c896ef\n",
      "c:/users/dhrun.lauwers/git/knowledge-base\\.git\\objects\\d6\\454f7ff9ef457812b7879f0efc7e903f4ed33f\n",
      "c:/users/dhrun.lauwers/git/knowledge-base\\.git\\objects\\d7\\968e157e5f8a2ed9836973fce3e8563f217f2c\n",
      "c:/users/dhrun.lauwers/git/knowledge-base\\.git\\objects\\da\\01a67af58fa4ed0cc7c83ce9a61df9099e464b\n",
      "c:/users/dhrun.lauwers/git/knowledge-base\\.git\\objects\\da\\f2eb900ca87d7a2453e78f95795a3ed00fb55d\n",
      "c:/users/dhrun.lauwers/git/knowledge-base\\.git\\objects\\db\\ef2490da4f3bf79944b60faf3ce6f2e2799efc\n",
      "c:/users/dhrun.lauwers/git/knowledge-base\\.git\\objects\\dc\\393bb3daf14500d37c75e78815e614dbe98de5\n",
      "c:/users/dhrun.lauwers/git/knowledge-base\\.git\\objects\\dc\\a12ecd869c3f2381234f2601c3e45fc58171b1\n",
      "c:/users/dhrun.lauwers/git/knowledge-base\\.git\\objects\\de\\16aaa907ab894cce7e63eb5004a9b72437635f\n",
      "c:/users/dhrun.lauwers/git/knowledge-base\\.git\\objects\\e1\\84a7aa8229c06783a09b884d962c2b08feeaf2\n",
      "c:/users/dhrun.lauwers/git/knowledge-base\\.git\\objects\\e3\\39d4eb73b5c2b5151a700dc785be94eac1fe0a\n",
      "c:/users/dhrun.lauwers/git/knowledge-base\\.git\\objects\\e3\\e99aa8ddcb14173ca2a4fd3859c3ad9a373809\n",
      "c:/users/dhrun.lauwers/git/knowledge-base\\.git\\objects\\e4\\5ef45a56a3bcb7f72d9cbf08a625a590e66feb\n",
      "c:/users/dhrun.lauwers/git/knowledge-base\\.git\\objects\\e7\\d0635cd662c43e658cc96097ebffb88d7d650a\n",
      "c:/users/dhrun.lauwers/git/knowledge-base\\.git\\objects\\ea\\f9e9fafe2fd5c8aad53bd889fbd4b6ce42aabd\n",
      "c:/users/dhrun.lauwers/git/knowledge-base\\.git\\objects\\ec\\a5a15c41c23fb8ad971ce11e5d30f43ec90b2a\n",
      "c:/users/dhrun.lauwers/git/knowledge-base\\.git\\objects\\ed\\a4195a6bc422101091cbc523a2dfe1533fdc53\n",
      "c:/users/dhrun.lauwers/git/knowledge-base\\.git\\objects\\ee\\d9f13d4f001662febeb4aac7e647fb5f67d887\n",
      "c:/users/dhrun.lauwers/git/knowledge-base\\.git\\objects\\f1\\71f1772bb385778020d34310f979220f058039\n",
      "c:/users/dhrun.lauwers/git/knowledge-base\\.git\\objects\\f3\\baa5cd680bebde34b6411f9f111fa16d869c5f\n",
      "c:/users/dhrun.lauwers/git/knowledge-base\\.git\\objects\\f5\\98787c6687744c4c8097ba1a35e68d8d2cd809\n",
      "c:/users/dhrun.lauwers/git/knowledge-base\\.git\\objects\\f5\\b0bab630bedb91b7a067f349a5298c264e7793\n",
      "c:/users/dhrun.lauwers/git/knowledge-base\\.git\\objects\\f7\\5a596d1e9bc5b6efa08cc63ad5f5b691dc07c6\n",
      "c:/users/dhrun.lauwers/git/knowledge-base\\.git\\objects\\f8\\1e24b4e858ab8063dd2b730cb2f3dfcce4c40e\n",
      "c:/users/dhrun.lauwers/git/knowledge-base\\.git\\objects\\f9\\65b5a617725fb6e78a0197a532da08ad70e0ce\n",
      "c:/users/dhrun.lauwers/git/knowledge-base\\.git\\objects\\fa\\966e8ae8c6846a448c033afa740dc9670307a7\n",
      "c:/users/dhrun.lauwers/git/knowledge-base\\.git\\objects\\fa\\b81e34fcfe643040248819b7c719280fe031a9\n",
      "c:/users/dhrun.lauwers/git/knowledge-base\\.git\\objects\\fc\\2de258f6f06a77818468e26bad8c0c855c362f\n",
      "c:/users/dhrun.lauwers/git/knowledge-base\\.git\\objects\\fc\\dc17350257c4c638b32ce5a80cde95b3f8c9cc\n",
      "c:/users/dhrun.lauwers/git/knowledge-base\\.git\\objects\\fd\\011b4cf2aa1a82fe2700f8668bde9846607fd7\n",
      "c:/users/dhrun.lauwers/git/knowledge-base\\.git\\objects\\fe\\10ac74a61ce25e96a920b3ed0ef8df14c8be60\n",
      "c:/users/dhrun.lauwers/git/knowledge-base\\.git\\ORIG_HEAD\n",
      "c:/users/dhrun.lauwers/git/knowledge-base\\.git\\refs\\heads\\develop\n",
      "c:/users/dhrun.lauwers/git/knowledge-base\\.git\\refs\\heads\\master\n",
      "c:/users/dhrun.lauwers/git/knowledge-base\\.git\\refs\\remotes\\origin\\develop\n",
      "c:/users/dhrun.lauwers/git/knowledge-base\\.git\\refs\\remotes\\origin\\master\n",
      "c:/users/dhrun.lauwers/git/knowledge-base\\.gitignore\n",
      "c:/users/dhrun.lauwers/git/knowledge-base\\.idea\\.gitignore\n",
      "c:/users/dhrun.lauwers/git/knowledge-base\\.idea\\inspectionProfiles\\profiles_settings.xml\n",
      "c:/users/dhrun.lauwers/git/knowledge-base\\.idea\\knowledge-base.iml\n",
      "c:/users/dhrun.lauwers/git/knowledge-base\\.idea\\misc.xml\n",
      "c:/users/dhrun.lauwers/git/knowledge-base\\.idea\\modules.xml\n",
      "c:/users/dhrun.lauwers/git/knowledge-base\\.idea\\vcs.xml\n",
      "c:/users/dhrun.lauwers/git/knowledge-base\\.idea\\workspace.xml\n",
      "c:/users/dhrun.lauwers/git/knowledge-base\\data-science\\3250-u-of-t-intro-to-data-science\\assignment1\\.ipynb_checkpoints\\Assignment 1 - Intro to Python-checkpoint.ipynb\n",
      "c:/users/dhrun.lauwers/git/knowledge-base\\data-science\\3250-u-of-t-intro-to-data-science\\assignment1\\Assignment 1 - Intro to Python.ipynb\n",
      "c:/users/dhrun.lauwers/git/knowledge-base\\data-science\\3250-u-of-t-intro-to-data-science\\modules\\02 - Intro to Python - Part 1.ipynb\n",
      "c:/users/dhrun.lauwers/git/knowledge-base\\data-science\\3250-u-of-t-intro-to-data-science\\modules\\02 - Intro to Python - Part 2.ipynb\n",
      "c:/users/dhrun.lauwers/git/knowledge-base\\data-science\\3250-u-of-t-intro-to-data-science\\modules\\02 - Intro to Python - Part 3.ipynb\n",
      "c:/users/dhrun.lauwers/git/knowledge-base\\data-science\\think-python\\.ipynb_checkpoints\\Chapter10-lists-checkpoint.ipynb\n",
      "c:/users/dhrun.lauwers/git/knowledge-base\\data-science\\think-python\\.ipynb_checkpoints\\Chapter11-dictionaries-checkpoint.ipynb\n",
      "c:/users/dhrun.lauwers/git/knowledge-base\\data-science\\think-python\\.ipynb_checkpoints\\Chapter12-tuples-checkpoint.ipynb\n",
      "c:/users/dhrun.lauwers/git/knowledge-base\\data-science\\think-python\\.ipynb_checkpoints\\Chapter13-case-study-data-structure-selection-checkpoint.ipynb\n",
      "c:/users/dhrun.lauwers/git/knowledge-base\\data-science\\think-python\\.ipynb_checkpoints\\Chapter14-files-checkpoint.ipynb\n",
      "c:/users/dhrun.lauwers/git/knowledge-base\\data-science\\think-python\\.ipynb_checkpoints\\Chapter3-functions-checkpoint.ipynb\n",
      "c:/users/dhrun.lauwers/git/knowledge-base\\data-science\\think-python\\.ipynb_checkpoints\\Chapter4-case-study-interface-design-checkpoint.ipynb\n",
      "c:/users/dhrun.lauwers/git/knowledge-base\\data-science\\think-python\\.ipynb_checkpoints\\Chapter5-conditionals-and-recursion-checkpoint.ipynb\n",
      "c:/users/dhrun.lauwers/git/knowledge-base\\data-science\\think-python\\.ipynb_checkpoints\\Chapter6-fruitful-functions-checkpoint.ipynb\n",
      "c:/users/dhrun.lauwers/git/knowledge-base\\data-science\\think-python\\.ipynb_checkpoints\\Chapter7-iteration-checkpoint.ipynb\n",
      "c:/users/dhrun.lauwers/git/knowledge-base\\data-science\\think-python\\.ipynb_checkpoints\\Chapter8-Strings-checkpoint.ipynb\n",
      "c:/users/dhrun.lauwers/git/knowledge-base\\data-science\\think-python\\.ipynb_checkpoints\\Chapter9-word-play-checkpoint.ipynb\n",
      "c:/users/dhrun.lauwers/git/knowledge-base\\data-science\\think-python\\Chapter1-the-way-of-the-program.md\n",
      "c:/users/dhrun.lauwers/git/knowledge-base\\data-science\\think-python\\Chapter10-lists.ipynb\n",
      "c:/users/dhrun.lauwers/git/knowledge-base\\data-science\\think-python\\Chapter11-dictionaries.ipynb\n",
      "c:/users/dhrun.lauwers/git/knowledge-base\\data-science\\think-python\\Chapter12-tuples.ipynb\n",
      "c:/users/dhrun.lauwers/git/knowledge-base\\data-science\\think-python\\Chapter13-case-study-data-structure-selection.ipynb\n",
      "c:/users/dhrun.lauwers/git/knowledge-base\\data-science\\think-python\\Chapter14-files.ipynb\n",
      "c:/users/dhrun.lauwers/git/knowledge-base\\data-science\\think-python\\Chapter2-variables-expressions-and-statements.md\n",
      "c:/users/dhrun.lauwers/git/knowledge-base\\data-science\\think-python\\Chapter3-functions.ipynb\n",
      "c:/users/dhrun.lauwers/git/knowledge-base\\data-science\\think-python\\Chapter4-case-study-interface-design.ipynb\n",
      "c:/users/dhrun.lauwers/git/knowledge-base\\data-science\\think-python\\Chapter5-conditionals-and-recursion.ipynb\n",
      "c:/users/dhrun.lauwers/git/knowledge-base\\data-science\\think-python\\Chapter6-fruitful-functions.ipynb\n",
      "c:/users/dhrun.lauwers/git/knowledge-base\\data-science\\think-python\\Chapter7-iteration.ipynb\n",
      "c:/users/dhrun.lauwers/git/knowledge-base\\data-science\\think-python\\Chapter8-Strings.ipynb\n",
      "c:/users/dhrun.lauwers/git/knowledge-base\\data-science\\think-python\\Chapter9-word-play.ipynb\n",
      "c:/users/dhrun.lauwers/git/knowledge-base\\data-science\\think-python\\examples\\analyze_book1.py\n",
      "c:/users/dhrun.lauwers/git/knowledge-base\\data-science\\think-python\\examples\\polygon.py\n",
      "c:/users/dhrun.lauwers/git/knowledge-base\\data-science\\think-python\\exercises\\.ipynb_checkpoints\\Exercises-checkpoint.ipynb\n",
      "c:/users/dhrun.lauwers/git/knowledge-base\\data-science\\think-python\\exercises\\emma.txt\n",
      "c:/users/dhrun.lauwers/git/knowledge-base\\data-science\\think-python\\exercises\\Exercises.ipynb\n",
      "c:/users/dhrun.lauwers/git/knowledge-base\\data-science\\think-python\\exercises\\mypolygon.py\n",
      "c:/users/dhrun.lauwers/git/knowledge-base\\data-science\\think-python\\exercises\\sherlock.txt\n",
      "c:/users/dhrun.lauwers/git/knowledge-base\\data-science\\think-python\\exercises\\words.txt\n",
      "c:/users/dhrun.lauwers/git/knowledge-base\\data-science\\think-python\\exercises\\words2.txt\n",
      "c:/users/dhrun.lauwers/git/knowledge-base\\data-science\\think-python\\images\\10.1.PNG\n",
      "c:/users/dhrun.lauwers/git/knowledge-base\\data-science\\think-python\\images\\11.1.PNG\n",
      "c:/users/dhrun.lauwers/git/knowledge-base\\data-science\\think-python\\images\\11.2.PNG\n",
      "c:/users/dhrun.lauwers/git/knowledge-base\\data-science\\think-python\\images\\3.1.png\n",
      "c:/users/dhrun.lauwers/git/knowledge-base\\data-science\\think-python\\images\\5.1.png\n",
      "c:/users/dhrun.lauwers/git/knowledge-base\\data-science\\think-python\\images\\6.2.png\n",
      "c:/users/dhrun.lauwers/git/knowledge-base\\data-science\\think-python\\images\\6.6.png\n",
      "c:/users/dhrun.lauwers/git/knowledge-base\\data-science\\think-python\\images\\7.1.png\n",
      "c:/users/dhrun.lauwers/git/knowledge-base\\gcp\\bigquery\\bigquery.md\n",
      "c:/users/dhrun.lauwers/git/knowledge-base\\gcp\\bigquery\\bigquery_external_storage.png\n",
      "c:/users/dhrun.lauwers/git/knowledge-base\\gcp\\bigquery\\load_data_to_bigquery.png\n",
      "c:/users/dhrun.lauwers/git/knowledge-base\\gcp\\bigquery\\project_roles.png\n",
      "c:/users/dhrun.lauwers/git/knowledge-base\\gcp\\bigquery\\role_of_bigquery.png\n",
      "c:/users/dhrun.lauwers/git/knowledge-base\\gcp\\bigquery\\stream_data_to_bigquery.png\n",
      "c:/users/dhrun.lauwers/git/knowledge-base\\gcp\\bigquery\\warehouse_architecture.png\n",
      "c:/users/dhrun.lauwers/git/knowledge-base\\gcp\\dataproc\\dataproc.md\n",
      "c:/users/dhrun.lauwers/git/knowledge-base\\gcp\\dataproc\\input_output.png\n",
      "c:/users/dhrun.lauwers/git/knowledge-base\\gcp\\introduction\\gcp_products.png\n",
      "c:/users/dhrun.lauwers/git/knowledge-base\\gcp\\introduction\\gcp_storage_access_pattern.png\n",
      "c:/users/dhrun.lauwers/git/knowledge-base\\gcp\\introduction\\gcp_storage_by_data_type.png\n",
      "c:/users/dhrun.lauwers/git/knowledge-base\\gcp\\introduction\\gcp_wbs.png\n",
      "c:/users/dhrun.lauwers/git/knowledge-base\\gcp\\introduction\\introduction.md\n",
      "c:/users/dhrun.lauwers/git/knowledge-base\\git\\git-quick-start.md\n",
      "c:/users/dhrun.lauwers/git/knowledge-base\\linux\\linux-essentials\\common-applications.md\n",
      "c:/users/dhrun.lauwers/git/knowledge-base\\linux\\linux-essentials\\introduction.md\n",
      "c:/users/dhrun.lauwers/git/knowledge-base\\linux\\linux-essentials\\ports_and_applications.PNG\n",
      "c:/users/dhrun.lauwers/git/knowledge-base\\todo.txt\n"
     ]
    },
    {
     "name": "stdout",
     "output_type": "stream",
     "text": [
      "c:/users/dhrun.lauwers/git/rep-b\\.git\\COMMIT_EDITMSG\n",
      "c:/users/dhrun.lauwers/git/rep-b\\.git\\config\n",
      "c:/users/dhrun.lauwers/git/rep-b\\.git\\description\n",
      "c:/users/dhrun.lauwers/git/rep-b\\.git\\HEAD\n",
      "c:/users/dhrun.lauwers/git/rep-b\\.git\\hooks\\applypatch-msg.sample\n",
      "c:/users/dhrun.lauwers/git/rep-b\\.git\\hooks\\commit-msg.sample\n",
      "c:/users/dhrun.lauwers/git/rep-b\\.git\\hooks\\fsmonitor-watchman.sample\n",
      "c:/users/dhrun.lauwers/git/rep-b\\.git\\hooks\\post-update.sample\n",
      "c:/users/dhrun.lauwers/git/rep-b\\.git\\hooks\\pre-applypatch.sample\n",
      "c:/users/dhrun.lauwers/git/rep-b\\.git\\hooks\\pre-commit.sample\n",
      "c:/users/dhrun.lauwers/git/rep-b\\.git\\hooks\\pre-push.sample\n",
      "c:/users/dhrun.lauwers/git/rep-b\\.git\\hooks\\pre-rebase.sample\n",
      "c:/users/dhrun.lauwers/git/rep-b\\.git\\hooks\\pre-receive.sample\n",
      "c:/users/dhrun.lauwers/git/rep-b\\.git\\hooks\\prepare-commit-msg.sample\n",
      "c:/users/dhrun.lauwers/git/rep-b\\.git\\hooks\\update.sample\n",
      "c:/users/dhrun.lauwers/git/rep-b\\.git\\index\n",
      "c:/users/dhrun.lauwers/git/rep-b\\.git\\info\\exclude\n",
      "c:/users/dhrun.lauwers/git/rep-b\\.git\\logs\\HEAD\n",
      "c:/users/dhrun.lauwers/git/rep-b\\.git\\logs\\refs\\heads\\master\n",
      "c:/users/dhrun.lauwers/git/rep-b\\.git\\objects\\79\\92a4d89721347e7042cfefece1ec1c7f75926f\n",
      "c:/users/dhrun.lauwers/git/rep-b\\.git\\objects\\a8\\cf9cad57a4fd9480149606c06df510fa62d1b2\n",
      "c:/users/dhrun.lauwers/git/rep-b\\.git\\refs\\heads\\master\n",
      "c:/users/dhrun.lauwers/git/rep-b\\develop\\.git\\config\n",
      "c:/users/dhrun.lauwers/git/rep-b\\develop\\.git\\description\n",
      "c:/users/dhrun.lauwers/git/rep-b\\develop\\.git\\HEAD\n",
      "c:/users/dhrun.lauwers/git/rep-b\\develop\\.git\\hooks\\applypatch-msg.sample\n",
      "c:/users/dhrun.lauwers/git/rep-b\\develop\\.git\\hooks\\commit-msg.sample\n",
      "c:/users/dhrun.lauwers/git/rep-b\\develop\\.git\\hooks\\fsmonitor-watchman.sample\n",
      "c:/users/dhrun.lauwers/git/rep-b\\develop\\.git\\hooks\\post-update.sample\n",
      "c:/users/dhrun.lauwers/git/rep-b\\develop\\.git\\hooks\\pre-applypatch.sample\n",
      "c:/users/dhrun.lauwers/git/rep-b\\develop\\.git\\hooks\\pre-commit.sample\n",
      "c:/users/dhrun.lauwers/git/rep-b\\develop\\.git\\hooks\\pre-push.sample\n",
      "c:/users/dhrun.lauwers/git/rep-b\\develop\\.git\\hooks\\pre-rebase.sample\n",
      "c:/users/dhrun.lauwers/git/rep-b\\develop\\.git\\hooks\\pre-receive.sample\n",
      "c:/users/dhrun.lauwers/git/rep-b\\develop\\.git\\hooks\\prepare-commit-msg.sample\n",
      "c:/users/dhrun.lauwers/git/rep-b\\develop\\.git\\hooks\\update.sample\n",
      "c:/users/dhrun.lauwers/git/rep-b\\develop\\.git\\index\n",
      "c:/users/dhrun.lauwers/git/rep-b\\develop\\.git\\info\\exclude\n",
      "c:/users/dhrun.lauwers/git/rep-b\\develop\\.git\\logs\\HEAD\n",
      "c:/users/dhrun.lauwers/git/rep-b\\develop\\.git\\logs\\refs\\heads\\master\n",
      "c:/users/dhrun.lauwers/git/rep-b\\develop\\.git\\logs\\refs\\remotes\\origin\\HEAD\n",
      "c:/users/dhrun.lauwers/git/rep-b\\develop\\.git\\objects\\pack\\pack-a336aa3192b30ef40b2b2a72ed37bf448fd9899f.idx\n",
      "c:/users/dhrun.lauwers/git/rep-b\\develop\\.git\\objects\\pack\\pack-a336aa3192b30ef40b2b2a72ed37bf448fd9899f.pack\n",
      "c:/users/dhrun.lauwers/git/rep-b\\develop\\.git\\packed-refs\n",
      "c:/users/dhrun.lauwers/git/rep-b\\develop\\.git\\refs\\heads\\master\n",
      "c:/users/dhrun.lauwers/git/rep-b\\develop\\.git\\refs\\remotes\\origin\\HEAD\n",
      "c:/users/dhrun.lauwers/git/rep-b\\develop\\.gitattributes\n",
      "c:/users/dhrun.lauwers/git/rep-b\\develop\\.gitignore\n",
      "c:/users/dhrun.lauwers/git/rep-b\\develop\\bin\\create_tunnel.cmd\n",
      "c:/users/dhrun.lauwers/git/rep-b\\develop\\bin\\create_tunnel.sh\n",
      "c:/users/dhrun.lauwers/git/rep-b\\develop\\bin\\dags\\feature_generation.sh\n",
      "c:/users/dhrun.lauwers/git/rep-b\\develop\\bin\\dags\\legacy\\consignment_joined.sh\n",
      "c:/users/dhrun.lauwers/git/rep-b\\develop\\bin\\dags\\legacy\\modelling_ecomm_join.sh\n",
      "c:/users/dhrun.lauwers/git/rep-b\\develop\\bin\\dags\\legacy\\pre_features.sh\n",
      "c:/users/dhrun.lauwers/git/rep-b\\develop\\bin\\dags\\template.sh\n",
      "c:/users/dhrun.lauwers/git/rep-b\\develop\\bin\\deprecated\\dataproc_init\\install_repb_from_git.sh\n",
      "c:/users/dhrun.lauwers/git/rep-b\\develop\\bin\\deprecated\\dataproc_init\\install_requirements.sh\n",
      "c:/users/dhrun.lauwers/git/rep-b\\develop\\bin\\deprecated\\dataproc_init\\requirements.txt\n",
      "c:/users/dhrun.lauwers/git/rep-b\\develop\\bin\\launch_dataproc.sh\n",
      "c:/users/dhrun.lauwers/git/rep-b\\develop\\bin\\launch_dataproc_datalab.sh\n",
      "c:/users/dhrun.lauwers/git/rep-b\\develop\\bin\\legacy_launch_dataproc.sh\n",
      "c:/users/dhrun.lauwers/git/rep-b\\develop\\bin\\load_to_bigquery\\bigquery.yaml\n",
      "c:/users/dhrun.lauwers/git/rep-b\\develop\\bin\\load_to_bigquery\\load_to_bigquery.py\n",
      "c:/users/dhrun.lauwers/git/rep-b\\develop\\bin\\load_to_bigquery\\README.md\n",
      "c:/users/dhrun.lauwers/git/rep-b\\develop\\bin\\shut_down_dataproc.sh\n",
      "c:/users/dhrun.lauwers/git/rep-b\\develop\\bin\\start_proxied_chrome.cmd\n",
      "c:/users/dhrun.lauwers/git/rep-b\\develop\\bin\\start_proxied_chrome.sh\n",
      "c:/users/dhrun.lauwers/git/rep-b\\develop\\dags\\all_models_runner.py\n",
      "c:/users/dhrun.lauwers/git/rep-b\\develop\\dags\\build_size_curves_runner.py\n",
      "c:/users/dhrun.lauwers/git/rep-b\\develop\\dags\\conda_test_runner.py\n",
      "c:/users/dhrun.lauwers/git/rep-b\\develop\\dags\\evaluate_runner.py\n",
      "c:/users/dhrun.lauwers/git/rep-b\\develop\\dags\\legacy\\conda_test_runner_alt.py\n",
      "c:/users/dhrun.lauwers/git/rep-b\\develop\\dags\\legacy\\consignment_join_runner.py\n",
      "c:/users/dhrun.lauwers/git/rep-b\\develop\\dags\\legacy\\ecomm_clean_runner.py\n",
      "c:/users/dhrun.lauwers/git/rep-b\\develop\\dags\\legacy\\ecomm_inc_runner.py\n",
      "c:/users/dhrun.lauwers/git/rep-b\\develop\\dags\\legacy\\features_runner.py\n",
      "c:/users/dhrun.lauwers/git/rep-b\\develop\\dags\\legacy\\ft_inv_clean_runner.py\n",
      "c:/users/dhrun.lauwers/git/rep-b\\develop\\dags\\legacy\\inv_inc_runner.py\n",
      "c:/users/dhrun.lauwers/git/rep-b\\develop\\dags\\legacy\\modelling_ecomm_join_runner.py\n",
      "c:/users/dhrun.lauwers/git/rep-b\\develop\\dags\\legacy\\model_training_runner.py\n",
      "c:/users/dhrun.lauwers/git/rep-b\\develop\\dags\\legacy\\predict_runner.py\n",
      "c:/users/dhrun.lauwers/git/rep-b\\develop\\dags\\legacy\\pre_features_runner.py\n",
      "c:/users/dhrun.lauwers/git/rep-b\\develop\\dags\\legacy\\prorater_training_runner.py\n",
      "c:/users/dhrun.lauwers/git/rep-b\\develop\\dags\\legacy\\sales_aggr_runner.py\n",
      "c:/users/dhrun.lauwers/git/rep-b\\develop\\dags\\legacy\\sales_clean_runner.py\n",
      "c:/users/dhrun.lauwers/git/rep-b\\develop\\dags\\legacy\\sales_clean_runner_incremental.py\n",
      "c:/users/dhrun.lauwers/git/rep-b\\develop\\dags\\legacy\\sales_filter_runner.py\n",
      "c:/users/dhrun.lauwers/git/rep-b\\develop\\dags\\legacy\\sales_inc_runner.py\n",
      "c:/users/dhrun.lauwers/git/rep-b\\develop\\dags\\legacy\\sc_ecomm_join_runner.py\n",
      "c:/users/dhrun.lauwers/git/rep-b\\develop\\dags\\legacy\\sc_pos_join_runner.py\n",
      "c:/users/dhrun.lauwers/git/rep-b\\develop\\dags\\legacy\\stockout_runner.py\n",
      "c:/users/dhrun.lauwers/git/rep-b\\develop\\dags\\legacy\\stockout_weekly_runner.py\n",
      "c:/users/dhrun.lauwers/git/rep-b\\develop\\dags\\lost_sales_runner.py\n",
      "c:/users/dhrun.lauwers/git/rep-b\\develop\\dags\\price_models_runner.py\n",
      "c:/users/dhrun.lauwers/git/rep-b\\develop\\dags\\prod_models_trainer.py\n",
      "c:/users/dhrun.lauwers/git/rep-b\\develop\\dags\\prod_predict_runner.py\n",
      "c:/users/dhrun.lauwers/git/rep-b\\develop\\dags\\README.md\n",
      "c:/users/dhrun.lauwers/git/rep-b\\develop\\dags\\repartition_runner.py\n",
      "c:/users/dhrun.lauwers/git/rep-b\\develop\\dags\\runner.py\n",
      "c:/users/dhrun.lauwers/git/rep-b\\develop\\dags_new\\airflow_dag_maker.py\n",
      "c:/users/dhrun.lauwers/git/rep-b\\develop\\dags_new\\clean_inc_jobs.py\n",
      "c:/users/dhrun.lauwers/git/rep-b\\develop\\dags_new\\clean_jobs.py\n",
      "c:/users/dhrun.lauwers/git/rep-b\\develop\\dags_new\\config\\brand_bra.yaml\n",
      "c:/users/dhrun.lauwers/git/rep-b\\develop\\dags_new\\config\\price_b10_mshoes.yaml\n",
      "c:/users/dhrun.lauwers/git/rep-b\\develop\\dags_new\\config\\price_b10_wshoes.yaml\n",
      "c:/users/dhrun.lauwers/git/rep-b\\develop\\dags_new\\deprecated\\example_usage.py\n",
      "c:/users/dhrun.lauwers/git/rep-b\\develop\\dags_new\\deprecated\\mastermind_concepts.xml\n",
      "c:/users/dhrun.lauwers/git/rep-b\\develop\\dags_new\\deprecated\\prefeatures_jobs_am.py\n",
      "c:/users/dhrun.lauwers/git/rep-b\\develop\\dags_new\\deprecated\\simple_dataproc_jobs.py\n",
      "c:/users/dhrun.lauwers/git/rep-b\\develop\\dags_new\\deprecated\\simple_py_jobs.py\n",
      "c:/users/dhrun.lauwers/git/rep-b\\develop\\dags_new\\deprecated\\_playground.py\n",
      "c:/users/dhrun.lauwers/git/rep-b\\develop\\dags_new\\evaluation_generated_jobs.py\n",
      "c:/users/dhrun.lauwers/git/rep-b\\develop\\dags_new\\fake_jobs.py\n",
      "c:/users/dhrun.lauwers/git/rep-b\\develop\\dags_new\\generate_dags.py\n",
      "c:/users/dhrun.lauwers/git/rep-b\\develop\\dags_new\\join_jobs.py\n",
      "c:/users/dhrun.lauwers/git/rep-b\\develop\\dags_new\\legacy\\evaluation_jobs.py\n",
      "c:/users/dhrun.lauwers/git/rep-b\\develop\\dags_new\\legacy\\modelling_jobs.py\n",
      "c:/users/dhrun.lauwers/git/rep-b\\develop\\dags_new\\lost_sales_jobs.py\n",
      "c:/users/dhrun.lauwers/git/rep-b\\develop\\dags_new\\modelling_generated_jobs.py\n",
      "c:/users/dhrun.lauwers/git/rep-b\\develop\\dags_new\\modelling_jobs_bucket.py\n",
      "c:/users/dhrun.lauwers/git/rep-b\\develop\\dags_new\\prefeatures_jobs.py\n",
      "c:/users/dhrun.lauwers/git/rep-b\\develop\\dags_new\\stockout_jobs.py\n",
      "c:/users/dhrun.lauwers/git/rep-b\\develop\\dags_new\\_tst_broken_jobs.py\n",
      "c:/users/dhrun.lauwers/git/rep-b\\develop\\doc\\accesses.md\n",
      "c:/users/dhrun.lauwers/git/rep-b\\develop\\doc\\atmosphere_ecomm_diff.docx\n",
      "c:/users/dhrun.lauwers/git/rep-b\\develop\\doc\\csv_schema.docx\n",
      "c:/users/dhrun.lauwers/git/rep-b\\develop\\doc\\Data.md\n",
      "c:/users/dhrun.lauwers/git/rep-b\\develop\\doc\\DataSchema.xml\n",
      "c:/users/dhrun.lauwers/git/rep-b\\develop\\doc\\data_dictionary.xlsx\n",
      "c:/users/dhrun.lauwers/git/rep-b\\develop\\doc\\data_products_relation_diagram.xml\n",
      "c:/users/dhrun.lauwers/git/rep-b\\develop\\doc\\file_system\\data\\storage_fs.csv\n",
      "c:/users/dhrun.lauwers/git/rep-b\\develop\\doc\\file_system\\icon\\cloud_storage_logo.png\n",
      "c:/users/dhrun.lauwers/git/rep-b\\develop\\doc\\file_system\\icon\\docs.png\n",
      "c:/users/dhrun.lauwers/git/rep-b\\develop\\doc\\file_system\\icon\\folder_csv.png\n",
      "c:/users/dhrun.lauwers/git/rep-b\\develop\\doc\\file_system\\icon\\folder_logo.png\n",
      "c:/users/dhrun.lauwers/git/rep-b\\develop\\doc\\file_system\\icon\\folder_parquet.png\n",
      "c:/users/dhrun.lauwers/git/rep-b\\develop\\doc\\file_system\\icon\\gcp_logo.png\n",
      "c:/users/dhrun.lauwers/git/rep-b\\develop\\doc\\file_system\\icon\\project_logo.png\n",
      "c:/users/dhrun.lauwers/git/rep-b\\develop\\doc\\file_system\\icon\\spreadsheets.png\n",
      "c:/users/dhrun.lauwers/git/rep-b\\develop\\doc\\file_system\\js\\d3.v5.min.js\n",
      "c:/users/dhrun.lauwers/git/rep-b\\develop\\doc\\file_system\\readme.md\n",
      "c:/users/dhrun.lauwers/git/rep-b\\develop\\doc\\file_system\\to_move.docx\n",
      "c:/users/dhrun.lauwers/git/rep-b\\develop\\doc\\file_system\\visualize_raw_bucket.pdf\n",
      "c:/users/dhrun.lauwers/git/rep-b\\develop\\doc\\file_system\\visualize_repb_store.html\n",
      "c:/users/dhrun.lauwers/git/rep-b\\develop\\doc\\file_system\\visualize_repb_store.pdf\n",
      "c:/users/dhrun.lauwers/git/rep-b\\develop\\doc\\HowTo-Mastermind.md\n",
      "c:/users/dhrun.lauwers/git/rep-b\\develop\\doc\\incremental_updates.docx\n",
      "c:/users/dhrun.lauwers/git/rep-b\\develop\\doc\\Main_and_incr_data_diffs.docx\n",
      "c:/users/dhrun.lauwers/git/rep-b\\develop\\doc\\map.pptx\n",
      "c:/users/dhrun.lauwers/git/rep-b\\develop\\doc\\Size Curve Pipeline- Documentation Filters and Weights.docx\n",
      "c:/users/dhrun.lauwers/git/rep-b\\develop\\doc\\spark_jobs.md\n",
      "c:/users/dhrun.lauwers/git/rep-b\\develop\\doc\\Triggering_pipeline_on_file_upload.docx\n",
      "c:/users/dhrun.lauwers/git/rep-b\\develop\\env\\conda_env\\full.v1.yml\n",
      "c:/users/dhrun.lauwers/git/rep-b\\develop\\env\\image\\constants.py\n",
      "c:/users/dhrun.lauwers/git/rep-b\\develop\\env\\image\\customization_script.sh\n",
      "c:/users/dhrun.lauwers/git/rep-b\\develop\\env\\image\\daisy\n",
      "c:/users/dhrun.lauwers/git/rep-b\\develop\\env\\image\\doit.sh\n",
      "c:/users/dhrun.lauwers/git/rep-b\\develop\\env\\image\\generate_custom_image.py\n",
      "c:/users/dhrun.lauwers/git/rep-b\\develop\\env\\image\\README.md\n",
      "c:/users/dhrun.lauwers/git/rep-b\\develop\\env\\image\\run.sh\n",
      "c:/users/dhrun.lauwers/git/rep-b\\develop\\env\\init_actions\\datalab\\datalab.sh\n",
      "c:/users/dhrun.lauwers/git/rep-b\\develop\\env\\init_actions\\datalab\\update_env.sh\n",
      "c:/users/dhrun.lauwers/git/rep-b\\develop\\env\\init_actions\\deprecated\\conda_env.sh\n",
      "c:/users/dhrun.lauwers/git/rep-b\\develop\\env\\init_actions\\deprecated\\download_code_datalab.sh\n",
      "c:/users/dhrun.lauwers/git/rep-b\\develop\\env\\init_actions\\deprecated\\pipeline.sh\n",
      "c:/users/dhrun.lauwers/git/rep-b\\develop\\env\\init_actions\\download_code.sh\n",
      "c:/users/dhrun.lauwers/git/rep-b\\develop\\env\\README.md\n",
      "c:/users/dhrun.lauwers/git/rep-b\\develop\\notebooks\\CTCOREPB-228-size-curve-comparison\\size-curve-comparison-v1.0.ipynb\n",
      "c:/users/dhrun.lauwers/git/rep-b\\develop\\notebooks\\CTCOREPB-228-size-curve-comparison\\size-curve-comparison-v1.1.ipynb\n",
      "c:/users/dhrun.lauwers/git/rep-b\\develop\\notebooks\\CTCOREPB-228-size-curve-comparison\\size-curve-comparison-v1.2.ipynb\n",
      "c:/users/dhrun.lauwers/git/rep-b\\develop\\notebooks\\CTCOREPB-228-size-curve-comparison\\size-curve-comparison-v1.3.ipynb\n",
      "c:/users/dhrun.lauwers/git/rep-b\\develop\\notebooks\\CTCOREPB-228-size-curve-comparison\\size-curve-comparison-v1.4.ipynb\n",
      "c:/users/dhrun.lauwers/git/rep-b\\develop\\notebooks\\Debugging SC's.ipynb\n",
      "c:/users/dhrun.lauwers/git/rep-b\\develop\\notebooks\\demo\\demo_01 - hockey fbprophet.ipynb\n",
      "c:/users/dhrun.lauwers/git/rep-b\\develop\\notebooks\\demo\\demo_01 - hockey xgb.ipynb\n",
      "c:/users/dhrun.lauwers/git/rep-b\\develop\\notebooks\\demo\\demo_01.ipynb\n",
      "c:/users/dhrun.lauwers/git/rep-b\\develop\\notebooks\\demo\\demo_01_charts_ym.ipynb\n",
      "c:/users/dhrun.lauwers/git/rep-b\\develop\\notebooks\\demo\\demo_02_charts_ym.ipynb\n",
      "c:/users/dhrun.lauwers/git/rep-b\\develop\\notebooks\\demo\\demo_03_charts_ns.ipynb\n",
      "c:/users/dhrun.lauwers/git/rep-b\\develop\\notebooks\\EDA\\data_exploration_ns.ipynb\n",
      "c:/users/dhrun.lauwers/git/rep-b\\develop\\notebooks\\EDA\\EDA PRD_SKU.ipynb\n",
      "c:/users/dhrun.lauwers/git/rep-b\\develop\\notebooks\\EDA\\EDA_sizes_ym.ipynb\n",
      "c:/users/dhrun.lauwers/git/rep-b\\develop\\notebooks\\EDA\\levels_yk.ipynb\n",
      "c:/users/dhrun.lauwers/git/rep-b\\develop\\notebooks\\EDA\\Sales_Concentration_EDA.ipynb\n",
      "c:/users/dhrun.lauwers/git/rep-b\\develop\\notebooks\\EDA\\Sales_Concentration_Interactive.ipynb\n",
      "c:/users/dhrun.lauwers/git/rep-b\\develop\\notebooks\\EDA\\size_curves_eda.ipynb\n",
      "c:/users/dhrun.lauwers/git/rep-b\\develop\\notebooks\\EDA\\Transactions_EDA.ipynb\n",
      "c:/users/dhrun.lauwers/git/rep-b\\develop\\notebooks\\legacy\\ecomm_eda_eb.ipynb\n",
      "c:/users/dhrun.lauwers/git/rep-b\\develop\\notebooks\\legacy\\filter_relevant_inventory_eb.ipynb\n",
      "c:/users/dhrun.lauwers/git/rep-b\\develop\\notebooks\\legacy\\inv_data_check_eb.ipynb\n",
      "c:/users/dhrun.lauwers/git/rep-b\\develop\\notebooks\\legacy\\pipelines\\create_join_sales_plus_full_taxonomy_eb.ipynb\n",
      "c:/users/dhrun.lauwers/git/rep-b\\develop\\notebooks\\legacy\\pipelines\\join_ecommerce_data.ipynb\n",
      "c:/users/dhrun.lauwers/git/rep-b\\develop\\notebooks\\legacy\\pipelines\\ps_calculate_stockout_all.ipynb\n",
      "c:/users/dhrun.lauwers/git/rep-b\\develop\\notebooks\\legacy\\pipelines\\ps_lost_sales.ipynb\n",
      "c:/users/dhrun.lauwers/git/rep-b\\develop\\notebooks\\legacy\\pipelines\\sp_fgl_sales_EDA_ym.ipynb\n",
      "c:/users/dhrun.lauwers/git/rep-b\\develop\\notebooks\\legacy\\pos_sales_for_silvia.ipynb\n",
      "c:/users/dhrun.lauwers/git/rep-b\\develop\\notebooks\\legacy\\ps_calculate_stockout.ipynb\n",
      "c:/users/dhrun.lauwers/git/rep-b\\develop\\notebooks\\legacy\\ps_calculate_stockout_eb.ipynb\n",
      "c:/users/dhrun.lauwers/git/rep-b\\develop\\notebooks\\legacy\\ps_feature_generation.ipynb\n",
      "c:/users/dhrun.lauwers/git/rep-b\\develop\\notebooks\\legacy\\ps_preprocess_data.ipynb\n",
      "c:/users/dhrun.lauwers/git/rep-b\\develop\\notebooks\\legacy\\ps_prorater_example.ipynb\n",
      "c:/users/dhrun.lauwers/git/rep-b\\develop\\notebooks\\legacy\\ps_size_curves.ipynb\n",
      "c:/users/dhrun.lauwers/git/rep-b\\develop\\notebooks\\legacy\\ps_skl2ps_cleaner_am.ipynb\n",
      "c:/users/dhrun.lauwers/git/rep-b\\develop\\notebooks\\legacy\\sp_fgl_sales_decompressed_ym.ipynb\n",
      "c:/users/dhrun.lauwers/git/rep-b\\develop\\notebooks\\pipelines\\model_training.ipynb\n",
      "c:/users/dhrun.lauwers/git/rep-b\\develop\\notebooks\\pipelines\\ps_BOT_format_postprocessor.ipynb\n",
      "c:/users/dhrun.lauwers/git/rep-b\\develop\\notebooks\\pipelines\\ps_feats_nonlearned_pipeline_am.ipynb\n",
      "c:/users/dhrun.lauwers/git/rep-b\\develop\\notebooks\\pipelines\\ps_make_denormalized_dataset.ipynb\n",
      "c:/users/dhrun.lauwers/git/rep-b\\develop\\notebooks\\pipelines\\ps_skl2ps_am.ipynb\n",
      "c:/users/dhrun.lauwers/git/rep-b\\develop\\notebooks\\prediction_visualization.ipynb\n",
      "c:/users/dhrun.lauwers/git/rep-b\\develop\\notebooks\\price_point\\bucket_reports.ipynb\n",
      "c:/users/dhrun.lauwers/git/rep-b\\develop\\notebooks\\price_point\\eda-all-products.ipynb\n",
      "c:/users/dhrun.lauwers/git/rep-b\\develop\\notebooks\\price_point\\eda-shoes.ipynb\n",
      "c:/users/dhrun.lauwers/git/rep-b\\develop\\notebooks\\price_point\\eda_try1.ipynb\n",
      "c:/users/dhrun.lauwers/git/rep-b\\develop\\notebooks\\price_point\\fitted_buckets.ipynb\n",
      "c:/users/dhrun.lauwers/git/rep-b\\develop\\notebooks\\price_point\\global_grouping.ipynb\n",
      "c:/users/dhrun.lauwers/git/rep-b\\develop\\notebooks\\price_point\\rounded_buckets.ipynb\n",
      "c:/users/dhrun.lauwers/git/rep-b\\develop\\notebooks\\size_curves_delivery.ipynb\n",
      "c:/users/dhrun.lauwers/git/rep-b\\develop\\notebooks\\ts_feats\\eda.ipynb\n",
      "c:/users/dhrun.lauwers/git/rep-b\\develop\\notebooks\\ts_feats\\monthly_experiment.ipynb\n",
      "c:/users/dhrun.lauwers/git/rep-b\\develop\\notebooks\\ts_feats\\test_spark_twed.ipynb\n",
      "c:/users/dhrun.lauwers/git/rep-b\\develop\\notebooks\\ts_feats\\test_twed.ipynb\n",
      "c:/users/dhrun.lauwers/git/rep-b\\develop\\notebooks\\unsized_category\\column_names.ipynb\n",
      "c:/users/dhrun.lauwers/git/rep-b\\develop\\notebooks\\unsized_category\\diff_with_normal.ipynb\n",
      "c:/users/dhrun.lauwers/git/rep-b\\develop\\notebooks\\unsized_category\\test_filtered_nosz.ipynb\n",
      "c:/users/dhrun.lauwers/git/rep-b\\develop\\notebooks\\unsized_category\\test_modelling_ecomm_join_nosz.ipynb\n",
      "c:/users/dhrun.lauwers/git/rep-b\\develop\\notebooks\\unsized_category\\test_pre_features_nosz.ipynb\n",
      "c:/users/dhrun.lauwers/git/rep-b\\develop\\notebooks\\unsized_category\\unsized_eda.ipynb\n",
      "c:/users/dhrun.lauwers/git/rep-b\\develop\\README.md\n",
      "c:/users/dhrun.lauwers/git/rep-b\\develop\\src\\initial_modelling_v2.py\n",
      "c:/users/dhrun.lauwers/git/rep-b\\develop\\src\\mastermind\\base.py\n",
      "c:/users/dhrun.lauwers/git/rep-b\\develop\\src\\mastermind\\dataproc\\jobs.py\n",
      "c:/users/dhrun.lauwers/git/rep-b\\develop\\src\\mastermind\\dataproc\\__init__.py\n",
      "c:/users/dhrun.lauwers/git/rep-b\\develop\\src\\mastermind\\metadata.py\n",
      "c:/users/dhrun.lauwers/git/rep-b\\develop\\src\\mastermind\\patch_airflow.py\n",
      "c:/users/dhrun.lauwers/git/rep-b\\develop\\src\\mastermind\\path.py\n",
      "c:/users/dhrun.lauwers/git/rep-b\\develop\\src\\mastermind\\stateful\\config.py\n",
      "c:/users/dhrun.lauwers/git/rep-b\\develop\\src\\mastermind\\stateful\\dataset.py\n",
      "c:/users/dhrun.lauwers/git/rep-b\\develop\\src\\mastermind\\stateful\\__init__.py\n",
      "c:/users/dhrun.lauwers/git/rep-b\\develop\\src\\mastermind\\utils\\git.py\n",
      "c:/users/dhrun.lauwers/git/rep-b\\develop\\src\\mastermind\\utils\\__init__.py\n",
      "c:/users/dhrun.lauwers/git/rep-b\\develop\\src\\mastermind\\__init__.py\n",
      "c:/users/dhrun.lauwers/git/rep-b\\develop\\src\\repb\\configs\\bot.yaml\n",
      "c:/users/dhrun.lauwers/git/rep-b\\develop\\src\\repb\\configs\\brand_apparel.yaml\n",
      "c:/users/dhrun.lauwers/git/rep-b\\develop\\src\\repb\\configs\\brand_bra.yaml\n",
      "c:/users/dhrun.lauwers/git/rep-b\\develop\\src\\repb\\configs\\brand_hockey.yaml\n",
      "c:/users/dhrun.lauwers/git/rep-b\\develop\\src\\repb\\configs\\brand_mshoes.yaml\n",
      "c:/users/dhrun.lauwers/git/rep-b\\develop\\src\\repb\\configs\\brand_wshoes.yaml\n",
      "c:/users/dhrun.lauwers/git/rep-b\\develop\\src\\repb\\configs\\initial_modelling_apparel.yaml\n",
      "c:/users/dhrun.lauwers/git/rep-b\\develop\\src\\repb\\configs\\initial_modelling_bra.yaml\n",
      "c:/users/dhrun.lauwers/git/rep-b\\develop\\src\\repb\\configs\\initial_modelling_hockey.yaml\n",
      "c:/users/dhrun.lauwers/git/rep-b\\develop\\src\\repb\\configs\\initial_modelling_mshoes.yaml\n",
      "c:/users/dhrun.lauwers/git/rep-b\\develop\\src\\repb\\configs\\initial_modelling_wshoes.yaml\n",
      "c:/users/dhrun.lauwers/git/rep-b\\develop\\src\\repb\\configs\\prod_brand_apparel.yaml\n",
      "c:/users/dhrun.lauwers/git/rep-b\\develop\\src\\repb\\configs\\prod_brand_bra.yaml\n",
      "c:/users/dhrun.lauwers/git/rep-b\\develop\\src\\repb\\configs\\prod_brand_hockey.yaml\n",
      "c:/users/dhrun.lauwers/git/rep-b\\develop\\src\\repb\\configs\\prod_brand_mshoes.yaml\n",
      "c:/users/dhrun.lauwers/git/rep-b\\develop\\src\\repb\\configs\\prod_brand_wshoes.yaml\n",
      "c:/users/dhrun.lauwers/git/rep-b\\develop\\src\\repb\\configs\\storearea_apparel.yaml\n",
      "c:/users/dhrun.lauwers/git/rep-b\\develop\\src\\repb\\configs\\storearea_bra.yaml\n",
      "c:/users/dhrun.lauwers/git/rep-b\\develop\\src\\repb\\configs\\storearea_hockey.yaml\n",
      "c:/users/dhrun.lauwers/git/rep-b\\develop\\src\\repb\\configs\\storearea_hockey_price.yaml\n",
      "c:/users/dhrun.lauwers/git/rep-b\\develop\\src\\repb\\configs\\storearea_hockey_price_avg.yaml\n",
      "c:/users/dhrun.lauwers/git/rep-b\\develop\\src\\repb\\configs\\storearea_mshoes.yaml\n",
      "c:/users/dhrun.lauwers/git/rep-b\\develop\\src\\repb\\configs\\storearea_wshoes.yaml\n",
      "c:/users/dhrun.lauwers/git/rep-b\\develop\\src\\repb\\configs\\__init__.py\n",
      "c:/users/dhrun.lauwers/git/rep-b\\develop\\src\\repb\\data\\dimension.py\n",
      "c:/users/dhrun.lauwers/git/rep-b\\develop\\src\\repb\\data\\sales.py\n",
      "c:/users/dhrun.lauwers/git/rep-b\\develop\\src\\repb\\data\\__init__.py\n",
      "c:/users/dhrun.lauwers/git/rep-b\\develop\\src\\repb\\evaluation\\eval_file.py\n",
      "c:/users/dhrun.lauwers/git/rep-b\\develop\\src\\repb\\evaluation\\simulation.py\n",
      "c:/users/dhrun.lauwers/git/rep-b\\develop\\src\\repb\\evaluation\\spark\\create_target_pyspark.py\n",
      "c:/users/dhrun.lauwers/git/rep-b\\develop\\src\\repb\\evaluation\\spark\\eval_spark.py\n",
      "c:/users/dhrun.lauwers/git/rep-b\\develop\\src\\repb\\evaluation\\__init__.py\n",
      "c:/users/dhrun.lauwers/git/rep-b\\develop\\src\\repb\\features\\features.py\n",
      "c:/users/dhrun.lauwers/git/rep-b\\develop\\src\\repb\\features\\spark\\__init__.py\n",
      "c:/users/dhrun.lauwers/git/rep-b\\develop\\src\\repb\\features\\__init__.py\n",
      "c:/users/dhrun.lauwers/git/rep-b\\develop\\src\\repb\\initial_modelling.py\n",
      "c:/users/dhrun.lauwers/git/rep-b\\develop\\src\\repb\\jobs\\aggregate\\pre_features.py\n",
      "c:/users/dhrun.lauwers/git/rep-b\\develop\\src\\repb\\jobs\\aggregate\\pre_features_smoothed.py\n",
      "c:/users/dhrun.lauwers/git/rep-b\\develop\\src\\repb\\jobs\\aggregate\\stockout.py\n",
      "c:/users/dhrun.lauwers/git/rep-b\\develop\\src\\repb\\jobs\\aggregate\\__init__.py\n",
      "c:/users/dhrun.lauwers/git/rep-b\\develop\\src\\repb\\jobs\\artifacts\\lost_sales.py\n",
      "c:/users/dhrun.lauwers/git/rep-b\\develop\\src\\repb\\jobs\\artifacts\\lost_sales_pre.py\n",
      "c:/users/dhrun.lauwers/git/rep-b\\develop\\src\\repb\\jobs\\artifacts\\__init__.py\n",
      "c:/users/dhrun.lauwers/git/rep-b\\develop\\src\\repb\\jobs\\clean\\check_incomming_data.py\n",
      "c:/users/dhrun.lauwers/git/rep-b\\develop\\src\\repb\\jobs\\clean\\ecomm.py\n",
      "c:/users/dhrun.lauwers/git/rep-b\\develop\\src\\repb\\jobs\\clean\\ecomm_inc.py\n",
      "c:/users/dhrun.lauwers/git/rep-b\\develop\\src\\repb\\jobs\\clean\\inventory.py\n",
      "c:/users/dhrun.lauwers/git/rep-b\\develop\\src\\repb\\jobs\\clean\\inventory_all.py\n",
      "c:/users/dhrun.lauwers/git/rep-b\\develop\\src\\repb\\jobs\\clean\\inventory_inc.py\n",
      "c:/users/dhrun.lauwers/git/rep-b\\develop\\src\\repb\\jobs\\clean\\sales.py\n",
      "c:/users/dhrun.lauwers/git/rep-b\\develop\\src\\repb\\jobs\\clean\\sales_inc.py\n",
      "c:/users/dhrun.lauwers/git/rep-b\\develop\\src\\repb\\jobs\\clean\\stockout.py\n",
      "c:/users/dhrun.lauwers/git/rep-b\\develop\\src\\repb\\jobs\\clean\\store_prod_data.py\n",
      "c:/users/dhrun.lauwers/git/rep-b\\develop\\src\\repb\\jobs\\clean\\store_prod_data_inc.py\n",
      "c:/users/dhrun.lauwers/git/rep-b\\develop\\src\\repb\\jobs\\clean\\__init__.py\n",
      "c:/users/dhrun.lauwers/git/rep-b\\develop\\src\\repb\\jobs\\evaluate\\metrics.py\n",
      "c:/users/dhrun.lauwers/git/rep-b\\develop\\src\\repb\\jobs\\evaluate\\save_to_bq.py\n",
      "c:/users/dhrun.lauwers/git/rep-b\\develop\\src\\repb\\jobs\\evaluate\\save_to_temp.py\n",
      "c:/users/dhrun.lauwers/git/rep-b\\develop\\src\\repb\\jobs\\evaluate\\targets.py\n",
      "c:/users/dhrun.lauwers/git/rep-b\\develop\\src\\repb\\jobs\\evaluate\\__init__.py\n",
      "c:/users/dhrun.lauwers/git/rep-b\\develop\\src\\repb\\jobs\\fake\\features.py\n",
      "c:/users/dhrun.lauwers/git/rep-b\\develop\\src\\repb\\jobs\\fake\\predict.py\n",
      "c:/users/dhrun.lauwers/git/rep-b\\develop\\src\\repb\\jobs\\fake\\pre_feature.py\n",
      "c:/users/dhrun.lauwers/git/rep-b\\develop\\src\\repb\\jobs\\fake\\__init__.py\n",
      "c:/users/dhrun.lauwers/git/rep-b\\develop\\src\\repb\\jobs\\join\\ecomm.py\n",
      "c:/users/dhrun.lauwers/git/rep-b\\develop\\src\\repb\\jobs\\join\\sales.py\n",
      "c:/users/dhrun.lauwers/git/rep-b\\develop\\src\\repb\\jobs\\join\\sc_ecomm.py\n",
      "c:/users/dhrun.lauwers/git/rep-b\\develop\\src\\repb\\jobs\\join\\sc_sales.py\n",
      "c:/users/dhrun.lauwers/git/rep-b\\develop\\src\\repb\\jobs\\join\\sku_all.py\n",
      "c:/users/dhrun.lauwers/git/rep-b\\develop\\src\\repb\\jobs\\join\\__init__.py\n",
      "c:/users/dhrun.lauwers/git/rep-b\\develop\\src\\repb\\jobs\\model\\features.py\n",
      "c:/users/dhrun.lauwers/git/rep-b\\develop\\src\\repb\\jobs\\model\\grid_search.py\n",
      "c:/users/dhrun.lauwers/git/rep-b\\develop\\src\\repb\\jobs\\model\\model_training.py\n",
      "c:/users/dhrun.lauwers/git/rep-b\\develop\\src\\repb\\jobs\\model\\predict.py\n",
      "c:/users/dhrun.lauwers/git/rep-b\\develop\\src\\repb\\jobs\\model\\prorater_training.py\n",
      "c:/users/dhrun.lauwers/git/rep-b\\develop\\src\\repb\\jobs\\model\\__init__.py\n",
      "c:/users/dhrun.lauwers/git/rep-b\\develop\\src\\repb\\jobs\\__init__.py\n",
      "c:/users/dhrun.lauwers/git/rep-b\\develop\\src\\repb\\models\\aggregated_model.py\n",
      "c:/users/dhrun.lauwers/git/rep-b\\develop\\src\\repb\\models\\baseline.py\n",
      "c:/users/dhrun.lauwers/git/rep-b\\develop\\src\\repb\\models\\demand_predictor.py\n",
      "c:/users/dhrun.lauwers/git/rep-b\\develop\\src\\repb\\models\\dummy.py\n",
      "c:/users/dhrun.lauwers/git/rep-b\\develop\\src\\repb\\models\\fbprophet_model.py\n",
      "c:/users/dhrun.lauwers/git/rep-b\\develop\\src\\repb\\models\\__init__.py\n",
      "c:/users/dhrun.lauwers/git/rep-b\\develop\\src\\repb\\pipelines\\commons.py\n",
      "c:/users/dhrun.lauwers/git/rep-b\\develop\\src\\repb\\pipelines\\dags\\ecomm_clean_runner.py\n",
      "c:/users/dhrun.lauwers/git/rep-b\\develop\\src\\repb\\pipelines\\deprecated_nosz\\pipeline_fgl_sales_filtered_nosz.py\n",
      "c:/users/dhrun.lauwers/git/rep-b\\develop\\src\\repb\\pipelines\\deprecated_nosz\\pipeline_fgl_sales_filtered_old.py\n",
      "c:/users/dhrun.lauwers/git/rep-b\\develop\\src\\repb\\pipelines\\deprecated_nosz\\pipeline_modelling_ecomm_join_nosz.py\n",
      "c:/users/dhrun.lauwers/git/rep-b\\develop\\src\\repb\\pipelines\\deprecated_nosz\\pipeline_pre_features_nosz.py\n",
      "c:/users/dhrun.lauwers/git/rep-b\\develop\\src\\repb\\pipelines\\legacy\\pipeline_consignment_join.py\n",
      "c:/users/dhrun.lauwers/git/rep-b\\develop\\src\\repb\\pipelines\\legacy\\pipeline_ecomm_clean.py\n",
      "c:/users/dhrun.lauwers/git/rep-b\\develop\\src\\repb\\pipelines\\legacy\\pipeline_ecomm_incremental.py\n",
      "c:/users/dhrun.lauwers/git/rep-b\\develop\\src\\repb\\pipelines\\legacy\\pipeline_fgl_sales_aggregate.py\n",
      "c:/users/dhrun.lauwers/git/rep-b\\develop\\src\\repb\\pipelines\\legacy\\pipeline_fgl_sales_clean.py\n",
      "c:/users/dhrun.lauwers/git/rep-b\\develop\\src\\repb\\pipelines\\legacy\\pipeline_fgl_sales_filtered.py\n",
      "c:/users/dhrun.lauwers/git/rep-b\\develop\\src\\repb\\pipelines\\legacy\\pipeline_fgl_sales_incremental.py\n",
      "c:/users/dhrun.lauwers/git/rep-b\\develop\\src\\repb\\pipelines\\legacy\\pipeline_ft_inv_clean.py\n",
      "c:/users/dhrun.lauwers/git/rep-b\\develop\\src\\repb\\pipelines\\legacy\\pipeline_ft_inv_incremental.py\n",
      "c:/users/dhrun.lauwers/git/rep-b\\develop\\src\\repb\\pipelines\\legacy\\pipeline_modelling_ecomm_join.py\n",
      "c:/users/dhrun.lauwers/git/rep-b\\develop\\src\\repb\\pipelines\\legacy\\pipeline_pre_features.py\n",
      "c:/users/dhrun.lauwers/git/rep-b\\develop\\src\\repb\\pipelines\\legacy\\pipeline_sku_data_all.py\n",
      "c:/users/dhrun.lauwers/git/rep-b\\develop\\src\\repb\\pipelines\\legacy\\pipeline_stockout.py\n",
      "c:/users/dhrun.lauwers/git/rep-b\\develop\\src\\repb\\pipelines\\legacy\\pipeline_stockout_weekly.py\n",
      "c:/users/dhrun.lauwers/git/rep-b\\develop\\src\\repb\\pipelines\\legacy\\__init__.py\n",
      "c:/users/dhrun.lauwers/git/rep-b\\develop\\src\\repb\\pipelines\\pipeline_BOT_predict.py\n",
      "c:/users/dhrun.lauwers/git/rep-b\\develop\\src\\repb\\pipelines\\pipeline_conda_test.py\n",
      "c:/users/dhrun.lauwers/git/rep-b\\develop\\src\\repb\\pipelines\\pipeline_config.py\n",
      "c:/users/dhrun.lauwers/git/rep-b\\develop\\src\\repb\\pipelines\\pipeline_evaluate.py\n",
      "c:/users/dhrun.lauwers/git/rep-b\\develop\\src\\repb\\pipelines\\pipeline_feature_generation.py\n",
      "c:/users/dhrun.lauwers/git/rep-b\\develop\\src\\repb\\pipelines\\pipeline_lost_sales.py\n",
      "c:/users/dhrun.lauwers/git/rep-b\\develop\\src\\repb\\pipelines\\pipeline_model_training.py\n",
      "c:/users/dhrun.lauwers/git/rep-b\\develop\\src\\repb\\pipelines\\pipeline_predict.py\n",
      "c:/users/dhrun.lauwers/git/rep-b\\develop\\src\\repb\\pipelines\\pipeline_prorater_training.py\n",
      "c:/users/dhrun.lauwers/git/rep-b\\develop\\src\\repb\\pipelines\\pipeline_repartition.py\n",
      "c:/users/dhrun.lauwers/git/rep-b\\develop\\src\\repb\\pipelines\\pipeline_sleep_test.py\n",
      "c:/users/dhrun.lauwers/git/rep-b\\develop\\src\\repb\\pipelines\\__init__.py\n",
      "c:/users/dhrun.lauwers/git/rep-b\\develop\\src\\repb\\postprocessing\\postprocessor.py\n",
      "c:/users/dhrun.lauwers/git/rep-b\\develop\\src\\repb\\postprocessing\\prorater.py\n",
      "c:/users/dhrun.lauwers/git/rep-b\\develop\\src\\repb\\postprocessing\\spark\\prorater.py\n",
      "c:/users/dhrun.lauwers/git/rep-b\\develop\\src\\repb\\postprocessing\\__init__.py\n",
      "c:/users/dhrun.lauwers/git/rep-b\\develop\\src\\repb\\preprocessing\\calendar.py\n",
      "c:/users/dhrun.lauwers/git/rep-b\\develop\\src\\repb\\preprocessing\\cols_union.py\n",
      "c:/users/dhrun.lauwers/git/rep-b\\develop\\src\\repb\\preprocessing\\event.py\n",
      "c:/users/dhrun.lauwers/git/rep-b\\develop\\src\\repb\\preprocessing\\incremental.py\n",
      "c:/users/dhrun.lauwers/git/rep-b\\develop\\src\\repb\\preprocessing\\lost_sales.py\n",
      "c:/users/dhrun.lauwers/git/rep-b\\develop\\src\\repb\\preprocessing\\org_store.py\n",
      "c:/users/dhrun.lauwers/git/rep-b\\develop\\src\\repb\\preprocessing\\prd_sku.py\n",
      "c:/users/dhrun.lauwers/git/rep-b\\develop\\src\\repb\\preprocessing\\sales\\weekly.py\n",
      "c:/users/dhrun.lauwers/git/rep-b\\develop\\src\\repb\\preprocessing\\sales\\__init__.py\n",
      "c:/users/dhrun.lauwers/git/rep-b\\develop\\src\\repb\\preprocessing\\stockout_weekly.py\n",
      "c:/users/dhrun.lauwers/git/rep-b\\develop\\src\\repb\\preprocessing\\time_series\\distance.py\n",
      "c:/users/dhrun.lauwers/git/rep-b\\develop\\src\\repb\\preprocessing\\time_series\\twed.py\n",
      "c:/users/dhrun.lauwers/git/rep-b\\develop\\src\\repb\\preprocessing\\time_series\\__init__.py\n",
      "c:/users/dhrun.lauwers/git/rep-b\\develop\\src\\repb\\preprocessing\\__init__.py\n",
      "c:/users/dhrun.lauwers/git/rep-b\\develop\\src\\repb\\size_curves\\build_size_curves.sh\n",
      "c:/users/dhrun.lauwers/git/rep-b\\develop\\src\\repb\\size_curves\\create_sc.sh\n",
      "c:/users/dhrun.lauwers/git/rep-b\\develop\\src\\repb\\size_curves\\deep-curves.py\n",
      "c:/users/dhrun.lauwers/git/rep-b\\develop\\src\\repb\\size_curves\\inv_sku_store_clean.py\n",
      "c:/users/dhrun.lauwers/git/rep-b\\develop\\src\\repb\\size_curves\\pipeline_build_size_curves.py\n",
      "c:/users/dhrun.lauwers/git/rep-b\\develop\\src\\repb\\size_curves\\pipeline_format_sc.py\n",
      "c:/users/dhrun.lauwers/git/rep-b\\develop\\src\\repb\\size_curves\\pipeline_sc_ecomm_join.py\n",
      "c:/users/dhrun.lauwers/git/rep-b\\develop\\src\\repb\\size_curves\\pipeline_sc_pos_join.py\n",
      "c:/users/dhrun.lauwers/git/rep-b\\develop\\src\\repb\\size_curves\\README.md\n",
      "c:/users/dhrun.lauwers/git/rep-b\\develop\\src\\repb\\size_curves\\sc_ecomm_join.sh\n",
      "c:/users/dhrun.lauwers/git/rep-b\\develop\\src\\repb\\size_curves\\sc_inv_clean.sh\n",
      "c:/users/dhrun.lauwers/git/rep-b\\develop\\src\\repb\\size_curves\\sc_pos_join.sh\n",
      "c:/users/dhrun.lauwers/git/rep-b\\develop\\src\\repb\\size_curves\\size_curve_jobs.py\n",
      "c:/users/dhrun.lauwers/git/rep-b\\develop\\src\\repb\\size_curves\\size_curve_udfs.py\n",
      "c:/users/dhrun.lauwers/git/rep-b\\develop\\src\\repb\\utils\\data.py\n",
      "c:/users/dhrun.lauwers/git/rep-b\\develop\\src\\repb\\utils\\eda.py\n",
      "c:/users/dhrun.lauwers/git/rep-b\\develop\\src\\repb\\utils\\gcp\\__init__.py\n",
      "c:/users/dhrun.lauwers/git/rep-b\\develop\\src\\repb\\utils\\nb_startup\\__init__.py\n",
      "c:/users/dhrun.lauwers/git/rep-b\\develop\\src\\repb\\utils\\pandas\\__init__.py\n",
      "c:/users/dhrun.lauwers/git/rep-b\\develop\\src\\repb\\utils\\sizing\\bra.py\n",
      "c:/users/dhrun.lauwers/git/rep-b\\develop\\src\\repb\\utils\\sizing\\bra_size_explore.xlsx\n",
      "c:/users/dhrun.lauwers/git/rep-b\\develop\\src\\repb\\utils\\sizing\\hockey_sticks.py\n",
      "c:/users/dhrun.lauwers/git/rep-b\\develop\\src\\repb\\utils\\sizing\\spark.py\n",
      "c:/users/dhrun.lauwers/git/rep-b\\develop\\src\\repb\\utils\\sizing\\__init__.py\n",
      "c:/users/dhrun.lauwers/git/rep-b\\develop\\src\\repb\\utils\\spark\\cols.py\n",
      "c:/users/dhrun.lauwers/git/rep-b\\develop\\src\\repb\\utils\\spark\\date.py\n",
      "c:/users/dhrun.lauwers/git/rep-b\\develop\\src\\repb\\utils\\spark\\ml.py\n",
      "c:/users/dhrun.lauwers/git/rep-b\\develop\\src\\repb\\utils\\spark\\quality\\constraints.py\n",
      "c:/users/dhrun.lauwers/git/rep-b\\develop\\src\\repb\\utils\\spark\\quality\\reporters.py\n",
      "c:/users/dhrun.lauwers/git/rep-b\\develop\\src\\repb\\utils\\spark\\quality\\__init__.py\n",
      "c:/users/dhrun.lauwers/git/rep-b\\develop\\src\\repb\\utils\\spark\\text.py\n",
      "c:/users/dhrun.lauwers/git/rep-b\\develop\\src\\repb\\utils\\spark\\__init__.py\n",
      "c:/users/dhrun.lauwers/git/rep-b\\develop\\src\\repb\\utils\\test\\__init__.py\n",
      "c:/users/dhrun.lauwers/git/rep-b\\develop\\src\\repb\\utils\\__init__.py\n",
      "c:/users/dhrun.lauwers/git/rep-b\\develop\\src\\repb\\__init__.py\n",
      "c:/users/dhrun.lauwers/git/rep-b\\develop\\src\\setup.cfg\n",
      "c:/users/dhrun.lauwers/git/rep-b\\develop\\src\\setup.py\n",
      "c:/users/dhrun.lauwers/git/rep-b\\develop\\src\\test\\postprocessing\\spark\\prorater_aggregates.csv\n",
      "c:/users/dhrun.lauwers/git/rep-b\\develop\\src\\test\\postprocessing\\spark\\prorater_rates.csv\n",
      "c:/users/dhrun.lauwers/git/rep-b\\develop\\src\\test\\postprocessing\\spark\\test_prorater.py\n",
      "c:/users/dhrun.lauwers/git/rep-b\\develop\\src\\test\\postprocessing\\spark\\__init__.py\n",
      "c:/users/dhrun.lauwers/git/rep-b\\develop\\src\\test\\postprocessing\\__init__.py\n",
      "c:/users/dhrun.lauwers/git/rep-b\\develop\\src\\test\\__init__.py\n",
      "c:/users/dhrun.lauwers/git/size-matters\\.git\\COMMIT_EDITMSG\n",
      "c:/users/dhrun.lauwers/git/size-matters\\.git\\config\n",
      "c:/users/dhrun.lauwers/git/size-matters\\.git\\description\n",
      "c:/users/dhrun.lauwers/git/size-matters\\.git\\HEAD\n",
      "c:/users/dhrun.lauwers/git/size-matters\\.git\\hooks\\applypatch-msg.sample\n",
      "c:/users/dhrun.lauwers/git/size-matters\\.git\\hooks\\commit-msg.sample\n",
      "c:/users/dhrun.lauwers/git/size-matters\\.git\\hooks\\fsmonitor-watchman.sample\n",
      "c:/users/dhrun.lauwers/git/size-matters\\.git\\hooks\\post-update.sample\n",
      "c:/users/dhrun.lauwers/git/size-matters\\.git\\hooks\\pre-applypatch.sample\n",
      "c:/users/dhrun.lauwers/git/size-matters\\.git\\hooks\\pre-commit.sample\n",
      "c:/users/dhrun.lauwers/git/size-matters\\.git\\hooks\\pre-push.sample\n",
      "c:/users/dhrun.lauwers/git/size-matters\\.git\\hooks\\pre-rebase.sample\n",
      "c:/users/dhrun.lauwers/git/size-matters\\.git\\hooks\\pre-receive.sample\n",
      "c:/users/dhrun.lauwers/git/size-matters\\.git\\hooks\\prepare-commit-msg.sample\n",
      "c:/users/dhrun.lauwers/git/size-matters\\.git\\hooks\\update.sample\n",
      "c:/users/dhrun.lauwers/git/size-matters\\.git\\index\n",
      "c:/users/dhrun.lauwers/git/size-matters\\.git\\info\\exclude\n",
      "c:/users/dhrun.lauwers/git/size-matters\\.git\\logs\\HEAD\n",
      "c:/users/dhrun.lauwers/git/size-matters\\.git\\logs\\refs\\heads\\develop\n",
      "c:/users/dhrun.lauwers/git/size-matters\\.git\\logs\\refs\\heads\\master\n",
      "c:/users/dhrun.lauwers/git/size-matters\\.git\\logs\\refs\\remotes\\origin\\develop\n",
      "c:/users/dhrun.lauwers/git/size-matters\\.git\\logs\\refs\\remotes\\origin\\master\n",
      "c:/users/dhrun.lauwers/git/size-matters\\.git\\objects\\0f\\28fd699dc3126d19649d9162c5260a2af47d22\n",
      "c:/users/dhrun.lauwers/git/size-matters\\.git\\objects\\10\\0839511e276ba5b2b02905eb5b8637c1d48916\n",
      "c:/users/dhrun.lauwers/git/size-matters\\.git\\objects\\11\\ee03067d465491462068223c71cc42c35e2e9a\n",
      "c:/users/dhrun.lauwers/git/size-matters\\.git\\objects\\14\\6d624e5e8a1ff54438f8e8ac01531d39237ced\n",
      "c:/users/dhrun.lauwers/git/size-matters\\.git\\objects\\29\\3efbec49a40e3d0616b3af23d97b9a9bb2941f\n",
      "c:/users/dhrun.lauwers/git/size-matters\\.git\\objects\\2c\\999a64e1771be8070aa1b7f7d536d225647fb6\n",
      "c:/users/dhrun.lauwers/git/size-matters\\.git\\objects\\39\\4ae14076a10c4d11b3f1e8a388fcf8198b265e\n",
      "c:/users/dhrun.lauwers/git/size-matters\\.git\\objects\\3c\\5d514722067f23cf51d556decbbb671a4ef10c\n",
      "c:/users/dhrun.lauwers/git/size-matters\\.git\\objects\\48\\ea09b9fdad1c532bb2f37d796bd00a98686fcb\n",
      "c:/users/dhrun.lauwers/git/size-matters\\.git\\objects\\4c\\ebd28bf4acb5b1135f082e2c216dcb232a5db6\n",
      "c:/users/dhrun.lauwers/git/size-matters\\.git\\objects\\63\\54f7523a627fdf929636566df7ac808f145349\n",
      "c:/users/dhrun.lauwers/git/size-matters\\.git\\objects\\6f\\0914518f6d86cea20e715eaf27af6c353f33a5\n",
      "c:/users/dhrun.lauwers/git/size-matters\\.git\\objects\\70\\f819de52848898f4355c50d777c40dbd6efdc5\n",
      "c:/users/dhrun.lauwers/git/size-matters\\.git\\objects\\79\\9c8edaca382f40a764adf80d8be1cee59316df\n",
      "c:/users/dhrun.lauwers/git/size-matters\\.git\\objects\\82\\8ef734d4e7d9206d815161574c6da8fc3bc5fd\n",
      "c:/users/dhrun.lauwers/git/size-matters\\.git\\objects\\83\\1f8ae92c93134683cd773aec9e731bdeaafcce\n",
      "c:/users/dhrun.lauwers/git/size-matters\\.git\\objects\\84\\651c70ace9a12fc108c02b88e3017df9cd8f85\n",
      "c:/users/dhrun.lauwers/git/size-matters\\.git\\objects\\8b\\ce41219975a0b49b04c1a4701a9503ab3482ed\n",
      "c:/users/dhrun.lauwers/git/size-matters\\.git\\objects\\9f\\c7d09ad2d17abe90e96c720f947a16666e2cea\n",
      "c:/users/dhrun.lauwers/git/size-matters\\.git\\objects\\a0\\9a4df4701a1289d37e49089a10f291dfe7c6ea\n",
      "c:/users/dhrun.lauwers/git/size-matters\\.git\\objects\\a6\\e3bd91a1a0cb0d7ae29ef4ff52800eb37d1ce1\n",
      "c:/users/dhrun.lauwers/git/size-matters\\.git\\objects\\a7\\e19d7d4132d82367f5030b29968c46c4f5a5d3\n",
      "c:/users/dhrun.lauwers/git/size-matters\\.git\\objects\\b0\\ea403126be3c889154427dbb5425ede8d881e3\n",
      "c:/users/dhrun.lauwers/git/size-matters\\.git\\objects\\b4\\35484f7c5493cdfd7f35b5b2ed7c08e77c6b69\n",
      "c:/users/dhrun.lauwers/git/size-matters\\.git\\objects\\b8\\312c526006266fc98532426e2ec8729502e569\n",
      "c:/users/dhrun.lauwers/git/size-matters\\.git\\objects\\c5\\c309959192250e2de269b93b21af11cbc4eae2\n",
      "c:/users/dhrun.lauwers/git/size-matters\\.git\\objects\\df\\33486f0a55aa34797d6e045473e993f563d48b\n",
      "c:/users/dhrun.lauwers/git/size-matters\\.git\\objects\\e6\\9de29bb2d1d6434b8b29ae775ad8c2e48c5391\n",
      "c:/users/dhrun.lauwers/git/size-matters\\.git\\objects\\ee\\cf7afddb85164aba716efb5a968784f3ed9e18\n",
      "c:/users/dhrun.lauwers/git/size-matters\\.git\\objects\\f1\\f641af19bf623505554b29f35499b5d15f3fd3\n",
      "c:/users/dhrun.lauwers/git/size-matters\\.git\\objects\\fc\\4d24d59cb0b6ecf95e6c19c8c2811f780820d7\n",
      "c:/users/dhrun.lauwers/git/size-matters\\.git\\objects\\fc\\f43428c5bc41d60a869160a168b801a7e7bfb1\n",
      "c:/users/dhrun.lauwers/git/size-matters\\.git\\ORIG_HEAD\n",
      "c:/users/dhrun.lauwers/git/size-matters\\.git\\refs\\heads\\develop\n"
     ]
    },
    {
     "name": "stdout",
     "output_type": "stream",
     "text": [
      "c:/users/dhrun.lauwers/git/size-matters\\.git\\refs\\heads\\master\n",
      "c:/users/dhrun.lauwers/git/size-matters\\.git\\refs\\remotes\\origin\\develop\n",
      "c:/users/dhrun.lauwers/git/size-matters\\.git\\refs\\remotes\\origin\\master\n",
      "c:/users/dhrun.lauwers/git/size-matters\\.gitignore\n",
      "c:/users/dhrun.lauwers/git/size-matters\\.idea\\.gitignore\n",
      "c:/users/dhrun.lauwers/git/size-matters\\.idea\\inspectionProfiles\\profiles_settings.xml\n",
      "c:/users/dhrun.lauwers/git/size-matters\\.idea\\misc.xml\n",
      "c:/users/dhrun.lauwers/git/size-matters\\.idea\\modules.xml\n",
      "c:/users/dhrun.lauwers/git/size-matters\\.idea\\size-matters.iml\n",
      "c:/users/dhrun.lauwers/git/size-matters\\.idea\\vcs.xml\n",
      "c:/users/dhrun.lauwers/git/size-matters\\.idea\\workspace.xml\n",
      "c:/users/dhrun.lauwers/git/size-matters\\benefits-analysis\\notebooks\\.ipynb_checkpoints\\Size Matters Benefits Analysis-checkpoint.ipynb\n",
      "c:/users/dhrun.lauwers/git/size-matters\\benefits-analysis\\notebooks\\Size Matters Benefits Analysis.ipynb\n",
      "c:/users/dhrun.lauwers/git/size-matters\\benefits-analysis\\readme.md\n",
      "c:/users/dhrun.lauwers/git/size-matters\\benefits-analysis\\reports\\example\\Analysis.xlsx\n",
      "c:/users/dhrun.lauwers/git/size-matters\\benefits-analysis\\reports\\example\\Size Matters Benefit Calculation 09-20.pptx\n",
      "c:/users/dhrun.lauwers/git/size-matters\\benefits-analysis\\src\\run_analysis.py\n",
      "c:/users/dhrun.lauwers/git/size-matters\\benefits-analysis\\src\\run_analysis.sh\n",
      "c:/users/dhrun.lauwers/git/test\\.ipynb_checkpoints\\Pre-Feature-checkpoint.ipynb\n",
      "c:/users/dhrun.lauwers/git/test\\.ipynb_checkpoints\\Size Curve Investigation-checkpoint.ipynb\n",
      "c:/users/dhrun.lauwers/git/test\\.ipynb_checkpoints\\Size Curve Model-checkpoint.ipynb\n",
      "c:/users/dhrun.lauwers/git/test\\.ipynb_checkpoints\\Untitled-checkpoint.ipynb\n",
      "c:/users/dhrun.lauwers/git/test\\.ipynb_checkpoints\\Untitled1-checkpoint.ipynb\n",
      "c:/users/dhrun.lauwers/git/test\\derby.log\n",
      "c:/users/dhrun.lauwers/git/test\\Feature.ipynb\n",
      "c:/users/dhrun.lauwers/git/test\\metastore_db\\db.lck\n",
      "c:/users/dhrun.lauwers/git/test\\metastore_db\\log\\log.ctrl\n",
      "c:/users/dhrun.lauwers/git/test\\metastore_db\\log\\log1.dat\n",
      "c:/users/dhrun.lauwers/git/test\\metastore_db\\log\\logmirror.ctrl\n",
      "c:/users/dhrun.lauwers/git/test\\metastore_db\\log\\README_DO_NOT_TOUCH_FILES.txt\n",
      "c:/users/dhrun.lauwers/git/test\\metastore_db\\README_DO_NOT_TOUCH_FILES.txt\n",
      "c:/users/dhrun.lauwers/git/test\\metastore_db\\seg0\\c10.dat\n",
      "c:/users/dhrun.lauwers/git/test\\metastore_db\\seg0\\c101.dat\n",
      "c:/users/dhrun.lauwers/git/test\\metastore_db\\seg0\\c111.dat\n",
      "c:/users/dhrun.lauwers/git/test\\metastore_db\\seg0\\c121.dat\n",
      "c:/users/dhrun.lauwers/git/test\\metastore_db\\seg0\\c130.dat\n",
      "c:/users/dhrun.lauwers/git/test\\metastore_db\\seg0\\c141.dat\n",
      "c:/users/dhrun.lauwers/git/test\\metastore_db\\seg0\\c150.dat\n",
      "c:/users/dhrun.lauwers/git/test\\metastore_db\\seg0\\c161.dat\n",
      "c:/users/dhrun.lauwers/git/test\\metastore_db\\seg0\\c171.dat\n",
      "c:/users/dhrun.lauwers/git/test\\metastore_db\\seg0\\c180.dat\n",
      "c:/users/dhrun.lauwers/git/test\\metastore_db\\seg0\\c191.dat\n",
      "c:/users/dhrun.lauwers/git/test\\metastore_db\\seg0\\c1a1.dat\n",
      "c:/users/dhrun.lauwers/git/test\\metastore_db\\seg0\\c1b1.dat\n",
      "c:/users/dhrun.lauwers/git/test\\metastore_db\\seg0\\c1c0.dat\n",
      "c:/users/dhrun.lauwers/git/test\\metastore_db\\seg0\\c1d1.dat\n",
      "c:/users/dhrun.lauwers/git/test\\metastore_db\\seg0\\c1e0.dat\n",
      "c:/users/dhrun.lauwers/git/test\\metastore_db\\seg0\\c1f1.dat\n",
      "c:/users/dhrun.lauwers/git/test\\metastore_db\\seg0\\c20.dat\n",
      "c:/users/dhrun.lauwers/git/test\\metastore_db\\seg0\\c200.dat\n",
      "c:/users/dhrun.lauwers/git/test\\metastore_db\\seg0\\c211.dat\n",
      "c:/users/dhrun.lauwers/git/test\\metastore_db\\seg0\\c221.dat\n",
      "c:/users/dhrun.lauwers/git/test\\metastore_db\\seg0\\c230.dat\n",
      "c:/users/dhrun.lauwers/git/test\\metastore_db\\seg0\\c241.dat\n",
      "c:/users/dhrun.lauwers/git/test\\metastore_db\\seg0\\c251.dat\n",
      "c:/users/dhrun.lauwers/git/test\\metastore_db\\seg0\\c260.dat\n",
      "c:/users/dhrun.lauwers/git/test\\metastore_db\\seg0\\c271.dat\n",
      "c:/users/dhrun.lauwers/git/test\\metastore_db\\seg0\\c281.dat\n",
      "c:/users/dhrun.lauwers/git/test\\metastore_db\\seg0\\c290.dat\n",
      "c:/users/dhrun.lauwers/git/test\\metastore_db\\seg0\\c2a1.dat\n",
      "c:/users/dhrun.lauwers/git/test\\metastore_db\\seg0\\c2b1.dat\n",
      "c:/users/dhrun.lauwers/git/test\\metastore_db\\seg0\\c2c1.dat\n",
      "c:/users/dhrun.lauwers/git/test\\metastore_db\\seg0\\c2d0.dat\n",
      "c:/users/dhrun.lauwers/git/test\\metastore_db\\seg0\\c2e1.dat\n",
      "c:/users/dhrun.lauwers/git/test\\metastore_db\\seg0\\c2f0.dat\n",
      "c:/users/dhrun.lauwers/git/test\\metastore_db\\seg0\\c300.dat\n",
      "c:/users/dhrun.lauwers/git/test\\metastore_db\\seg0\\c31.dat\n",
      "c:/users/dhrun.lauwers/git/test\\metastore_db\\seg0\\c311.dat\n",
      "c:/users/dhrun.lauwers/git/test\\metastore_db\\seg0\\c321.dat\n",
      "c:/users/dhrun.lauwers/git/test\\metastore_db\\seg0\\c331.dat\n",
      "c:/users/dhrun.lauwers/git/test\\metastore_db\\seg0\\c340.dat\n",
      "c:/users/dhrun.lauwers/git/test\\metastore_db\\seg0\\c351.dat\n",
      "c:/users/dhrun.lauwers/git/test\\metastore_db\\seg0\\c361.dat\n",
      "c:/users/dhrun.lauwers/git/test\\metastore_db\\seg0\\c371.dat\n",
      "c:/users/dhrun.lauwers/git/test\\metastore_db\\seg0\\c380.dat\n",
      "c:/users/dhrun.lauwers/git/test\\metastore_db\\seg0\\c391.dat\n",
      "c:/users/dhrun.lauwers/git/test\\metastore_db\\seg0\\c3a1.dat\n",
      "c:/users/dhrun.lauwers/git/test\\metastore_db\\seg0\\c3b1.dat\n",
      "c:/users/dhrun.lauwers/git/test\\metastore_db\\seg0\\c3c0.dat\n",
      "c:/users/dhrun.lauwers/git/test\\metastore_db\\seg0\\c3d1.dat\n",
      "c:/users/dhrun.lauwers/git/test\\metastore_db\\seg0\\c3e1.dat\n",
      "c:/users/dhrun.lauwers/git/test\\metastore_db\\seg0\\c3f1.dat\n",
      "c:/users/dhrun.lauwers/git/test\\metastore_db\\seg0\\c400.dat\n",
      "c:/users/dhrun.lauwers/git/test\\metastore_db\\seg0\\c41.dat\n",
      "c:/users/dhrun.lauwers/git/test\\metastore_db\\seg0\\c411.dat\n",
      "c:/users/dhrun.lauwers/git/test\\metastore_db\\seg0\\c421.dat\n",
      "c:/users/dhrun.lauwers/git/test\\metastore_db\\seg0\\c430.dat\n",
      "c:/users/dhrun.lauwers/git/test\\metastore_db\\seg0\\c441.dat\n",
      "c:/users/dhrun.lauwers/git/test\\metastore_db\\seg0\\c451.dat\n",
      "c:/users/dhrun.lauwers/git/test\\metastore_db\\seg0\\c461.dat\n",
      "c:/users/dhrun.lauwers/git/test\\metastore_db\\seg0\\c470.dat\n",
      "c:/users/dhrun.lauwers/git/test\\metastore_db\\seg0\\c481.dat\n",
      "c:/users/dhrun.lauwers/git/test\\metastore_db\\seg0\\c490.dat\n",
      "c:/users/dhrun.lauwers/git/test\\metastore_db\\seg0\\c4a1.dat\n",
      "c:/users/dhrun.lauwers/git/test\\metastore_db\\seg0\\c4b0.dat\n",
      "c:/users/dhrun.lauwers/git/test\\metastore_db\\seg0\\c4c1.dat\n",
      "c:/users/dhrun.lauwers/git/test\\metastore_db\\seg0\\c4d1.dat\n",
      "c:/users/dhrun.lauwers/git/test\\metastore_db\\seg0\\c4e1.dat\n",
      "c:/users/dhrun.lauwers/git/test\\metastore_db\\seg0\\c4f0.dat\n",
      "c:/users/dhrun.lauwers/git/test\\metastore_db\\seg0\\c501.dat\n",
      "c:/users/dhrun.lauwers/git/test\\metastore_db\\seg0\\c51.dat\n",
      "c:/users/dhrun.lauwers/git/test\\metastore_db\\seg0\\c510.dat\n",
      "c:/users/dhrun.lauwers/git/test\\metastore_db\\seg0\\c521.dat\n",
      "c:/users/dhrun.lauwers/git/test\\metastore_db\\seg0\\c530.dat\n",
      "c:/users/dhrun.lauwers/git/test\\metastore_db\\seg0\\c541.dat\n",
      "c:/users/dhrun.lauwers/git/test\\metastore_db\\seg0\\c550.dat\n",
      "c:/users/dhrun.lauwers/git/test\\metastore_db\\seg0\\c561.dat\n",
      "c:/users/dhrun.lauwers/git/test\\metastore_db\\seg0\\c570.dat\n",
      "c:/users/dhrun.lauwers/git/test\\metastore_db\\seg0\\c581.dat\n",
      "c:/users/dhrun.lauwers/git/test\\metastore_db\\seg0\\c590.dat\n",
      "c:/users/dhrun.lauwers/git/test\\metastore_db\\seg0\\c5a1.dat\n",
      "c:/users/dhrun.lauwers/git/test\\metastore_db\\seg0\\c5b0.dat\n",
      "c:/users/dhrun.lauwers/git/test\\metastore_db\\seg0\\c5c1.dat\n",
      "c:/users/dhrun.lauwers/git/test\\metastore_db\\seg0\\c5d0.dat\n",
      "c:/users/dhrun.lauwers/git/test\\metastore_db\\seg0\\c5e1.dat\n",
      "c:/users/dhrun.lauwers/git/test\\metastore_db\\seg0\\c5f0.dat\n",
      "c:/users/dhrun.lauwers/git/test\\metastore_db\\seg0\\c60.dat\n",
      "c:/users/dhrun.lauwers/git/test\\metastore_db\\seg0\\c601.dat\n",
      "c:/users/dhrun.lauwers/git/test\\metastore_db\\seg0\\c610.dat\n",
      "c:/users/dhrun.lauwers/git/test\\metastore_db\\seg0\\c621.dat\n",
      "c:/users/dhrun.lauwers/git/test\\metastore_db\\seg0\\c630.dat\n",
      "c:/users/dhrun.lauwers/git/test\\metastore_db\\seg0\\c641.dat\n",
      "c:/users/dhrun.lauwers/git/test\\metastore_db\\seg0\\c650.dat\n",
      "c:/users/dhrun.lauwers/git/test\\metastore_db\\seg0\\c661.dat\n",
      "c:/users/dhrun.lauwers/git/test\\metastore_db\\seg0\\c670.dat\n",
      "c:/users/dhrun.lauwers/git/test\\metastore_db\\seg0\\c681.dat\n",
      "c:/users/dhrun.lauwers/git/test\\metastore_db\\seg0\\c690.dat\n",
      "c:/users/dhrun.lauwers/git/test\\metastore_db\\seg0\\c6a1.dat\n",
      "c:/users/dhrun.lauwers/git/test\\metastore_db\\seg0\\c6b0.dat\n",
      "c:/users/dhrun.lauwers/git/test\\metastore_db\\seg0\\c6c1.dat\n",
      "c:/users/dhrun.lauwers/git/test\\metastore_db\\seg0\\c6d0.dat\n",
      "c:/users/dhrun.lauwers/git/test\\metastore_db\\seg0\\c6e1.dat\n",
      "c:/users/dhrun.lauwers/git/test\\metastore_db\\seg0\\c6f0.dat\n",
      "c:/users/dhrun.lauwers/git/test\\metastore_db\\seg0\\c701.dat\n",
      "c:/users/dhrun.lauwers/git/test\\metastore_db\\seg0\\c71.dat\n",
      "c:/users/dhrun.lauwers/git/test\\metastore_db\\seg0\\c711.dat\n",
      "c:/users/dhrun.lauwers/git/test\\metastore_db\\seg0\\c721.dat\n",
      "c:/users/dhrun.lauwers/git/test\\metastore_db\\seg0\\c731.dat\n",
      "c:/users/dhrun.lauwers/git/test\\metastore_db\\seg0\\c741.dat\n",
      "c:/users/dhrun.lauwers/git/test\\metastore_db\\seg0\\c751.dat\n",
      "c:/users/dhrun.lauwers/git/test\\metastore_db\\seg0\\c761.dat\n",
      "c:/users/dhrun.lauwers/git/test\\metastore_db\\seg0\\c771.dat\n",
      "c:/users/dhrun.lauwers/git/test\\metastore_db\\seg0\\c781.dat\n",
      "c:/users/dhrun.lauwers/git/test\\metastore_db\\seg0\\c791.dat\n",
      "c:/users/dhrun.lauwers/git/test\\metastore_db\\seg0\\c7a1.dat\n",
      "c:/users/dhrun.lauwers/git/test\\metastore_db\\seg0\\c7b1.dat\n",
      "c:/users/dhrun.lauwers/git/test\\metastore_db\\seg0\\c7c1.dat\n",
      "c:/users/dhrun.lauwers/git/test\\metastore_db\\seg0\\c7d1.dat\n",
      "c:/users/dhrun.lauwers/git/test\\metastore_db\\seg0\\c7e1.dat\n",
      "c:/users/dhrun.lauwers/git/test\\metastore_db\\seg0\\c7f1.dat\n",
      "c:/users/dhrun.lauwers/git/test\\metastore_db\\seg0\\c801.dat\n",
      "c:/users/dhrun.lauwers/git/test\\metastore_db\\seg0\\c81.dat\n",
      "c:/users/dhrun.lauwers/git/test\\metastore_db\\seg0\\c811.dat\n",
      "c:/users/dhrun.lauwers/git/test\\metastore_db\\seg0\\c821.dat\n",
      "c:/users/dhrun.lauwers/git/test\\metastore_db\\seg0\\c831.dat\n",
      "c:/users/dhrun.lauwers/git/test\\metastore_db\\seg0\\c840.dat\n",
      "c:/users/dhrun.lauwers/git/test\\metastore_db\\seg0\\c851.dat\n",
      "c:/users/dhrun.lauwers/git/test\\metastore_db\\seg0\\c860.dat\n",
      "c:/users/dhrun.lauwers/git/test\\metastore_db\\seg0\\c871.dat\n",
      "c:/users/dhrun.lauwers/git/test\\metastore_db\\seg0\\c880.dat\n",
      "c:/users/dhrun.lauwers/git/test\\metastore_db\\seg0\\c891.dat\n",
      "c:/users/dhrun.lauwers/git/test\\metastore_db\\seg0\\c8a0.dat\n",
      "c:/users/dhrun.lauwers/git/test\\metastore_db\\seg0\\c8b1.dat\n",
      "c:/users/dhrun.lauwers/git/test\\metastore_db\\seg0\\c8c1.dat\n",
      "c:/users/dhrun.lauwers/git/test\\metastore_db\\seg0\\c8d1.dat\n",
      "c:/users/dhrun.lauwers/git/test\\metastore_db\\seg0\\c8e1.dat\n",
      "c:/users/dhrun.lauwers/git/test\\metastore_db\\seg0\\c8f1.dat\n",
      "c:/users/dhrun.lauwers/git/test\\metastore_db\\seg0\\c90.dat\n",
      "c:/users/dhrun.lauwers/git/test\\metastore_db\\seg0\\c901.dat\n",
      "c:/users/dhrun.lauwers/git/test\\metastore_db\\seg0\\c911.dat\n",
      "c:/users/dhrun.lauwers/git/test\\metastore_db\\seg0\\c920.dat\n",
      "c:/users/dhrun.lauwers/git/test\\metastore_db\\seg0\\c931.dat\n",
      "c:/users/dhrun.lauwers/git/test\\metastore_db\\seg0\\c940.dat\n",
      "c:/users/dhrun.lauwers/git/test\\metastore_db\\seg0\\c951.dat\n",
      "c:/users/dhrun.lauwers/git/test\\metastore_db\\seg0\\c960.dat\n",
      "c:/users/dhrun.lauwers/git/test\\metastore_db\\seg0\\c971.dat\n",
      "c:/users/dhrun.lauwers/git/test\\metastore_db\\seg0\\c981.dat\n",
      "c:/users/dhrun.lauwers/git/test\\metastore_db\\seg0\\c990.dat\n",
      "c:/users/dhrun.lauwers/git/test\\metastore_db\\seg0\\c9a1.dat\n",
      "c:/users/dhrun.lauwers/git/test\\metastore_db\\seg0\\c9b1.dat\n",
      "c:/users/dhrun.lauwers/git/test\\metastore_db\\seg0\\c9c0.dat\n",
      "c:/users/dhrun.lauwers/git/test\\metastore_db\\seg0\\c9d1.dat\n",
      "c:/users/dhrun.lauwers/git/test\\metastore_db\\seg0\\c9e0.dat\n",
      "c:/users/dhrun.lauwers/git/test\\metastore_db\\seg0\\c9f1.dat\n",
      "c:/users/dhrun.lauwers/git/test\\metastore_db\\seg0\\ca01.dat\n",
      "c:/users/dhrun.lauwers/git/test\\metastore_db\\seg0\\ca1.dat\n",
      "c:/users/dhrun.lauwers/git/test\\metastore_db\\seg0\\ca11.dat\n",
      "c:/users/dhrun.lauwers/git/test\\metastore_db\\seg0\\ca21.dat\n",
      "c:/users/dhrun.lauwers/git/test\\metastore_db\\seg0\\cb1.dat\n",
      "c:/users/dhrun.lauwers/git/test\\metastore_db\\seg0\\cc0.dat\n",
      "c:/users/dhrun.lauwers/git/test\\metastore_db\\seg0\\cd1.dat\n",
      "c:/users/dhrun.lauwers/git/test\\metastore_db\\seg0\\ce1.dat\n",
      "c:/users/dhrun.lauwers/git/test\\metastore_db\\seg0\\cf0.dat\n",
      "c:/users/dhrun.lauwers/git/test\\metastore_db\\seg0\\README_DO_NOT_TOUCH_FILES.txt\n",
      "c:/users/dhrun.lauwers/git/test\\metastore_db\\service.properties\n",
      "c:/users/dhrun.lauwers/git/test\\Pre-Feature.ipynb\n",
      "c:/users/dhrun.lauwers/git/test\\Size Curve Investigation.ipynb\n",
      "c:/users/dhrun.lauwers/git/test\\Size Curve Model.ipynb\n",
      "c:/users/dhrun.lauwers/git/test\\Untitled.ipynb\n",
      "c:/users/dhrun.lauwers/git/test\\Untitled1.ipynb\n"
     ]
    }
   ],
   "source": [
    "walk('c:/users/dhrun.lauwers/git/')"
   ]
  },
  {
   "cell_type": "markdown",
   "metadata": {},
   "source": [
    "## Catching exceptions\n",
    "\n",
    "To avoid errors when working with files, its best to go ahead and try, and deal with the problems if they happen. This is exactly what the *try* statement does:\n",
    "\n",
    "Python starts by executing the *try* clause. \n",
    "* If all gues well, it skips the *except* clause and proceeds. \n",
    "* If an exception occurs, it jumps out of the *try* clause and runs the *except* clause.\n",
    "\n",
    "Handling an exception with a *try* statement is called *catching* an exception."
   ]
  },
  {
   "cell_type": "code",
   "execution_count": 22,
   "metadata": {},
   "outputs": [
    {
     "name": "stdout",
     "output_type": "stream",
     "text": [
      "Something went wrong.\n"
     ]
    }
   ],
   "source": [
    "try:\n",
    "    fin = open('bad_file.txt')\n",
    "except:\n",
    "    print('Something went wrong.')"
   ]
  },
  {
   "cell_type": "markdown",
   "metadata": {},
   "source": [
    "## Databases\n",
    "A **database** is a file that is organized for storing data. Many databases are organized like a dictionary in the sense that they map from keys to values. The biggest difference between a database and a dictionary is that the database is on disk, so it persists after the program ends\n",
    "\n",
    "The module *dbm* provides an interface for creating and updating database file.\n",
    "\n",
    "Opening a databse is similar to opening other files. The mode 'c' means that the database should be created if it doesnt already exist. The result is a database object that can be used for most operations like a dictionary.\n",
    "\n",
    "When you create a new item, *dbm* updates the database file.\n",
    "\n",
    "When you access one of the items, *dbm* reads the file\n",
    "\n",
    "The result is a **bytes object**, which is why it begins with a 'b'. A bytes object is similar to a string in many ways. "
   ]
  },
  {
   "cell_type": "code",
   "execution_count": 24,
   "metadata": {},
   "outputs": [],
   "source": [
    "import dbm\n",
    "db = dbm.open('captions', 'c')"
   ]
  },
  {
   "cell_type": "code",
   "execution_count": 25,
   "metadata": {},
   "outputs": [
    {
     "data": {
      "text/plain": [
       "b'Photo of John Cleese.'"
      ]
     },
     "execution_count": 25,
     "metadata": {},
     "output_type": "execute_result"
    }
   ],
   "source": [
    "db['cleese.png'] = 'Photo of John Cleese.'\n",
    "db['cleese.png']"
   ]
  },
  {
   "cell_type": "markdown",
   "metadata": {},
   "source": [
    "If you make another assignment to an existing key, *dbm* replaces the existing value."
   ]
  },
  {
   "cell_type": "code",
   "execution_count": 29,
   "metadata": {},
   "outputs": [
    {
     "data": {
      "text/plain": [
       "b'Photo of John Cleese doing a silly walk.'"
      ]
     },
     "execution_count": 29,
     "metadata": {},
     "output_type": "execute_result"
    }
   ],
   "source": [
    "db['cleese.png'] = 'Photo of John Cleese doing a silly walk.'\n",
    "db['cleese.png']"
   ]
  },
  {
   "cell_type": "markdown",
   "metadata": {},
   "source": [
    "Some dictionary methods, like keys and items, don’t work with database objects. But iteration with a for loop works:"
   ]
  },
  {
   "cell_type": "code",
   "execution_count": 30,
   "metadata": {},
   "outputs": [
    {
     "name": "stdout",
     "output_type": "stream",
     "text": [
      "b'cleese.png' b'Photo of John Cleese doing a silly walk.'\n"
     ]
    }
   ],
   "source": [
    "for key in db:\n",
    "    print(key, db[key])"
   ]
  },
  {
   "cell_type": "markdown",
   "metadata": {},
   "source": [
    "## Pickling\n",
    "\n",
    "A limitation of *dbm* is that the keys and values have to be strings or bytes. If you try to use any other type, you get an error.\n",
    "\n",
    "The *pickle* module can help. It translates almost any type of object into a string suitable for storage in a database, and then translates the string back into objects.\n",
    "\n",
    "*pickle.dumps* takes an object as a parameter, and returns a string representation. *pickle.loads* reconstitutes the object."
   ]
  },
  {
   "cell_type": "code",
   "execution_count": 33,
   "metadata": {},
   "outputs": [
    {
     "data": {
      "text/plain": [
       "b'\\x80\\x03]q\\x00(K\\x01K\\x02K\\x03e.'"
      ]
     },
     "execution_count": 33,
     "metadata": {},
     "output_type": "execute_result"
    }
   ],
   "source": [
    "import pickle\n",
    "t = [1,2,3]\n",
    "s = pickle.dumps(t)\n",
    "s"
   ]
  },
  {
   "cell_type": "code",
   "execution_count": 34,
   "metadata": {},
   "outputs": [
    {
     "data": {
      "text/plain": [
       "[1, 2, 3]"
      ]
     },
     "execution_count": 34,
     "metadata": {},
     "output_type": "execute_result"
    }
   ],
   "source": [
    "pickle.loads(s)"
   ]
  },
  {
   "cell_type": "markdown",
   "metadata": {},
   "source": [
    "## Pipes\n",
    "Most operating systems provide a command line interface, also known as a **shell**. Shells usually provide commands to navigate the file system and launch applications.\n",
    "\n",
    "Any program that you can launch from the shell can also be launched from Python using the **pipe object**, which represents a running program.\n",
    "\n",
    "For example, the unix command *ls -l* normally displays the contents of the current directory in long format. You can launch *ls* with *os.popen*:"
   ]
  },
  {
   "cell_type": "code",
   "execution_count": 36,
   "metadata": {},
   "outputs": [],
   "source": [
    "cmd = 'ls -l'\n",
    "fp = os.popen(cmd)"
   ]
  },
  {
   "cell_type": "code",
   "execution_count": 38,
   "metadata": {},
   "outputs": [
    {
     "name": "stdout",
     "output_type": "stream",
     "text": [
      "\n"
     ]
    }
   ],
   "source": [
    "res = fp.read()\n",
    "print(res)"
   ]
  },
  {
   "cell_type": "markdown",
   "metadata": {},
   "source": [
    "## Writing modules\n",
    "Any file that contains Python code can be imported as a module. For example, suppose that you have a file named *wc.py* with some code in a sub-directory of the home directory called 'exercises'. You can import the module as follows:"
   ]
  },
  {
   "cell_type": "code",
   "execution_count": 44,
   "metadata": {},
   "outputs": [],
   "source": [
    "import exercises.wc as wc"
   ]
  },
  {
   "cell_type": "markdown",
   "metadata": {},
   "source": [
    "This creates a module object, which provides the function *linecount*"
   ]
  },
  {
   "cell_type": "code",
   "execution_count": 46,
   "metadata": {},
   "outputs": [
    {
     "data": {
      "text/plain": [
       "<module 'exercises.wc' from 'C:\\\\Users\\\\dhrun.lauwers\\\\git\\\\knowledge-base\\\\data-science\\\\think-python\\\\exercises\\\\wc.py'>"
      ]
     },
     "execution_count": 46,
     "metadata": {},
     "output_type": "execute_result"
    }
   ],
   "source": [
    "wc"
   ]
  },
  {
   "cell_type": "code",
   "execution_count": 48,
   "metadata": {},
   "outputs": [
    {
     "data": {
      "text/plain": [
       "5"
      ]
     },
     "execution_count": 48,
     "metadata": {},
     "output_type": "execute_result"
    }
   ],
   "source": [
    "wc.linecount('exercises/wc.py')"
   ]
  },
  {
   "cell_type": "markdown",
   "metadata": {},
   "source": [
    "Programs that are imported as modules often use the following idiom:"
   ]
  },
  {
   "cell_type": "code",
   "execution_count": 49,
   "metadata": {},
   "outputs": [
    {
     "name": "stdout",
     "output_type": "stream",
     "text": [
      "5\n"
     ]
    }
   ],
   "source": [
    "if __name__ == '__main__':\n",
    "    print(linecount('exercises/wc.py'))"
   ]
  },
  {
   "cell_type": "markdown",
   "metadata": {},
   "source": [
    "*\\_\\_name__* is a built-in variable that is set when the program starts. \n",
    "* If the program is running as a script, *\\_\\_name__* has the value '\\_\\_main__'; which triggers the code in the body of the statement to run. Usually, this contains some test code so you can test the module separately.\n",
    "* If the module is being imported, the code in the body of the statement is skipped"
   ]
  },
  {
   "cell_type": "code",
   "execution_count": null,
   "metadata": {},
   "outputs": [],
   "source": []
  }
 ],
 "metadata": {
  "kernelspec": {
   "display_name": "Python 3",
   "language": "python",
   "name": "python3"
  },
  "language_info": {
   "codemirror_mode": {
    "name": "ipython",
    "version": 3
   },
   "file_extension": ".py",
   "mimetype": "text/x-python",
   "name": "python",
   "nbconvert_exporter": "python",
   "pygments_lexer": "ipython3",
   "version": "3.7.3"
  }
 },
 "nbformat": 4,
 "nbformat_minor": 2
}
