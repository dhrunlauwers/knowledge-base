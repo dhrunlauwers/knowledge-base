{
 "cells": [
  {
   "cell_type": "markdown",
   "metadata": {},
   "source": [
    "# Chapter 4: Case Study - interface design\n",
    "\n",
    "This chapter presents a case study that demonstrates a process for designing functions. We will use the *turtle* module."
   ]
  },
  {
   "cell_type": "code",
   "execution_count": 5,
   "metadata": {},
   "outputs": [],
   "source": [
    "import turtle"
   ]
  },
  {
   "cell_type": "code",
   "execution_count": 6,
   "metadata": {},
   "outputs": [],
   "source": [
    "bob = turtle.Turtle()"
   ]
  },
  {
   "cell_type": "markdown",
   "metadata": {},
   "source": [
    "The turtle module provides a function called Turtle that creates a Turtle object, which we assign to a variable named bob."
   ]
  },
  {
   "cell_type": "code",
   "execution_count": 7,
   "metadata": {},
   "outputs": [
    {
     "name": "stdout",
     "output_type": "stream",
     "text": [
      "<turtle.Turtle object at 0x0000015B77AA8198>\n"
     ]
    }
   ],
   "source": [
    "print(bob)"
   ]
  },
  {
   "cell_type": "markdown",
   "metadata": {},
   "source": [
    "Once you create a Turtle object, you can call a **method** to move it around the window. A method is similar to a function, but it uses slightly different syntax. For example, to move the turtle forward:"
   ]
  },
  {
   "cell_type": "code",
   "execution_count": 8,
   "metadata": {},
   "outputs": [],
   "source": [
    "bob.fd(100)"
   ]
  },
  {
   "cell_type": "markdown",
   "metadata": {},
   "source": [
    "The method fd is a distance in pixels, so the actual size depends on your display. Other methods include:\n",
    "\n",
    "| method name | description |\n",
    "|-------------|-------------|\n",
    "| fd(pixels) | move forward a distance measured in pixels |\n",
    "| lt(degrees) | turn left a number of degrees |\n",
    "| rt(degrees) | turn right a number of degrees |\n",
    "| bk(pixels) | move backward a distance measured in pixels |\n",
    "\n",
    "Rather than repeating the same statements over and over to draw a square, we can use a **loop** to make the flow of execution run through the body multiple times.\n"
   ]
  },
  {
   "cell_type": "code",
   "execution_count": 9,
   "metadata": {},
   "outputs": [],
   "source": [
    "for i in range(4):\n",
    "    bob.lt(90)\n",
    "    bob.fd(100)"
   ]
  },
  {
   "cell_type": "markdown",
   "metadata": {},
   "source": [
    "## Exercises\n",
    "\n",
    "1. Write a function called *square* that takes a parameter named *t*, which is a turtle. It should use the turtle to draw a square."
   ]
  },
  {
   "cell_type": "code",
   "execution_count": 10,
   "metadata": {},
   "outputs": [],
   "source": [
    "def square(t):\n",
    "    for i in range(4):\n",
    "        t.lt(90)\n",
    "        t.fd(100)"
   ]
  },
  {
   "cell_type": "code",
   "execution_count": 11,
   "metadata": {},
   "outputs": [],
   "source": [
    "square(bob)"
   ]
  },
  {
   "cell_type": "markdown",
   "metadata": {},
   "source": [
    "2. Add another parameter, named *length*, to square. Modify the body so length of the sides is length, and then modify the function call to provide a second argument."
   ]
  },
  {
   "cell_type": "code",
   "execution_count": 12,
   "metadata": {},
   "outputs": [],
   "source": [
    "def square(t, length):\n",
    "    for i in range(4):\n",
    "        t.lt(90)\n",
    "        t.fd(length)"
   ]
  },
  {
   "cell_type": "code",
   "execution_count": 13,
   "metadata": {},
   "outputs": [],
   "source": [
    "square(bob, 150)"
   ]
  },
  {
   "cell_type": "code",
   "execution_count": 14,
   "metadata": {},
   "outputs": [],
   "source": [
    "square(bob, 5)"
   ]
  },
  {
   "cell_type": "markdown",
   "metadata": {},
   "source": [
    "3. Make a copy of square and change the name to polygon. add another parameter named n and modify the body so it drawns an n-sided regular polygon."
   ]
  },
  {
   "cell_type": "code",
   "execution_count": 15,
   "metadata": {},
   "outputs": [],
   "source": [
    "def polygon(t, n, length):\n",
    "    degrees = 360 / n\n",
    "    for i in range(n):\n",
    "        t.lt(degrees)\n",
    "        t.fd(length)"
   ]
  },
  {
   "cell_type": "code",
   "execution_count": 16,
   "metadata": {},
   "outputs": [],
   "source": [
    "polygon(bob, 10, 100)"
   ]
  },
  {
   "cell_type": "markdown",
   "metadata": {},
   "source": [
    "4. Write a function called circle that takes a turtle, t, and radius, r, as parameters and that draws an approximate circle by calling polygon with an appropriate length and number of sides."
   ]
  },
  {
   "cell_type": "code",
   "execution_count": 21,
   "metadata": {},
   "outputs": [],
   "source": [
    "import math\n",
    "\n",
    "def circle(t, r):\n",
    "    circumference = 2 * math.pi * r\n",
    "    length = circumference / 360\n",
    "    polygon(t, 360 , length)"
   ]
  },
  {
   "cell_type": "code",
   "execution_count": 22,
   "metadata": {},
   "outputs": [],
   "source": [
    "circle(bob, 150)"
   ]
  },
  {
   "cell_type": "markdown",
   "metadata": {},
   "source": [
    "5. Make a more general version of circle called arc that takes an additional parameter angle, which determines what fraction of a circle to draw. angle is in units of degrees, so when angle = 360, arc should draw a complete circle.e"
   ]
  },
  {
   "cell_type": "code",
   "execution_count": 23,
   "metadata": {},
   "outputs": [],
   "source": [
    "def arc(t, r, angle):\n",
    "    circumference = 2 * math.pi * r\n",
    "    length = circumference / 360\n",
    "    polygon(t, angle , length)"
   ]
  },
  {
   "cell_type": "code",
   "execution_count": 30,
   "metadata": {},
   "outputs": [],
   "source": [
    "arc(bob, 150, 50)"
   ]
  },
  {
   "cell_type": "markdown",
   "metadata": {},
   "source": [
    "## Encapsulation\n",
    "\n",
    "Wrapping a piece of code up in a function is called **encapsulation**.\n",
    "* One of the benefits of encapsulation is that it attaches a name to the code, which serves as a kind of documentation.\n",
    "* Another advantage is that it can be re-used\n",
    "\n",
    "## Generalization\n",
    "\n",
    "Adding additiona parameters to a function can be considered generalization. For example, when you add a length parameter to the square function. \n",
    "\n",
    "## Interface design\n",
    "\n",
    "The **interface** of a function is a summary of how it is used: what are the parameters? What does the function do? And what is the return value? An interface is 'clean' if it allows the caller to do what they want without dealing with unnecessary details. For example, chosing the length of each 'side' of the circle when drawing it rather than making it a parameter.\n",
    "\n",
    "## Refactoring\n",
    "\n",
    "Rearranging a program to improve interfaces and facilitate code re-use is called **refactoring**. \n",
    "\n",
    "## A development plan\n",
    "\n",
    "A **development plan** is a process for writing programs\n",
    "1. Start with small programs with no function definitions.\n",
    "2. Once you get the program working, identify a coherent piece of it, encapsulate the piece in a function and give it a name.\n",
    "3. Generalize the function by adding appropriate parameters.\n",
    "4. Repeat steps 1-3 until you have a set of working functions.\n",
    "5. Look for opportunities to improve the program by refactoring.\n",
    "\n",
    "This process has some drawbacks. We will see more later.\n",
    "\n",
    "## docstring\n",
    "\n",
    "A **docstring** is a string at the beginning of a function that explains the interface (\"doc\" is short for \"documentation\"). Here is an example:"
   ]
  },
  {
   "cell_type": "code",
   "execution_count": 31,
   "metadata": {},
   "outputs": [],
   "source": [
    "def polyline(t, n, length, angle):\n",
    "    \"\"\"Draws n line segments with the given length and angle in degrees between them. t is a turtle.\"\"\"\n",
    "    for i in range(n):\n",
    "        t.fd(length)\n",
    "        t.lt(angle)"
   ]
  },
  {
   "cell_type": "markdown",
   "metadata": {},
   "source": [
    "By convention, all docstrings are triple-qouted. "
   ]
  },
  {
   "cell_type": "code",
   "execution_count": null,
   "metadata": {},
   "outputs": [],
   "source": []
  }
 ],
 "metadata": {
  "kernelspec": {
   "display_name": "Python 3",
   "language": "python",
   "name": "python3"
  },
  "language_info": {
   "codemirror_mode": {
    "name": "ipython",
    "version": 3
   },
   "file_extension": ".py",
   "mimetype": "text/x-python",
   "name": "python",
   "nbconvert_exporter": "python",
   "pygments_lexer": "ipython3",
   "version": "3.7.3"
  }
 },
 "nbformat": 4,
 "nbformat_minor": 2
}
