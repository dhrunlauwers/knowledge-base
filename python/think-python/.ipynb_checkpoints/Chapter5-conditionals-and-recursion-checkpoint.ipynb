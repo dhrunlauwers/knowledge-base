{
 "cells": [
  {
   "cell_type": "markdown",
   "metadata": {},
   "source": [
    "# Chapter 5: Conditionals and recursion\n",
    "\n",
    "## Floor division and modulus\n",
    "\n",
    "There are two division operators:\n",
    "1. **conventional division (/)**: divides two numbers and returns the result as a floating-point number\n",
    "1. **floor division (//)**: divides two numbers and returns the result rounded to an integer\n",
    "2. **modulus operator (%)**: divides two numbers and returns the remainder"
   ]
  },
  {
   "cell_type": "code",
   "execution_count": 1,
   "metadata": {},
   "outputs": [
    {
     "data": {
      "text/plain": [
       "1.75"
      ]
     },
     "execution_count": 1,
     "metadata": {},
     "output_type": "execute_result"
    }
   ],
   "source": [
    "105/60"
   ]
  },
  {
   "cell_type": "code",
   "execution_count": 2,
   "metadata": {},
   "outputs": [
    {
     "data": {
      "text/plain": [
       "1"
      ]
     },
     "execution_count": 2,
     "metadata": {},
     "output_type": "execute_result"
    }
   ],
   "source": [
    "105//60"
   ]
  },
  {
   "cell_type": "code",
   "execution_count": 3,
   "metadata": {},
   "outputs": [
    {
     "data": {
      "text/plain": [
       "45"
      ]
     },
     "execution_count": 3,
     "metadata": {},
     "output_type": "execute_result"
    }
   ],
   "source": [
    "105%60"
   ]
  },
  {
   "cell_type": "markdown",
   "metadata": {},
   "source": [
    "**Tip:** If we want to take the last few digits of an integer, we can use %100 or %1000, etc.."
   ]
  },
  {
   "cell_type": "code",
   "execution_count": 4,
   "metadata": {},
   "outputs": [
    {
     "data": {
      "text/plain": [
       "99"
      ]
     },
     "execution_count": 4,
     "metadata": {},
     "output_type": "execute_result"
    }
   ],
   "source": [
    "199 % 100"
   ]
  },
  {
   "cell_type": "code",
   "execution_count": 5,
   "metadata": {},
   "outputs": [
    {
     "data": {
      "text/plain": [
       "999"
      ]
     },
     "execution_count": 5,
     "metadata": {},
     "output_type": "execute_result"
    }
   ],
   "source": [
    "111999 % 1000"
   ]
  },
  {
   "cell_type": "markdown",
   "metadata": {},
   "source": [
    "## Boolean expression\n",
    "\n",
    "A **boolean** expression is an expression that is either true or false. It is often the result of an equality check performed by operator '=='. For example:"
   ]
  },
  {
   "cell_type": "code",
   "execution_count": 6,
   "metadata": {},
   "outputs": [
    {
     "data": {
      "text/plain": [
       "True"
      ]
     },
     "execution_count": 6,
     "metadata": {},
     "output_type": "execute_result"
    }
   ],
   "source": [
    "1 == 1"
   ]
  },
  {
   "cell_type": "markdown",
   "metadata": {},
   "source": [
    "The full list of equality operators include:\n",
    "\n",
    "| operator | example | description |\n",
    "| :------: | ------- | ----------- |\n",
    "| == | x == y | x is equal to y |\n",
    "| != | x != y | X is not equal to y |\n",
    "| > | x > y | x is greater than y |\n",
    "| < | x < y | x is less than y |\n",
    "| >= | x >= y | x is greater than or equal to y |\n",
    "| <= | x <= y | x is less than or equal to y |\n",
    "\n",
    "**Note:** Remeber that '=' is an assignment operator and '==' is a relational operator.\n",
    "\n",
    "## Logical operators\n",
    "\n",
    "There are three **logical operators**: and, or and not.\n",
    "1. and allows you to test multiple equalities at once. The result will only return true when all equality conditions are met.\n",
    "2. or also allows you to test multiple equalities at once, but returns true if any of the equality conditions are met.\n",
    "3. not negates a boolean expression\n",
    "\n",
    "**Note:** Any non-zero number is interpreted as True\n",
    "\n",
    "## Conditional execution\n",
    "\n",
    "**Conditional statements** allow us to check conditions and change the behaviour of the program accordingly.\n",
    "\n",
    "The simplest form is the *if* statement:"
   ]
  },
  {
   "cell_type": "code",
   "execution_count": 8,
   "metadata": {},
   "outputs": [
    {
     "name": "stdout",
     "output_type": "stream",
     "text": [
      "x is positive\n"
     ]
    }
   ],
   "source": [
    "x = 100\n",
    "if x > 0:\n",
    "    print('x is positive')"
   ]
  },
  {
   "cell_type": "markdown",
   "metadata": {},
   "source": [
    "If statements have the same structure as function definitions: A header followed by an indented body\n",
    "* The boolean expression after *if* is called the **condition**. \n",
    "* Only if the condition is True, then the statements in the body will be run. \n",
    "* There is no limit to the number of statements that appear in the body, but there must be at least one. \n",
    "* If you would like to have a conditional statement without any statements, the *pass* statement can be used (it does nothing)."
   ]
  },
  {
   "cell_type": "code",
   "execution_count": 9,
   "metadata": {},
   "outputs": [],
   "source": [
    "if x < 0:\n",
    "    pass"
   ]
  },
  {
   "cell_type": "markdown",
   "metadata": {},
   "source": [
    "## Alternative execution\n",
    "\n",
    "A second form of the *if* statement allows you to execute a different set of statements if the condition in the header is not met. The second set of instructions is contained in body of the *else* statement. The alternate statements are often referred to as **branches**."
   ]
  },
  {
   "cell_type": "code",
   "execution_count": 11,
   "metadata": {},
   "outputs": [
    {
     "name": "stdout",
     "output_type": "stream",
     "text": [
      "x is even\n"
     ]
    }
   ],
   "source": [
    "if x % 2 == 0:\n",
    "    print('x is even')\n",
    "else:\n",
    "    print('x is odd')"
   ]
  },
  {
   "cell_type": "markdown",
   "metadata": {},
   "source": [
    "## Chained conditionals\n",
    "\n",
    "Sometimes there are more than two possibilities or conditions that require additional branches. One way to express this is using a **chained conditional**. Each set of instructions other than those that belong to the *if* or *else* statement can be contained in an *elif* statement (short for else if). Each condition is checked in order."
   ]
  },
  {
   "cell_type": "code",
   "execution_count": 13,
   "metadata": {},
   "outputs": [
    {
     "name": "stdout",
     "output_type": "stream",
     "text": [
      "x is greater than y\n"
     ]
    }
   ],
   "source": [
    "y = 20\n",
    "if x < y:\n",
    "    print('x is less than y')\n",
    "elif x > y:\n",
    "    print('x is greater than y')\n",
    "else:\n",
    "    print('x and y are equal')"
   ]
  },
  {
   "cell_type": "markdown",
   "metadata": {},
   "source": [
    "## Nested conditions\n",
    "\n",
    "One conditional can be nested into another. Although the indentation of the statements makes the structure apparent, **nested conditionals** become difficult to read very quickly."
   ]
  },
  {
   "cell_type": "code",
   "execution_count": 14,
   "metadata": {},
   "outputs": [
    {
     "name": "stdout",
     "output_type": "stream",
     "text": [
      "x is greater than y\n"
     ]
    }
   ],
   "source": [
    "if x == y:\n",
    "    print('x and y are equal')\n",
    "else:\n",
    "    if x < y:\n",
    "        print('x is less than y')\n",
    "    else:\n",
    "        print('x is greater than y')"
   ]
  },
  {
   "cell_type": "markdown",
   "metadata": {},
   "source": [
    "Logical operators can often provide a way to simplify nested conditional statements."
   ]
  },
  {
   "cell_type": "code",
   "execution_count": 16,
   "metadata": {},
   "outputs": [],
   "source": [
    "if x > 0 and x < 10:\n",
    "    print('x is a positive single-digit number')"
   ]
  },
  {
   "cell_type": "code",
   "execution_count": 17,
   "metadata": {},
   "outputs": [],
   "source": [
    "if 0 < x < 10:\n",
    "    print('x is a positive single-digit number')"
   ]
  },
  {
   "cell_type": "markdown",
   "metadata": {},
   "source": [
    "## Recursion\n",
    "\n",
    "One function can call another, and when one function calls itself it is called **recursive**; the process of executing it is called **recursion**. "
   ]
  },
  {
   "cell_type": "code",
   "execution_count": 20,
   "metadata": {},
   "outputs": [],
   "source": [
    "def countdown(n):\n",
    "    if n <= 0:\n",
    "        print('Blastoff!')\n",
    "    else:\n",
    "        print(n)\n",
    "        countdown(n-1)"
   ]
  },
  {
   "cell_type": "code",
   "execution_count": 21,
   "metadata": {},
   "outputs": [
    {
     "name": "stdout",
     "output_type": "stream",
     "text": [
      "3\n",
      "2\n",
      "1\n",
      "Blastoff!\n"
     ]
    }
   ],
   "source": [
    "countdown(3)"
   ]
  },
  {
   "cell_type": "markdown",
   "metadata": {},
   "source": [
    "## Stack diagrams for recursive functions\n",
    "\n",
    "![](images/5.1.png)\n",
    "\n",
    "## Infinite recursion\n",
    "\n",
    "If recursion never reaches a base case, it goes on making recursive calls forever, and the program never terminates. This is known as **infinite recursion**, and it is generally not a good idea.\n",
    "\n",
    "## Keyboard input\n",
    "\n",
    "Python provides a built-in function called *input* that stops the program and waits for the user to type something. When the user presses Enter or Return, the program resumes and input returns what the user typed as a string."
   ]
  },
  {
   "cell_type": "code",
   "execution_count": 22,
   "metadata": {},
   "outputs": [
    {
     "name": "stdout",
     "output_type": "stream",
     "text": [
      "heres some text\n"
     ]
    },
    {
     "data": {
      "text/plain": [
       "'heres some text'"
      ]
     },
     "execution_count": 22,
     "metadata": {},
     "output_type": "execute_result"
    }
   ],
   "source": [
    "text = input()\n",
    "text"
   ]
  },
  {
   "cell_type": "markdown",
   "metadata": {},
   "source": [
    "Usually, input statements are preceded by a prompt to help the user understand what kind of information should be entered. If the user enters something other than a number or a string of digits, you get an error."
   ]
  },
  {
   "cell_type": "code",
   "execution_count": null,
   "metadata": {},
   "outputs": [],
   "source": []
  }
 ],
 "metadata": {
  "kernelspec": {
   "display_name": "Python 3",
   "language": "python",
   "name": "python3"
  },
  "language_info": {
   "codemirror_mode": {
    "name": "ipython",
    "version": 3
   },
   "file_extension": ".py",
   "mimetype": "text/x-python",
   "name": "python",
   "nbconvert_exporter": "python",
   "pygments_lexer": "ipython3",
   "version": "3.7.3"
  }
 },
 "nbformat": 4,
 "nbformat_minor": 2
}
